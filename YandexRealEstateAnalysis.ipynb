{
 "cells": [
  {
   "cell_type": "markdown",
   "metadata": {},
   "source": [
    "<img src=\"yandex.jpg\">"
   ]
  },
  {
   "cell_type": "markdown",
   "metadata": {},
   "source": [
    "# Исследование объявлений о продаже квартир  \n",
    "В нашем распоряжении данные сервиса Яндекс.Недвижимость — архив объявлений о продаже квартир в Санкт-Петербурге и соседних населённых пунктах за несколько лет.  \n",
    "\n",
    "**Задачи:**  \n",
    "- Исследовать параметры для определения рыночной стоимости объектов недвижимости\n",
    "- Отследить аномалии в данных, установить возможные причины их появления"
   ]
  },
  {
   "cell_type": "markdown",
   "metadata": {},
   "source": [
    "## Описание признаков  \n",
    "- airports_nearest — расстояние до ближайшего аэропорта в метрах (м)  \n",
    "- balcony — число балконов  \n",
    "- ceiling_height — высота потолков (м)  \n",
    "- cityCenters_nearest — расстояние до центра города (м)  \n",
    "- days_exposition — сколько дней было размещено объявление (от публикации до снятия)  \n",
    "- first_day_exposition — дата публикации  \n",
    "- floor — этаж   \n",
    "- floors_total — всего этажей в доме   \n",
    "- is_apartment — апартаменты (булев тип)  \n",
    "- kitchen_area — площадь кухни в квадратных метрах (м²)   \n",
    "- last_price — цена на момент снятия с публикации     \n",
    "- living_area — жилая площадь в квадратных метрах (м²)  \n",
    "- locality_name — название населённого пункта  \n",
    "- open_plan — свободная планировка (булев тип)  \n",
    "- parks_around3000 — число парков в радиусе 3 км  \n",
    "- parks_nearest — расстояние до ближайшего парка (м)  \n",
    "- ponds_around3000 — число водоёмов в радиусе 3 км  \n",
    "- ponds_nearest — расстояние до ближайшего водоёма (м)  \n",
    "- rooms — число комнат  \n",
    "- studio — квартира-студия (булев тип)  \n",
    "- total_area — общая площадь квартиры в квадратных метрах (м²)  \n",
    "- total_images — число фотографий квартиры в объявлении  "
   ]
  },
  {
   "cell_type": "markdown",
   "metadata": {},
   "source": [
    "## 1. Предварительный анализ данных"
   ]
  },
  {
   "cell_type": "code",
   "execution_count": 126,
   "metadata": {},
   "outputs": [],
   "source": [
    "import numpy as np\n",
    "import pandas as pd\n",
    "import seaborn as sns\n",
    "import warnings\n",
    "warnings.simplefilter('ignore')\n",
    "\n",
    "data = pd.read_csv('real_estate_data.csv', delimiter='\\t')"
   ]
  },
  {
   "cell_type": "code",
   "execution_count": 127,
   "metadata": {
    "scrolled": true
   },
   "outputs": [
    {
     "data": {
      "text/html": [
       "<div>\n",
       "<style scoped>\n",
       "    .dataframe tbody tr th:only-of-type {\n",
       "        vertical-align: middle;\n",
       "    }\n",
       "\n",
       "    .dataframe tbody tr th {\n",
       "        vertical-align: top;\n",
       "    }\n",
       "\n",
       "    .dataframe thead th {\n",
       "        text-align: right;\n",
       "    }\n",
       "</style>\n",
       "<table border=\"1\" class=\"dataframe\">\n",
       "  <thead>\n",
       "    <tr style=\"text-align: right;\">\n",
       "      <th></th>\n",
       "      <th>total_images</th>\n",
       "      <th>last_price</th>\n",
       "      <th>total_area</th>\n",
       "      <th>first_day_exposition</th>\n",
       "      <th>rooms</th>\n",
       "      <th>ceiling_height</th>\n",
       "      <th>floors_total</th>\n",
       "      <th>living_area</th>\n",
       "      <th>floor</th>\n",
       "      <th>is_apartment</th>\n",
       "      <th>...</th>\n",
       "      <th>kitchen_area</th>\n",
       "      <th>balcony</th>\n",
       "      <th>locality_name</th>\n",
       "      <th>airports_nearest</th>\n",
       "      <th>cityCenters_nearest</th>\n",
       "      <th>parks_around3000</th>\n",
       "      <th>parks_nearest</th>\n",
       "      <th>ponds_around3000</th>\n",
       "      <th>ponds_nearest</th>\n",
       "      <th>days_exposition</th>\n",
       "    </tr>\n",
       "  </thead>\n",
       "  <tbody>\n",
       "    <tr>\n",
       "      <th>0</th>\n",
       "      <td>20</td>\n",
       "      <td>13000000.0</td>\n",
       "      <td>108.0</td>\n",
       "      <td>2019-03-07T00:00:00</td>\n",
       "      <td>3</td>\n",
       "      <td>2.70</td>\n",
       "      <td>16.0</td>\n",
       "      <td>51.0</td>\n",
       "      <td>8</td>\n",
       "      <td>NaN</td>\n",
       "      <td>...</td>\n",
       "      <td>25.0</td>\n",
       "      <td>NaN</td>\n",
       "      <td>Санкт-Петербург</td>\n",
       "      <td>18863.0</td>\n",
       "      <td>16028.0</td>\n",
       "      <td>1.0</td>\n",
       "      <td>482.0</td>\n",
       "      <td>2.0</td>\n",
       "      <td>755.0</td>\n",
       "      <td>NaN</td>\n",
       "    </tr>\n",
       "    <tr>\n",
       "      <th>1</th>\n",
       "      <td>7</td>\n",
       "      <td>3350000.0</td>\n",
       "      <td>40.4</td>\n",
       "      <td>2018-12-04T00:00:00</td>\n",
       "      <td>1</td>\n",
       "      <td>NaN</td>\n",
       "      <td>11.0</td>\n",
       "      <td>18.6</td>\n",
       "      <td>1</td>\n",
       "      <td>NaN</td>\n",
       "      <td>...</td>\n",
       "      <td>11.0</td>\n",
       "      <td>2.0</td>\n",
       "      <td>посёлок Шушары</td>\n",
       "      <td>12817.0</td>\n",
       "      <td>18603.0</td>\n",
       "      <td>0.0</td>\n",
       "      <td>NaN</td>\n",
       "      <td>0.0</td>\n",
       "      <td>NaN</td>\n",
       "      <td>81.0</td>\n",
       "    </tr>\n",
       "    <tr>\n",
       "      <th>2</th>\n",
       "      <td>10</td>\n",
       "      <td>5196000.0</td>\n",
       "      <td>56.0</td>\n",
       "      <td>2015-08-20T00:00:00</td>\n",
       "      <td>2</td>\n",
       "      <td>NaN</td>\n",
       "      <td>5.0</td>\n",
       "      <td>34.3</td>\n",
       "      <td>4</td>\n",
       "      <td>NaN</td>\n",
       "      <td>...</td>\n",
       "      <td>8.3</td>\n",
       "      <td>0.0</td>\n",
       "      <td>Санкт-Петербург</td>\n",
       "      <td>21741.0</td>\n",
       "      <td>13933.0</td>\n",
       "      <td>1.0</td>\n",
       "      <td>90.0</td>\n",
       "      <td>2.0</td>\n",
       "      <td>574.0</td>\n",
       "      <td>558.0</td>\n",
       "    </tr>\n",
       "    <tr>\n",
       "      <th>3</th>\n",
       "      <td>0</td>\n",
       "      <td>64900000.0</td>\n",
       "      <td>159.0</td>\n",
       "      <td>2015-07-24T00:00:00</td>\n",
       "      <td>3</td>\n",
       "      <td>NaN</td>\n",
       "      <td>14.0</td>\n",
       "      <td>NaN</td>\n",
       "      <td>9</td>\n",
       "      <td>NaN</td>\n",
       "      <td>...</td>\n",
       "      <td>NaN</td>\n",
       "      <td>0.0</td>\n",
       "      <td>Санкт-Петербург</td>\n",
       "      <td>28098.0</td>\n",
       "      <td>6800.0</td>\n",
       "      <td>2.0</td>\n",
       "      <td>84.0</td>\n",
       "      <td>3.0</td>\n",
       "      <td>234.0</td>\n",
       "      <td>424.0</td>\n",
       "    </tr>\n",
       "    <tr>\n",
       "      <th>4</th>\n",
       "      <td>2</td>\n",
       "      <td>10000000.0</td>\n",
       "      <td>100.0</td>\n",
       "      <td>2018-06-19T00:00:00</td>\n",
       "      <td>2</td>\n",
       "      <td>3.03</td>\n",
       "      <td>14.0</td>\n",
       "      <td>32.0</td>\n",
       "      <td>13</td>\n",
       "      <td>NaN</td>\n",
       "      <td>...</td>\n",
       "      <td>41.0</td>\n",
       "      <td>NaN</td>\n",
       "      <td>Санкт-Петербург</td>\n",
       "      <td>31856.0</td>\n",
       "      <td>8098.0</td>\n",
       "      <td>2.0</td>\n",
       "      <td>112.0</td>\n",
       "      <td>1.0</td>\n",
       "      <td>48.0</td>\n",
       "      <td>121.0</td>\n",
       "    </tr>\n",
       "  </tbody>\n",
       "</table>\n",
       "<p>5 rows × 22 columns</p>\n",
       "</div>"
      ],
      "text/plain": [
       "   total_images  last_price  total_area first_day_exposition  rooms  \\\n",
       "0            20  13000000.0       108.0  2019-03-07T00:00:00      3   \n",
       "1             7   3350000.0        40.4  2018-12-04T00:00:00      1   \n",
       "2            10   5196000.0        56.0  2015-08-20T00:00:00      2   \n",
       "3             0  64900000.0       159.0  2015-07-24T00:00:00      3   \n",
       "4             2  10000000.0       100.0  2018-06-19T00:00:00      2   \n",
       "\n",
       "   ceiling_height  floors_total  living_area  floor is_apartment  ...  \\\n",
       "0            2.70          16.0         51.0      8          NaN  ...   \n",
       "1             NaN          11.0         18.6      1          NaN  ...   \n",
       "2             NaN           5.0         34.3      4          NaN  ...   \n",
       "3             NaN          14.0          NaN      9          NaN  ...   \n",
       "4            3.03          14.0         32.0     13          NaN  ...   \n",
       "\n",
       "   kitchen_area  balcony    locality_name  airports_nearest  \\\n",
       "0          25.0      NaN  Санкт-Петербург           18863.0   \n",
       "1          11.0      2.0   посёлок Шушары           12817.0   \n",
       "2           8.3      0.0  Санкт-Петербург           21741.0   \n",
       "3           NaN      0.0  Санкт-Петербург           28098.0   \n",
       "4          41.0      NaN  Санкт-Петербург           31856.0   \n",
       "\n",
       "  cityCenters_nearest  parks_around3000  parks_nearest  ponds_around3000  \\\n",
       "0             16028.0               1.0          482.0               2.0   \n",
       "1             18603.0               0.0            NaN               0.0   \n",
       "2             13933.0               1.0           90.0               2.0   \n",
       "3              6800.0               2.0           84.0               3.0   \n",
       "4              8098.0               2.0          112.0               1.0   \n",
       "\n",
       "   ponds_nearest  days_exposition  \n",
       "0          755.0              NaN  \n",
       "1            NaN             81.0  \n",
       "2          574.0            558.0  \n",
       "3          234.0            424.0  \n",
       "4           48.0            121.0  \n",
       "\n",
       "[5 rows x 22 columns]"
      ]
     },
     "execution_count": 127,
     "metadata": {},
     "output_type": "execute_result"
    }
   ],
   "source": [
    "data.head(5)"
   ]
  },
  {
   "cell_type": "code",
   "execution_count": 128,
   "metadata": {},
   "outputs": [
    {
     "data": {
      "text/plain": [
       "(23699, 22)"
      ]
     },
     "execution_count": 128,
     "metadata": {},
     "output_type": "execute_result"
    }
   ],
   "source": [
    "data.shape"
   ]
  },
  {
   "cell_type": "code",
   "execution_count": 129,
   "metadata": {},
   "outputs": [
    {
     "data": {
      "text/plain": [
       "False    23699\n",
       "dtype: int64"
      ]
     },
     "execution_count": 129,
     "metadata": {},
     "output_type": "execute_result"
    }
   ],
   "source": [
    "data.duplicated().value_counts()"
   ]
  },
  {
   "cell_type": "code",
   "execution_count": 130,
   "metadata": {},
   "outputs": [
    {
     "name": "stdout",
     "output_type": "stream",
     "text": [
      "<class 'pandas.core.frame.DataFrame'>\n",
      "RangeIndex: 23699 entries, 0 to 23698\n",
      "Data columns (total 22 columns):\n",
      " #   Column                Non-Null Count  Dtype  \n",
      "---  ------                --------------  -----  \n",
      " 0   total_images          23699 non-null  int64  \n",
      " 1   last_price            23699 non-null  float64\n",
      " 2   total_area            23699 non-null  float64\n",
      " 3   first_day_exposition  23699 non-null  object \n",
      " 4   rooms                 23699 non-null  int64  \n",
      " 5   ceiling_height        14504 non-null  float64\n",
      " 6   floors_total          23613 non-null  float64\n",
      " 7   living_area           21796 non-null  float64\n",
      " 8   floor                 23699 non-null  int64  \n",
      " 9   is_apartment          2775 non-null   object \n",
      " 10  studio                23699 non-null  bool   \n",
      " 11  open_plan             23699 non-null  bool   \n",
      " 12  kitchen_area          21421 non-null  float64\n",
      " 13  balcony               12180 non-null  float64\n",
      " 14  locality_name         23650 non-null  object \n",
      " 15  airports_nearest      18157 non-null  float64\n",
      " 16  cityCenters_nearest   18180 non-null  float64\n",
      " 17  parks_around3000      18181 non-null  float64\n",
      " 18  parks_nearest         8079 non-null   float64\n",
      " 19  ponds_around3000      18181 non-null  float64\n",
      " 20  ponds_nearest         9110 non-null   float64\n",
      " 21  days_exposition       20518 non-null  float64\n",
      "dtypes: bool(2), float64(14), int64(3), object(3)\n",
      "memory usage: 3.7+ MB\n"
     ]
    }
   ],
   "source": [
    "data.info()"
   ]
  },
  {
   "cell_type": "markdown",
   "metadata": {},
   "source": [
    "Видно, что явных дубликатов не оказалось, но в данных есть множество пустых значений в большинстве столбцов.  \n",
    "Рассмотрим каждый столбец детально."
   ]
  },
  {
   "cell_type": "code",
   "execution_count": 131,
   "metadata": {
    "scrolled": false
   },
   "outputs": [
    {
     "data": {
      "text/plain": [
       "array([[<AxesSubplot:title={'center':'total_images'}>,\n",
       "        <AxesSubplot:title={'center':'last_price'}>,\n",
       "        <AxesSubplot:title={'center':'total_area'}>,\n",
       "        <AxesSubplot:title={'center':'rooms'}>],\n",
       "       [<AxesSubplot:title={'center':'ceiling_height'}>,\n",
       "        <AxesSubplot:title={'center':'floors_total'}>,\n",
       "        <AxesSubplot:title={'center':'living_area'}>,\n",
       "        <AxesSubplot:title={'center':'floor'}>],\n",
       "       [<AxesSubplot:title={'center':'kitchen_area'}>,\n",
       "        <AxesSubplot:title={'center':'balcony'}>,\n",
       "        <AxesSubplot:title={'center':'airports_nearest'}>,\n",
       "        <AxesSubplot:title={'center':'cityCenters_nearest'}>],\n",
       "       [<AxesSubplot:title={'center':'parks_around3000'}>,\n",
       "        <AxesSubplot:title={'center':'parks_nearest'}>,\n",
       "        <AxesSubplot:title={'center':'ponds_around3000'}>,\n",
       "        <AxesSubplot:title={'center':'ponds_nearest'}>],\n",
       "       [<AxesSubplot:title={'center':'days_exposition'}>, <AxesSubplot:>,\n",
       "        <AxesSubplot:>, <AxesSubplot:>]], dtype=object)"
      ]
     },
     "execution_count": 131,
     "metadata": {},
     "output_type": "execute_result"
    },
    {
     "data": {
      "image/png": "[encoded data removed]",
      "text/plain": [
       "<Figure size 1080x1440 with 20 Axes>"
      ]
     },
     "metadata": {
      "needs_background": "light"
     },
     "output_type": "display_data"
    }
   ],
   "source": [
    "data.hist(figsize=(15, 20))"
   ]
  },
  {
   "cell_type": "markdown",
   "metadata": {},
   "source": [
    "**Вывод:** Видим, что только в первых 5 колонках из 22 отсутствуют пустые значения, а подавляющее большинство признаков необоснованно приведено к типу float - попытаемся всё это исправить в дальнейшем. Явных дубликатов в таблице не оказалось. Распределения кажутся близкими к нормальным и особых аномалий на этом этапе не замечено, однако ситуация может поменяться при детальном рассмотрении."
   ]
  },
  {
   "cell_type": "markdown",
   "metadata": {},
   "source": [
    "## 2. Предобработка данных"
   ]
  },
  {
   "cell_type": "markdown",
   "metadata": {},
   "source": [
    "### Количество фото в объявлении"
   ]
  },
  {
   "cell_type": "code",
   "execution_count": 132,
   "metadata": {},
   "outputs": [
    {
     "data": {
      "text/plain": [
       "<AxesSubplot:>"
      ]
     },
     "execution_count": 132,
     "metadata": {},
     "output_type": "execute_result"
    },
    {
     "data": {
      "image/png": "[encoded data removed]",
      "text/plain": [
       "<Figure size 432x288 with 1 Axes>"
      ]
     },
     "metadata": {
      "needs_background": "light"
     },
     "output_type": "display_data"
    }
   ],
   "source": [
    "data['total_images'].hist(bins=30)"
   ]
  },
  {
   "cell_type": "markdown",
   "metadata": {},
   "source": [
    "Количество фотографий в объявлениях везде корректно и не требует вмешательства."
   ]
  },
  {
   "cell_type": "markdown",
   "metadata": {},
   "source": [
    "### Цена на момент снятия с публикации"
   ]
  },
  {
   "cell_type": "code",
   "execution_count": 133,
   "metadata": {
    "scrolled": false
   },
   "outputs": [
    {
     "data": {
      "text/plain": [
       "4500000.0     342\n",
       "3500000.0     291\n",
       "4300000.0     260\n",
       "4000000.0     260\n",
       "4200000.0     259\n",
       "             ... \n",
       "12890000.0      1\n",
       "29375000.0      1\n",
       "7545600.0       1\n",
       "5205000.0       1\n",
       "11475000.0      1\n",
       "Name: last_price, Length: 2978, dtype: int64"
      ]
     },
     "execution_count": 133,
     "metadata": {},
     "output_type": "execute_result"
    }
   ],
   "source": [
    "data['last_price'].value_counts()"
   ]
  },
  {
   "cell_type": "markdown",
   "metadata": {},
   "source": [
    "Цену на момент публикации можно привести к типу integer."
   ]
  },
  {
   "cell_type": "code",
   "execution_count": 134,
   "metadata": {},
   "outputs": [],
   "source": [
    "data['last_price'] = data['last_price'].astype('int')"
   ]
  },
  {
   "cell_type": "markdown",
   "metadata": {},
   "source": [
    "### Общая площадь"
   ]
  },
  {
   "cell_type": "code",
   "execution_count": 135,
   "metadata": {
    "scrolled": false
   },
   "outputs": [
    {
     "data": {
      "text/plain": [
       "count    23699.000000\n",
       "mean        60.348651\n",
       "std         35.654083\n",
       "min         12.000000\n",
       "25%         40.000000\n",
       "50%         52.000000\n",
       "75%         69.900000\n",
       "max        900.000000\n",
       "Name: total_area, dtype: float64"
      ]
     },
     "execution_count": 135,
     "metadata": {},
     "output_type": "execute_result"
    }
   ],
   "source": [
    "data['total_area'].describe()"
   ]
  },
  {
   "cell_type": "markdown",
   "metadata": {},
   "source": [
    "Минимальная площадь квартиры в датасете составляет 12 кв. метров, а максимальная - 900.  \n",
    "Взглянем на квартиры с большими площадями, чтобы попытаться распознать аномалии."
   ]
  },
  {
   "cell_type": "code",
   "execution_count": 136,
   "metadata": {
    "scrolled": false
   },
   "outputs": [
    {
     "data": {
      "text/html": [
       "<div>\n",
       "<style scoped>\n",
       "    .dataframe tbody tr th:only-of-type {\n",
       "        vertical-align: middle;\n",
       "    }\n",
       "\n",
       "    .dataframe tbody tr th {\n",
       "        vertical-align: top;\n",
       "    }\n",
       "\n",
       "    .dataframe thead th {\n",
       "        text-align: right;\n",
       "    }\n",
       "</style>\n",
       "<table border=\"1\" class=\"dataframe\">\n",
       "  <thead>\n",
       "    <tr style=\"text-align: right;\">\n",
       "      <th></th>\n",
       "      <th>total_images</th>\n",
       "      <th>last_price</th>\n",
       "      <th>total_area</th>\n",
       "      <th>first_day_exposition</th>\n",
       "      <th>rooms</th>\n",
       "      <th>ceiling_height</th>\n",
       "      <th>floors_total</th>\n",
       "      <th>living_area</th>\n",
       "      <th>floor</th>\n",
       "      <th>is_apartment</th>\n",
       "      <th>...</th>\n",
       "      <th>kitchen_area</th>\n",
       "      <th>balcony</th>\n",
       "      <th>locality_name</th>\n",
       "      <th>airports_nearest</th>\n",
       "      <th>cityCenters_nearest</th>\n",
       "      <th>parks_around3000</th>\n",
       "      <th>parks_nearest</th>\n",
       "      <th>ponds_around3000</th>\n",
       "      <th>ponds_nearest</th>\n",
       "      <th>days_exposition</th>\n",
       "    </tr>\n",
       "  </thead>\n",
       "  <tbody>\n",
       "    <tr>\n",
       "      <th>19540</th>\n",
       "      <td>8</td>\n",
       "      <td>420000000</td>\n",
       "      <td>900.0</td>\n",
       "      <td>2017-12-06T00:00:00</td>\n",
       "      <td>12</td>\n",
       "      <td>2.8</td>\n",
       "      <td>25.0</td>\n",
       "      <td>409.7</td>\n",
       "      <td>25</td>\n",
       "      <td>NaN</td>\n",
       "      <td>...</td>\n",
       "      <td>112.0</td>\n",
       "      <td>NaN</td>\n",
       "      <td>Санкт-Петербург</td>\n",
       "      <td>30706.0</td>\n",
       "      <td>7877.0</td>\n",
       "      <td>0.0</td>\n",
       "      <td>NaN</td>\n",
       "      <td>2.0</td>\n",
       "      <td>318.0</td>\n",
       "      <td>106.0</td>\n",
       "    </tr>\n",
       "    <tr>\n",
       "      <th>12859</th>\n",
       "      <td>20</td>\n",
       "      <td>140000000</td>\n",
       "      <td>631.2</td>\n",
       "      <td>2019-04-09T00:00:00</td>\n",
       "      <td>7</td>\n",
       "      <td>3.9</td>\n",
       "      <td>4.0</td>\n",
       "      <td>322.3</td>\n",
       "      <td>4</td>\n",
       "      <td>NaN</td>\n",
       "      <td>...</td>\n",
       "      <td>19.5</td>\n",
       "      <td>1.0</td>\n",
       "      <td>Санкт-Петербург</td>\n",
       "      <td>25707.0</td>\n",
       "      <td>4972.0</td>\n",
       "      <td>0.0</td>\n",
       "      <td>NaN</td>\n",
       "      <td>2.0</td>\n",
       "      <td>210.0</td>\n",
       "      <td>NaN</td>\n",
       "    </tr>\n",
       "    <tr>\n",
       "      <th>3117</th>\n",
       "      <td>19</td>\n",
       "      <td>140000000</td>\n",
       "      <td>631.0</td>\n",
       "      <td>2019-03-30T00:00:00</td>\n",
       "      <td>7</td>\n",
       "      <td>NaN</td>\n",
       "      <td>5.0</td>\n",
       "      <td>NaN</td>\n",
       "      <td>5</td>\n",
       "      <td>NaN</td>\n",
       "      <td>...</td>\n",
       "      <td>60.0</td>\n",
       "      <td>NaN</td>\n",
       "      <td>Санкт-Петербург</td>\n",
       "      <td>25707.0</td>\n",
       "      <td>4972.0</td>\n",
       "      <td>0.0</td>\n",
       "      <td>NaN</td>\n",
       "      <td>2.0</td>\n",
       "      <td>210.0</td>\n",
       "      <td>NaN</td>\n",
       "    </tr>\n",
       "    <tr>\n",
       "      <th>15651</th>\n",
       "      <td>20</td>\n",
       "      <td>300000000</td>\n",
       "      <td>618.0</td>\n",
       "      <td>2017-12-18T00:00:00</td>\n",
       "      <td>7</td>\n",
       "      <td>3.4</td>\n",
       "      <td>7.0</td>\n",
       "      <td>258.0</td>\n",
       "      <td>5</td>\n",
       "      <td>NaN</td>\n",
       "      <td>...</td>\n",
       "      <td>70.0</td>\n",
       "      <td>NaN</td>\n",
       "      <td>Санкт-Петербург</td>\n",
       "      <td>32440.0</td>\n",
       "      <td>5297.0</td>\n",
       "      <td>0.0</td>\n",
       "      <td>NaN</td>\n",
       "      <td>2.0</td>\n",
       "      <td>198.0</td>\n",
       "      <td>111.0</td>\n",
       "    </tr>\n",
       "    <tr>\n",
       "      <th>5358</th>\n",
       "      <td>20</td>\n",
       "      <td>65000000</td>\n",
       "      <td>590.0</td>\n",
       "      <td>2019-02-14T00:00:00</td>\n",
       "      <td>15</td>\n",
       "      <td>3.5</td>\n",
       "      <td>6.0</td>\n",
       "      <td>409.0</td>\n",
       "      <td>3</td>\n",
       "      <td>NaN</td>\n",
       "      <td>...</td>\n",
       "      <td>100.0</td>\n",
       "      <td>NaN</td>\n",
       "      <td>Санкт-Петербург</td>\n",
       "      <td>24447.0</td>\n",
       "      <td>4666.0</td>\n",
       "      <td>1.0</td>\n",
       "      <td>767.0</td>\n",
       "      <td>0.0</td>\n",
       "      <td>NaN</td>\n",
       "      <td>14.0</td>\n",
       "    </tr>\n",
       "  </tbody>\n",
       "</table>\n",
       "<p>5 rows × 22 columns</p>\n",
       "</div>"
      ],
      "text/plain": [
       "       total_images  last_price  total_area first_day_exposition  rooms  \\\n",
       "19540             8   420000000       900.0  2017-12-06T00:00:00     12   \n",
       "12859            20   140000000       631.2  2019-04-09T00:00:00      7   \n",
       "3117             19   140000000       631.0  2019-03-30T00:00:00      7   \n",
       "15651            20   300000000       618.0  2017-12-18T00:00:00      7   \n",
       "5358             20    65000000       590.0  2019-02-14T00:00:00     15   \n",
       "\n",
       "       ceiling_height  floors_total  living_area  floor is_apartment  ...  \\\n",
       "19540             2.8          25.0        409.7     25          NaN  ...   \n",
       "12859             3.9           4.0        322.3      4          NaN  ...   \n",
       "3117              NaN           5.0          NaN      5          NaN  ...   \n",
       "15651             3.4           7.0        258.0      5          NaN  ...   \n",
       "5358              3.5           6.0        409.0      3          NaN  ...   \n",
       "\n",
       "       kitchen_area  balcony    locality_name  airports_nearest  \\\n",
       "19540         112.0      NaN  Санкт-Петербург           30706.0   \n",
       "12859          19.5      1.0  Санкт-Петербург           25707.0   \n",
       "3117           60.0      NaN  Санкт-Петербург           25707.0   \n",
       "15651          70.0      NaN  Санкт-Петербург           32440.0   \n",
       "5358          100.0      NaN  Санкт-Петербург           24447.0   \n",
       "\n",
       "      cityCenters_nearest  parks_around3000  parks_nearest  ponds_around3000  \\\n",
       "19540              7877.0               0.0            NaN               2.0   \n",
       "12859              4972.0               0.0            NaN               2.0   \n",
       "3117               4972.0               0.0            NaN               2.0   \n",
       "15651              5297.0               0.0            NaN               2.0   \n",
       "5358               4666.0               1.0          767.0               0.0   \n",
       "\n",
       "       ponds_nearest  days_exposition  \n",
       "19540          318.0            106.0  \n",
       "12859          210.0              NaN  \n",
       "3117           210.0              NaN  \n",
       "15651          198.0            111.0  \n",
       "5358             NaN             14.0  \n",
       "\n",
       "[5 rows x 22 columns]"
      ]
     },
     "execution_count": 136,
     "metadata": {},
     "output_type": "execute_result"
    }
   ],
   "source": [
    "data[data['total_area'] > 150].sort_values(by='total_area', ascending=False).head(5)"
   ]
  },
  {
   "cell_type": "markdown",
   "metadata": {},
   "source": [
    "Видим, что квартиры с огромной площадью отнюдь не являются аномалией."
   ]
  },
  {
   "cell_type": "markdown",
   "metadata": {},
   "source": [
    "### Дата публикации объявления"
   ]
  },
  {
   "cell_type": "code",
   "execution_count": 137,
   "metadata": {},
   "outputs": [
    {
     "data": {
      "text/plain": [
       "2018-02-01T00:00:00    368\n",
       "2017-11-10T00:00:00    240\n",
       "2017-10-13T00:00:00    124\n",
       "2017-09-27T00:00:00    111\n",
       "2018-03-26T00:00:00     97\n",
       "                      ... \n",
       "2018-05-20T00:00:00      1\n",
       "2015-05-15T00:00:00      1\n",
       "2015-01-12T00:00:00      1\n",
       "2015-12-19T00:00:00      1\n",
       "2015-07-19T00:00:00      1\n",
       "Name: first_day_exposition, Length: 1491, dtype: int64"
      ]
     },
     "execution_count": 137,
     "metadata": {},
     "output_type": "execute_result"
    }
   ],
   "source": [
    "data['first_day_exposition'].value_counts()"
   ]
  },
  {
   "cell_type": "markdown",
   "metadata": {},
   "source": [
    "В столбце даты публикации не указано точное время, поэтому стоит убрать лишние нули для удобства восприятия."
   ]
  },
  {
   "cell_type": "code",
   "execution_count": 138,
   "metadata": {
    "scrolled": false
   },
   "outputs": [
    {
     "data": {
      "text/plain": [
       "9319   2017-04-27\n",
       "Name: first_day_exposition, dtype: datetime64[ns]"
      ]
     },
     "execution_count": 138,
     "metadata": {},
     "output_type": "execute_result"
    }
   ],
   "source": [
    "data['first_day_exposition'] = pd.to_datetime(data['first_day_exposition'], format='%Y-%m-%d')\n",
    "data['first_day_exposition'].sample(1)"
   ]
  },
  {
   "cell_type": "markdown",
   "metadata": {},
   "source": [
    "### Количество комнат"
   ]
  },
  {
   "cell_type": "code",
   "execution_count": 139,
   "metadata": {
    "scrolled": true
   },
   "outputs": [
    {
     "data": {
      "text/plain": [
       "<AxesSubplot:>"
      ]
     },
     "execution_count": 139,
     "metadata": {},
     "output_type": "execute_result"
    },
    {
     "data": {
      "image/png": "[encoded data removed]",
      "text/plain": [
       "<Figure size 432x288 with 1 Axes>"
      ]
     },
     "metadata": {
      "needs_background": "light"
     },
     "output_type": "display_data"
    }
   ],
   "source": [
    "data['rooms'].hist(bins=40, range=(0, 20))"
   ]
  },
  {
   "cell_type": "markdown",
   "metadata": {},
   "source": [
    "### Высота потолков"
   ]
  },
  {
   "cell_type": "code",
   "execution_count": 140,
   "metadata": {},
   "outputs": [
    {
     "data": {
      "text/plain": [
       "2.50    3515\n",
       "2.60    1646\n",
       "2.70    1574\n",
       "3.00    1112\n",
       "2.80     993\n",
       "        ... \n",
       "5.00       1\n",
       "2.20       1\n",
       "2.34       1\n",
       "3.93       1\n",
       "3.59       1\n",
       "Name: ceiling_height, Length: 183, dtype: int64"
      ]
     },
     "execution_count": 140,
     "metadata": {},
     "output_type": "execute_result"
    }
   ],
   "source": [
    "data['ceiling_height'].value_counts()"
   ]
  },
  {
   "cell_type": "code",
   "execution_count": 141,
   "metadata": {},
   "outputs": [
    {
     "data": {
      "text/plain": [
       "2.65"
      ]
     },
     "execution_count": 141,
     "metadata": {},
     "output_type": "execute_result"
    }
   ],
   "source": [
    "data['ceiling_height'].median()"
   ]
  },
  {
   "cell_type": "markdown",
   "metadata": {},
   "source": [
    "В российских квартирах высота потолков обычно составляет 2.5-2.7 метра, что совпадает с медианным значением по датасету. Потолки выше 3 метров встречаются в жилье премиального класса, а до 4 метров - в квартирах \"сталинского\" образца.  \n",
    "\n",
    "Таким образом, значения высоты потолка более 4 метров можно считать аномально высокими."
   ]
  },
  {
   "cell_type": "code",
   "execution_count": 142,
   "metadata": {
    "scrolled": true
   },
   "outputs": [
    {
     "data": {
      "text/html": [
       "<div>\n",
       "<style scoped>\n",
       "    .dataframe tbody tr th:only-of-type {\n",
       "        vertical-align: middle;\n",
       "    }\n",
       "\n",
       "    .dataframe tbody tr th {\n",
       "        vertical-align: top;\n",
       "    }\n",
       "\n",
       "    .dataframe thead th {\n",
       "        text-align: right;\n",
       "    }\n",
       "</style>\n",
       "<table border=\"1\" class=\"dataframe\">\n",
       "  <thead>\n",
       "    <tr style=\"text-align: right;\">\n",
       "      <th></th>\n",
       "      <th>total_images</th>\n",
       "      <th>last_price</th>\n",
       "      <th>total_area</th>\n",
       "      <th>first_day_exposition</th>\n",
       "      <th>rooms</th>\n",
       "      <th>ceiling_height</th>\n",
       "      <th>floors_total</th>\n",
       "      <th>living_area</th>\n",
       "      <th>floor</th>\n",
       "      <th>is_apartment</th>\n",
       "      <th>...</th>\n",
       "      <th>kitchen_area</th>\n",
       "      <th>balcony</th>\n",
       "      <th>locality_name</th>\n",
       "      <th>airports_nearest</th>\n",
       "      <th>cityCenters_nearest</th>\n",
       "      <th>parks_around3000</th>\n",
       "      <th>parks_nearest</th>\n",
       "      <th>ponds_around3000</th>\n",
       "      <th>ponds_nearest</th>\n",
       "      <th>days_exposition</th>\n",
       "    </tr>\n",
       "  </thead>\n",
       "  <tbody>\n",
       "    <tr>\n",
       "      <th>22869</th>\n",
       "      <td>0</td>\n",
       "      <td>15000000</td>\n",
       "      <td>25.0</td>\n",
       "      <td>2018-07-25</td>\n",
       "      <td>1</td>\n",
       "      <td>100.0</td>\n",
       "      <td>5.0</td>\n",
       "      <td>14.0</td>\n",
       "      <td>5</td>\n",
       "      <td>True</td>\n",
       "      <td>...</td>\n",
       "      <td>11.0</td>\n",
       "      <td>5.0</td>\n",
       "      <td>Санкт-Петербург</td>\n",
       "      <td>34963.0</td>\n",
       "      <td>8283.0</td>\n",
       "      <td>1.0</td>\n",
       "      <td>223.0</td>\n",
       "      <td>3.0</td>\n",
       "      <td>30.0</td>\n",
       "      <td>19.0</td>\n",
       "    </tr>\n",
       "    <tr>\n",
       "      <th>22336</th>\n",
       "      <td>19</td>\n",
       "      <td>9999000</td>\n",
       "      <td>92.4</td>\n",
       "      <td>2019-04-05</td>\n",
       "      <td>2</td>\n",
       "      <td>32.0</td>\n",
       "      <td>6.0</td>\n",
       "      <td>55.5</td>\n",
       "      <td>5</td>\n",
       "      <td>False</td>\n",
       "      <td>...</td>\n",
       "      <td>16.5</td>\n",
       "      <td>4.0</td>\n",
       "      <td>Санкт-Петербург</td>\n",
       "      <td>18838.0</td>\n",
       "      <td>3506.0</td>\n",
       "      <td>0.0</td>\n",
       "      <td>NaN</td>\n",
       "      <td>3.0</td>\n",
       "      <td>511.0</td>\n",
       "      <td>NaN</td>\n",
       "    </tr>\n",
       "    <tr>\n",
       "      <th>3148</th>\n",
       "      <td>14</td>\n",
       "      <td>2900000</td>\n",
       "      <td>75.0</td>\n",
       "      <td>2018-11-12</td>\n",
       "      <td>3</td>\n",
       "      <td>32.0</td>\n",
       "      <td>3.0</td>\n",
       "      <td>53.0</td>\n",
       "      <td>2</td>\n",
       "      <td>NaN</td>\n",
       "      <td>...</td>\n",
       "      <td>8.0</td>\n",
       "      <td>NaN</td>\n",
       "      <td>Волхов</td>\n",
       "      <td>NaN</td>\n",
       "      <td>NaN</td>\n",
       "      <td>NaN</td>\n",
       "      <td>NaN</td>\n",
       "      <td>NaN</td>\n",
       "      <td>NaN</td>\n",
       "      <td>NaN</td>\n",
       "    </tr>\n",
       "    <tr>\n",
       "      <th>21377</th>\n",
       "      <td>19</td>\n",
       "      <td>4900000</td>\n",
       "      <td>42.0</td>\n",
       "      <td>2017-04-18</td>\n",
       "      <td>1</td>\n",
       "      <td>27.5</td>\n",
       "      <td>24.0</td>\n",
       "      <td>37.7</td>\n",
       "      <td>19</td>\n",
       "      <td>False</td>\n",
       "      <td>...</td>\n",
       "      <td>11.0</td>\n",
       "      <td>2.0</td>\n",
       "      <td>Санкт-Петербург</td>\n",
       "      <td>42742.0</td>\n",
       "      <td>9760.0</td>\n",
       "      <td>0.0</td>\n",
       "      <td>NaN</td>\n",
       "      <td>0.0</td>\n",
       "      <td>NaN</td>\n",
       "      <td>61.0</td>\n",
       "    </tr>\n",
       "    <tr>\n",
       "      <th>22938</th>\n",
       "      <td>14</td>\n",
       "      <td>4000000</td>\n",
       "      <td>98.0</td>\n",
       "      <td>2018-03-15</td>\n",
       "      <td>4</td>\n",
       "      <td>27.0</td>\n",
       "      <td>2.0</td>\n",
       "      <td>73.0</td>\n",
       "      <td>2</td>\n",
       "      <td>True</td>\n",
       "      <td>...</td>\n",
       "      <td>9.0</td>\n",
       "      <td>1.0</td>\n",
       "      <td>деревня Нижняя</td>\n",
       "      <td>NaN</td>\n",
       "      <td>NaN</td>\n",
       "      <td>NaN</td>\n",
       "      <td>NaN</td>\n",
       "      <td>NaN</td>\n",
       "      <td>NaN</td>\n",
       "      <td>27.0</td>\n",
       "    </tr>\n",
       "  </tbody>\n",
       "</table>\n",
       "<p>5 rows × 22 columns</p>\n",
       "</div>"
      ],
      "text/plain": [
       "       total_images  last_price  total_area first_day_exposition  rooms  \\\n",
       "22869             0    15000000        25.0           2018-07-25      1   \n",
       "22336            19     9999000        92.4           2019-04-05      2   \n",
       "3148             14     2900000        75.0           2018-11-12      3   \n",
       "21377            19     4900000        42.0           2017-04-18      1   \n",
       "22938            14     4000000        98.0           2018-03-15      4   \n",
       "\n",
       "       ceiling_height  floors_total  living_area  floor is_apartment  ...  \\\n",
       "22869           100.0           5.0         14.0      5         True  ...   \n",
       "22336            32.0           6.0         55.5      5        False  ...   \n",
       "3148             32.0           3.0         53.0      2          NaN  ...   \n",
       "21377            27.5          24.0         37.7     19        False  ...   \n",
       "22938            27.0           2.0         73.0      2         True  ...   \n",
       "\n",
       "       kitchen_area  balcony    locality_name  airports_nearest  \\\n",
       "22869          11.0      5.0  Санкт-Петербург           34963.0   \n",
       "22336          16.5      4.0  Санкт-Петербург           18838.0   \n",
       "3148            8.0      NaN           Волхов               NaN   \n",
       "21377          11.0      2.0  Санкт-Петербург           42742.0   \n",
       "22938           9.0      1.0   деревня Нижняя               NaN   \n",
       "\n",
       "      cityCenters_nearest  parks_around3000  parks_nearest  ponds_around3000  \\\n",
       "22869              8283.0               1.0          223.0               3.0   \n",
       "22336              3506.0               0.0            NaN               3.0   \n",
       "3148                  NaN               NaN            NaN               NaN   \n",
       "21377              9760.0               0.0            NaN               0.0   \n",
       "22938                 NaN               NaN            NaN               NaN   \n",
       "\n",
       "       ponds_nearest  days_exposition  \n",
       "22869           30.0             19.0  \n",
       "22336          511.0              NaN  \n",
       "3148             NaN              NaN  \n",
       "21377            NaN             61.0  \n",
       "22938            NaN             27.0  \n",
       "\n",
       "[5 rows x 22 columns]"
      ]
     },
     "execution_count": 142,
     "metadata": {},
     "output_type": "execute_result"
    }
   ],
   "source": [
    "data[data['ceiling_height'] > 4].sort_values('ceiling_height', ascending=False).head(5)"
   ]
  },
  {
   "cell_type": "markdown",
   "metadata": {},
   "source": [
    "Стоит заметить, что по-настоящему аномальных высот в данных немного, а найденные значения свыше 10 метров, возможно, были просто некорректно записаны.  \n",
    "\n",
    "Разделив их на 10, мы получим нормальные значения, входящие в стандартный диапазон.  \n",
    "Пропуски в столбце заполним медианным значением.  \n"
   ]
  },
  {
   "cell_type": "code",
   "execution_count": 143,
   "metadata": {},
   "outputs": [],
   "source": [
    "#Делим огромные высоты на 10\n",
    "data.loc[data['ceiling_height'] > 9, 'ceiling_height'] = data.loc[data['ceiling_height'] > 9, \\\n",
    "                                                                       'ceiling_height']/10\n",
    "#Убираем аномально низкие и аномально высокие объекты\n",
    "data.loc[(data['ceiling_height'] < 2)|(data['ceiling_height'] > 6), \\\n",
    "                                            'ceiling_height'] = data['ceiling_height'].median()\n",
    "\n",
    "#Заполняем пустоты, отталкиваясь от района и высоты потолков\n",
    "data['ceiling_height'] = data.groupby(['locality_name','floors_total']) \\\n",
    "                                      ['ceiling_height'].apply(lambda x: x.fillna(x.median()))\n",
    "\n",
    "#Добиваем остатки пустот первоначальным вариантом заполнения\n",
    "data['ceiling_height'] = data['ceiling_height'].fillna(data['ceiling_height'].median())"
   ]
  },
  {
   "cell_type": "markdown",
   "metadata": {},
   "source": [
    "### Всего этажей в доме"
   ]
  },
  {
   "cell_type": "markdown",
   "metadata": {},
   "source": [
    "Существует множество разных стандартов застройки, от которых зависит количество этажей в домах.  \n",
    "Так, например, в сталинках количество этажей составляет от 3 до 5, в брежневках от 9 до 12 и т.д.  \n",
    "\n",
    "Попробуем заполнить пропуски в колонке, отталкиваясь от этих показателей и учитывая этаж рассматриваемой квартиры."
   ]
  },
  {
   "cell_type": "code",
   "execution_count": 144,
   "metadata": {},
   "outputs": [],
   "source": [
    "#data['floors_total'] = data['floors_total'].fillna(data['floors_total'].median()).astype('int')\n",
    "default_floors_total = [3, 5, 9, 12, 18, 24]\n",
    "\n",
    "for floor in default_floors_total:\n",
    "    data.loc[(data['floors_total'].isna()) & (data['floor'] <= floor), 'floors_total'] = floor\n",
    "data['floors_total'] = data['floors_total'].astype('int')"
   ]
  },
  {
   "cell_type": "code",
   "execution_count": 145,
   "metadata": {
    "scrolled": true
   },
   "outputs": [
    {
     "data": {
      "text/plain": [
       "<AxesSubplot:>"
      ]
     },
     "execution_count": 145,
     "metadata": {},
     "output_type": "execute_result"
    },
    {
     "data": {
      "image/png": "[encoded data removed]",
      "text/plain": [
       "<Figure size 432x288 with 1 Axes>"
      ]
     },
     "metadata": {
      "needs_background": "light"
     },
     "output_type": "display_data"
    }
   ],
   "source": [
    "data['floors_total'].hist()"
   ]
  },
  {
   "cell_type": "markdown",
   "metadata": {},
   "source": [
    "Аномальных значений нет"
   ]
  },
  {
   "cell_type": "markdown",
   "metadata": {},
   "source": [
    "### Жилая площадь"
   ]
  },
  {
   "cell_type": "markdown",
   "metadata": {},
   "source": [
    "Посчитаем средний процент жилой площади от общей и заполним пропуски в соответствии с этим соотношением.  \n",
    "Причиной возникновения пустот могло послужить простое отсутствие сведений и замеров конкретно жилой площади."
   ]
  },
  {
   "cell_type": "code",
   "execution_count": 146,
   "metadata": {},
   "outputs": [],
   "source": [
    "data['living_area'] = data['living_area'].fillna(data['total_area']*\n",
    "                                        (data['living_area'].median()/data['total_area'].median()))"
   ]
  },
  {
   "cell_type": "markdown",
   "metadata": {},
   "source": [
    "### Количество этажей"
   ]
  },
  {
   "cell_type": "code",
   "execution_count": 147,
   "metadata": {},
   "outputs": [
    {
     "data": {
      "text/plain": [
       "<AxesSubplot:>"
      ]
     },
     "execution_count": 147,
     "metadata": {},
     "output_type": "execute_result"
    },
    {
     "data": {
      "image/png": "[encoded data removed]",
      "text/plain": [
       "<Figure size 432x288 with 1 Axes>"
      ]
     },
     "metadata": {
      "needs_background": "light"
     },
     "output_type": "display_data"
    }
   ],
   "source": [
    "data['floor'] = data['floor'].astype('int')\n",
    "data['floor'].hist()"
   ]
  },
  {
   "cell_type": "markdown",
   "metadata": {},
   "source": [
    "Аномальных значений не обнаружено."
   ]
  },
  {
   "cell_type": "markdown",
   "metadata": {},
   "source": [
    "### Апартаменты, студии и планировки"
   ]
  },
  {
   "cell_type": "markdown",
   "metadata": {},
   "source": [
    "Невозможно заполнить пустые значения, ведь сложно отталкиваться от чего-либо и утверждать, что недвижимость является апартаментами или студией. Такая же ситуация с наличием открытой планировки."
   ]
  },
  {
   "cell_type": "markdown",
   "metadata": {},
   "source": [
    "### Площадь кухни"
   ]
  },
  {
   "cell_type": "markdown",
   "metadata": {},
   "source": [
    "В случае с кухней с пустыми значениями можно разобраться по тому же принципу, что и с жилой площадью."
   ]
  },
  {
   "cell_type": "code",
   "execution_count": 148,
   "metadata": {},
   "outputs": [],
   "source": [
    "data['kitchen_area'] = data['kitchen_area'].fillna(data['total_area']*\n",
    "                                        (data['kitchen_area'].median()/data['total_area'].median()))"
   ]
  },
  {
   "cell_type": "markdown",
   "metadata": {},
   "source": [
    "### Количество балконов"
   ]
  },
  {
   "cell_type": "code",
   "execution_count": 149,
   "metadata": {},
   "outputs": [
    {
     "data": {
      "text/plain": [
       "1.0    4195\n",
       "0.0    3758\n",
       "2.0    3659\n",
       "5.0     304\n",
       "4.0     183\n",
       "3.0      81\n",
       "Name: balcony, dtype: int64"
      ]
     },
     "execution_count": 149,
     "metadata": {},
     "output_type": "execute_result"
    }
   ],
   "source": [
    "data['balcony'].value_counts()"
   ]
  },
  {
   "cell_type": "markdown",
   "metadata": {},
   "source": [
    "Количество балконов нецелесообразно хранить float-значением, преобразуем в integer.  \n",
    "Если их количество не указано, справедливо считать его равным нулю."
   ]
  },
  {
   "cell_type": "code",
   "execution_count": 150,
   "metadata": {
    "scrolled": true
   },
   "outputs": [
    {
     "data": {
      "text/plain": [
       "6326    0\n",
       "Name: balcony, dtype: int32"
      ]
     },
     "execution_count": 150,
     "metadata": {},
     "output_type": "execute_result"
    }
   ],
   "source": [
    "data['balcony'] = data['balcony'].fillna(0).astype('int')\n",
    "data['balcony'].sample(1)"
   ]
  },
  {
   "cell_type": "markdown",
   "metadata": {},
   "source": [
    "### Дни с публикации до снятия\n",
    "Количество дней целесообразнее хранить целочисленным значением.  \n",
    "Пропуски, вероятно, возникли в объявлениях, которые были активными на момент выгрузки данных."
   ]
  },
  {
   "cell_type": "code",
   "execution_count": 151,
   "metadata": {},
   "outputs": [],
   "source": [
    "data['days_exposition'] = data['days_exposition'].fillna(0).astype('int')"
   ]
  },
  {
   "cell_type": "markdown",
   "metadata": {},
   "source": [
    "### Названия населённых пунктов\n",
    "Первым делом стоит привести все значения к единому регистру, чтобы убрать дубликаты, вызванные использованием неправильного регистра при написании, если таковые присутствуют."
   ]
  },
  {
   "cell_type": "code",
   "execution_count": 152,
   "metadata": {
    "scrolled": true
   },
   "outputs": [
    {
     "data": {
      "text/plain": [
       "array(['санкт-петербург', 'посёлок шушары', 'городской посёлок янино-1',\n",
       "       'посёлок парголово', 'посёлок мурино', 'ломоносов', 'сертолово',\n",
       "       'петергоф', 'пушкин', 'деревня кудрово', 'коммунар', 'колпино',\n",
       "       'поселок городского типа красный бор', 'гатчина', 'поселок мурино',\n",
       "       'деревня фёдоровское', 'выборг', 'кронштадт', 'кировск',\n",
       "       'деревня новое девяткино', 'посёлок металлострой',\n",
       "       'посёлок городского типа лебяжье',\n",
       "       'посёлок городского типа сиверский', 'поселок молодцово',\n",
       "       'поселок городского типа кузьмоловский',\n",
       "       'садовое товарищество новая ропша', 'павловск',\n",
       "       'деревня пикколово', 'всеволожск', 'волхов', 'кингисепп',\n",
       "       'приозерск', 'сестрорецк', 'деревня куттузи', 'посёлок аннино',\n",
       "       'поселок городского типа ефимовский', 'посёлок плодовое',\n",
       "       'деревня заклинье', 'поселок торковичи', 'поселок первомайское',\n",
       "       'красное село', 'посёлок понтонный', 'сясьстрой', 'деревня старая',\n",
       "       'деревня лесколово', 'посёлок новый свет', 'сланцы',\n",
       "       'село путилово', 'ивангород', 'мурино', 'шлиссельбург',\n",
       "       'никольское', 'зеленогорск', 'сосновый бор', 'поселок новый свет',\n",
       "       'деревня оржицы', 'деревня кальтино', 'кудрово',\n",
       "       'поселок романовка', 'посёлок бугры', 'поселок бугры',\n",
       "       'поселок городского типа рощино', 'кириши', 'луга', 'волосово',\n",
       "       'отрадное', 'село павлово', 'поселок оредеж', 'село копорье',\n",
       "       'посёлок городского типа красный бор', 'посёлок молодёжное',\n",
       "       'тихвин', 'посёлок победа', 'деревня нурма',\n",
       "       'поселок городского типа синявино', 'тосно',\n",
       "       'посёлок городского типа кузьмоловский', 'посёлок стрельна',\n",
       "       'бокситогорск', 'посёлок александровская', 'деревня лопухинка',\n",
       "       'пикалёво', 'поселок терволово',\n",
       "       'поселок городского типа советский', 'подпорожье',\n",
       "       'посёлок петровское', 'посёлок городского типа токсово',\n",
       "       'поселок сельцо', 'посёлок городского типа вырица',\n",
       "       'деревня кипень', 'деревня келози', 'деревня вартемяги',\n",
       "       'посёлок тельмана', 'поселок севастьяново',\n",
       "       'городской поселок большая ижора', nan,\n",
       "       'городской посёлок павлово', 'деревня агалатово',\n",
       "       'посёлок новогорелово', 'городской посёлок лесогорский',\n",
       "       'деревня лаголово', 'поселок цвелодубово',\n",
       "       'поселок городского типа рахья', 'поселок городского типа вырица',\n",
       "       'деревня белогорка', 'поселок заводской',\n",
       "       'городской посёлок новоселье', 'деревня большие колпаны',\n",
       "       'деревня горбунки', 'деревня батово', 'деревня заневка',\n",
       "       'деревня иссад', 'приморск', 'городской посёлок фёдоровское',\n",
       "       'деревня мистолово', 'новая ладога', 'поселок зимитицы',\n",
       "       'поселок барышево', 'деревня разметелево',\n",
       "       'поселок городского типа имени свердлова', 'деревня пеники',\n",
       "       'поселок рябово', 'деревня пудомяги', 'поселок станции корнево',\n",
       "       'деревня низино', 'деревня бегуницы', 'посёлок поляны',\n",
       "       'городской посёлок мга', 'поселок елизаветино',\n",
       "       'посёлок городского типа кузнечное', 'деревня колтуши',\n",
       "       'поселок запорожское', 'посёлок городского типа рощино',\n",
       "       'деревня гостилицы', 'деревня малое карлино',\n",
       "       'посёлок мичуринское', 'посёлок городского типа имени морозова',\n",
       "       'посёлок песочный', 'посёлок сосново', 'деревня аро',\n",
       "       'поселок ильичёво', 'посёлок городского типа тайцы',\n",
       "       'деревня малое верево', 'деревня извара', 'поселок станции вещево',\n",
       "       'село паша', 'деревня калитино',\n",
       "       'посёлок городского типа ульяновка', 'деревня чудской бор',\n",
       "       'поселок городского типа дубровка', 'деревня мины',\n",
       "       'поселок войсковицы', 'посёлок городского типа имени свердлова',\n",
       "       'деревня коркино', 'посёлок ропша',\n",
       "       'поселок городского типа приладожский', 'посёлок щеглово',\n",
       "       'посёлок гаврилово', 'лодейное поле', 'деревня рабитицы',\n",
       "       'поселок городского типа никольский', 'деревня кузьмолово',\n",
       "       'деревня малые колпаны', 'поселок тельмана',\n",
       "       'посёлок петро-славянка', 'городской посёлок назия',\n",
       "       'посёлок репино', 'посёлок ильичёво', 'поселок углово',\n",
       "       'поселок старая малукса', 'садовое товарищество рахья',\n",
       "       'поселок аннино', 'поселок победа', 'деревня меньково',\n",
       "       'деревня старые бегуницы', 'посёлок сапёрный', 'поселок семрино',\n",
       "       'поселок гаврилово', 'поселок глажево', 'поселок кобринское',\n",
       "       'деревня гарболово', 'деревня юкки',\n",
       "       'поселок станции приветнинское', 'деревня мануйлово',\n",
       "       'деревня пчева', 'поселок поляны', 'поселок цвылёво',\n",
       "       'поселок мельниково', 'посёлок пудость', 'посёлок усть-луга',\n",
       "       'светогорск', 'любань', 'поселок селезнёво',\n",
       "       'поселок городского типа рябово', 'каменногорск', 'деревня кривко',\n",
       "       'поселок глебычево', 'деревня парицы', 'поселок жилпосёлок',\n",
       "       'посёлок городского типа мга', 'городской поселок янино-1',\n",
       "       'посёлок войскорово', 'село никольское', 'посёлок терволово',\n",
       "       'поселок стеклянный', 'посёлок городского типа важины',\n",
       "       'посёлок мыза-ивановка', 'село русско-высоцкое',\n",
       "       'поселок городского типа лебяжье',\n",
       "       'поселок городского типа форносово', 'село старая ладога',\n",
       "       'поселок житково', 'городской посёлок виллози', 'деревня лампово',\n",
       "       'деревня шпаньково', 'деревня лаврики', 'посёлок сумино',\n",
       "       'посёлок возрождение', 'деревня старосиверская',\n",
       "       'посёлок кикерино', 'поселок возрождение',\n",
       "       'деревня старое хинколово', 'посёлок пригородный',\n",
       "       'посёлок торфяное', 'городской посёлок будогощь',\n",
       "       'поселок суходолье', 'поселок красная долина', 'деревня хапо-ое',\n",
       "       'поселок городского типа дружная горка', 'поселок лисий нос',\n",
       "       'деревня яльгелево', 'посёлок стеклянный', 'село рождествено',\n",
       "       'деревня старополье', 'посёлок левашово', 'деревня сяськелево',\n",
       "       'деревня камышовка',\n",
       "       'садоводческое некоммерческое товарищество лесная поляна',\n",
       "       'деревня хязельки', 'поселок жилгородок',\n",
       "       'посёлок городского типа павлово', 'деревня ялгино',\n",
       "       'поселок новый учхоз', 'городской посёлок рощино',\n",
       "       'поселок гончарово', 'поселок почап', 'посёлок сапёрное',\n",
       "       'посёлок платформа 69-й километр', 'поселок каложицы',\n",
       "       'деревня фалилеево', 'деревня пельгора',\n",
       "       'поселок городского типа лесогорский', 'деревня торошковичи',\n",
       "       'посёлок белоостров', 'посёлок алексеевка', 'поселок серебрянский',\n",
       "       'поселок лукаши', 'поселок петровское', 'деревня щеглово',\n",
       "       'поселок мичуринское', 'деревня тарасово', 'поселок кингисеппский',\n",
       "       'посёлок при железнодорожной станции вещево', 'поселок ушаки',\n",
       "       'деревня котлы', 'деревня сижно', 'деревня торосово',\n",
       "       'посёлок форт красная горка', 'поселок городского типа токсово',\n",
       "       'деревня новолисино', 'посёлок станции громово', 'деревня глинка',\n",
       "       'посёлок мельниково', 'поселок городского типа назия',\n",
       "       'деревня старая пустошь', 'поселок коммунары', 'поселок починок',\n",
       "       'посёлок городского типа вознесенье', 'деревня разбегаево',\n",
       "       'посёлок городского типа рябово', 'поселок гладкое',\n",
       "       'посёлок при железнодорожной станции приветнинское',\n",
       "       'поселок тёсово-4', 'посёлок жилгородок', 'деревня бор',\n",
       "       'посёлок коробицыно', 'деревня большая вруда', 'деревня курковицы',\n",
       "       'посёлок лисий нос', 'городской посёлок советский',\n",
       "       'посёлок кобралово', 'деревня суоранда', 'поселок кобралово',\n",
       "       'поселок городского типа кондратьево',\n",
       "       'коттеджный поселок счастье', 'поселок любань', 'деревня реброво',\n",
       "       'деревня зимитицы', 'деревня тойворово', 'поселок семиозерье',\n",
       "       'поселок лесное', 'поселок совхозный', 'поселок усть-луга',\n",
       "       'посёлок ленинское', 'посёлок суйда',\n",
       "       'посёлок городского типа форносово', 'деревня нижние осельки',\n",
       "       'посёлок станции свирь', 'поселок перово', 'высоцк',\n",
       "       'поселок гарболово', 'село шум', 'поселок котельский',\n",
       "       'поселок станции лужайка', 'деревня большая пустомержа',\n",
       "       'поселок красносельское', 'деревня вахнова кара', 'деревня пижма',\n",
       "       'коттеджный поселок кивеннапа север', 'поселок коробицыно',\n",
       "       'поселок ромашки', 'посёлок перово', 'деревня каськово',\n",
       "       'деревня куровицы', 'посёлок плоское', 'поселок сумино',\n",
       "       'поселок городского типа большая ижора', 'поселок кирпичное',\n",
       "       'деревня ям-тесово', 'деревня раздолье', 'деревня терпилицы',\n",
       "       'посёлок шугозеро', 'деревня ваганово', 'поселок пушное',\n",
       "       'садовое товарищество садко', 'посёлок усть-ижора',\n",
       "       'деревня выскатка', 'городской посёлок свирьстрой',\n",
       "       'поселок громово', 'деревня кисельня', 'посёлок старая малукса',\n",
       "       'деревня трубников бор', 'поселок калитино',\n",
       "       'посёлок высокоключевой', 'садовое товарищество приладожский',\n",
       "       'посёлок пансионат зелёный бор', 'деревня ненимяки',\n",
       "       'поселок пансионат зелёный бор', 'деревня снегирёвка',\n",
       "       'деревня рапполово', 'деревня пустынка', 'поселок рабитицы',\n",
       "       'деревня большой сабск', 'деревня русско', 'деревня лупполово',\n",
       "       'деревня большое рейзино', 'деревня малая романовка',\n",
       "       'поселок дружноселье', 'поселок пчевжа', 'поселок володарское',\n",
       "       'деревня нижняя', 'коттеджный посёлок лесное', 'деревня тихковицы',\n",
       "       'деревня борисова грива', 'посёлок дзержинского'], dtype=object)"
      ]
     },
     "execution_count": 152,
     "metadata": {},
     "output_type": "execute_result"
    }
   ],
   "source": [
    "data['locality_name'] = data['locality_name'].str.lower()\n",
    "data['locality_name'].unique()"
   ]
  },
  {
   "cell_type": "markdown",
   "metadata": {},
   "source": [
    "### Остальное\n",
    "В оставшихся столбцах воспримем отсутствие значения как отсутствие рассматриваемого объекта и укажем 0.  \n",
    "Следует и поменять тип данных."
   ]
  },
  {
   "cell_type": "code",
   "execution_count": 153,
   "metadata": {},
   "outputs": [],
   "source": [
    "data['airports_nearest'] = data['airports_nearest'].fillna(0).astype('int')\n",
    "data['cityCenters_nearest'] = data['cityCenters_nearest'].fillna(0).astype('int')\n",
    "data['parks_around3000'] = data['parks_around3000'].fillna(0).astype('int')\n",
    "data['parks_nearest'] = data['parks_nearest'].fillna(0).astype('int')\n",
    "data['ponds_around3000'] = data['ponds_around3000'].fillna(0).astype('int')\n",
    "data['ponds_nearest'] = data['ponds_nearest'].fillna(0).astype('int')"
   ]
  },
  {
   "cell_type": "markdown",
   "metadata": {},
   "source": [
    "В результате некоторых манипуляций нам удалось значительно уменьшить количество пропущенных значений в датасете."
   ]
  },
  {
   "cell_type": "code",
   "execution_count": 154,
   "metadata": {},
   "outputs": [
    {
     "name": "stdout",
     "output_type": "stream",
     "text": [
      "<class 'pandas.core.frame.DataFrame'>\n",
      "RangeIndex: 23699 entries, 0 to 23698\n",
      "Data columns (total 22 columns):\n",
      " #   Column                Non-Null Count  Dtype         \n",
      "---  ------                --------------  -----         \n",
      " 0   total_images          23699 non-null  int64         \n",
      " 1   last_price            23699 non-null  int32         \n",
      " 2   total_area            23699 non-null  float64       \n",
      " 3   first_day_exposition  23699 non-null  datetime64[ns]\n",
      " 4   rooms                 23699 non-null  int64         \n",
      " 5   ceiling_height        23699 non-null  float64       \n",
      " 6   floors_total          23699 non-null  int32         \n",
      " 7   living_area           23699 non-null  float64       \n",
      " 8   floor                 23699 non-null  int32         \n",
      " 9   is_apartment          2775 non-null   object        \n",
      " 10  studio                23699 non-null  bool          \n",
      " 11  open_plan             23699 non-null  bool          \n",
      " 12  kitchen_area          23699 non-null  float64       \n",
      " 13  balcony               23699 non-null  int32         \n",
      " 14  locality_name         23650 non-null  object        \n",
      " 15  airports_nearest      23699 non-null  int32         \n",
      " 16  cityCenters_nearest   23699 non-null  int32         \n",
      " 17  parks_around3000      23699 non-null  int32         \n",
      " 18  parks_nearest         23699 non-null  int32         \n",
      " 19  ponds_around3000      23699 non-null  int32         \n",
      " 20  ponds_nearest         23699 non-null  int32         \n",
      " 21  days_exposition       23699 non-null  int32         \n",
      "dtypes: bool(2), datetime64[ns](1), float64(4), int32(11), int64(2), object(2)\n",
      "memory usage: 2.7+ MB\n"
     ]
    }
   ],
   "source": [
    "data.info()"
   ]
  },
  {
   "cell_type": "markdown",
   "metadata": {},
   "source": [
    "## 2.1. Формирование новых признаков на основе существующих"
   ]
  },
  {
   "cell_type": "markdown",
   "metadata": {},
   "source": [
    "### Создадим столбец с ценой за квадратный метр"
   ]
  },
  {
   "cell_type": "code",
   "execution_count": 155,
   "metadata": {},
   "outputs": [
    {
     "data": {
      "text/plain": [
       "20638    88000\n",
       "Name: price_per_square_meter, dtype: int32"
      ]
     },
     "execution_count": 155,
     "metadata": {},
     "output_type": "execute_result"
    }
   ],
   "source": [
    "data['price_per_square_meter'] = data['last_price'] / data['total_area']\n",
    "data['price_per_square_meter'] = data['price_per_square_meter'].astype('int')\n",
    "data['price_per_square_meter'].sample(1)"
   ]
  },
  {
   "cell_type": "markdown",
   "metadata": {},
   "source": [
    "### Добавим новые столбцы с днём, неделей и годом публикации объявления"
   ]
  },
  {
   "cell_type": "code",
   "execution_count": 156,
   "metadata": {},
   "outputs": [],
   "source": [
    "data['weekday_exposition'] = data['first_day_exposition'].dt.weekday\n",
    "data['month_exposition'] = data['first_day_exposition'].dt.month\n",
    "data['year_exposition'] = data['first_day_exposition'].dt.year"
   ]
  },
  {
   "cell_type": "markdown",
   "metadata": {},
   "source": [
    "### Соотнесём объявления по категориям этажа: 'первый', 'последний' и 'другой'"
   ]
  },
  {
   "cell_type": "code",
   "execution_count": 157,
   "metadata": {},
   "outputs": [
    {
     "data": {
      "text/plain": [
       "19435    другой\n",
       "Name: floor_type, dtype: object"
      ]
     },
     "execution_count": 157,
     "metadata": {},
     "output_type": "execute_result"
    }
   ],
   "source": [
    "def categorize_floor(row):\n",
    "    floors_total = row['floors_total']\n",
    "    floor = row['floor']\n",
    "    if floor == 1:\n",
    "        return 'первый'\n",
    "    elif floor == floors_total:\n",
    "        return 'последний'\n",
    "    elif 1 < floor < floors_total:\n",
    "        return 'другой'\n",
    "      \n",
    "data['floor_type'] = data.apply(categorize_floor, axis = 1)\n",
    "data['floor_type'].sample(1)"
   ]
  },
  {
   "cell_type": "markdown",
   "metadata": {},
   "source": [
    "### Добавим столбец с расстоянием до ближайшего городского центра в километрах"
   ]
  },
  {
   "cell_type": "code",
   "execution_count": 158,
   "metadata": {},
   "outputs": [
    {
     "data": {
      "text/plain": [
       "6533    13\n",
       "Name: cityCenters_nearest_km, dtype: int32"
      ]
     },
     "execution_count": 158,
     "metadata": {},
     "output_type": "execute_result"
    }
   ],
   "source": [
    "data['cityCenters_nearest_km'] = data['cityCenters_nearest']/1000\n",
    "data['cityCenters_nearest_km'] = data['cityCenters_nearest_km'].fillna(0).astype('int')\n",
    "data['cityCenters_nearest_km'].sample(1)"
   ]
  },
  {
   "cell_type": "markdown",
   "metadata": {},
   "source": [
    "## 3. Исследовательский анализ данных"
   ]
  },
  {
   "cell_type": "markdown",
   "metadata": {},
   "source": [
    "### Общая площадь"
   ]
  },
  {
   "cell_type": "code",
   "execution_count": 159,
   "metadata": {
    "scrolled": false
   },
   "outputs": [
    {
     "data": {
      "text/plain": [
       "count    23699.000000\n",
       "mean        60.348651\n",
       "std         35.654083\n",
       "min         12.000000\n",
       "25%         40.000000\n",
       "50%         52.000000\n",
       "75%         69.900000\n",
       "max        900.000000\n",
       "Name: total_area, dtype: float64"
      ]
     },
     "execution_count": 159,
     "metadata": {},
     "output_type": "execute_result"
    },
    {
     "data": {
      "image/png": "[encoded data removed]",
      "text/plain": [
       "<Figure size 576x288 with 1 Axes>"
      ]
     },
     "metadata": {
      "needs_background": "light"
     },
     "output_type": "display_data"
    }
   ],
   "source": [
    "data.plot(y='total_area', kind='hist', bins=100, grid=True, figsize=(8,4), range=(0,400))\n",
    "data['total_area'].describe()"
   ]
  },
  {
   "cell_type": "markdown",
   "metadata": {},
   "source": [
    "**Вывод:** Распределение нормальное, имеются небольшие выбросы, однако они не оказывают негативного влияния. Общая картина видна по описанию."
   ]
  },
  {
   "cell_type": "markdown",
   "metadata": {},
   "source": [
    "### Жилая площадь"
   ]
  },
  {
   "cell_type": "code",
   "execution_count": 160,
   "metadata": {
    "scrolled": false
   },
   "outputs": [
    {
     "data": {
      "text/plain": [
       "count    23699.000000\n",
       "mean        34.624296\n",
       "std         22.381873\n",
       "min          2.000000\n",
       "25%         19.000000\n",
       "50%         30.000000\n",
       "75%         42.173077\n",
       "max        409.700000\n",
       "Name: living_area, dtype: float64"
      ]
     },
     "execution_count": 160,
     "metadata": {},
     "output_type": "execute_result"
    },
    {
     "data": {
      "image/png": "[encoded data removed]",
      "text/plain": [
       "<Figure size 576x288 with 1 Axes>"
      ]
     },
     "metadata": {
      "needs_background": "light"
     },
     "output_type": "display_data"
    }
   ],
   "source": [
    "data.plot(y='living_area', kind='hist', bins=100, grid=True, figsize=(8,4), range=(0,200))\n",
    "data['living_area'].describe()"
   ]
  },
  {
   "cell_type": "markdown",
   "metadata": {},
   "source": [
    "**Вывод:** Обнаружены 3 необычных пика, но есть преположение, что это некие \"переходные точки\" между однокомнатными, двухкомнатными и трёхкомнатными квартирами."
   ]
  },
  {
   "cell_type": "markdown",
   "metadata": {},
   "source": [
    "### Площадь кухни"
   ]
  },
  {
   "cell_type": "code",
   "execution_count": 161,
   "metadata": {},
   "outputs": [
    {
     "data": {
      "text/plain": [
       "count    23699.000000\n",
       "mean        10.505495\n",
       "std          6.039401\n",
       "min          1.300000\n",
       "25%          7.000000\n",
       "50%          9.000000\n",
       "75%         12.000000\n",
       "max        112.000000\n",
       "Name: kitchen_area, dtype: float64"
      ]
     },
     "execution_count": 161,
     "metadata": {},
     "output_type": "execute_result"
    },
    {
     "data": {
      "image/png": "[encoded data removed]",
      "text/plain": [
       "<Figure size 576x288 with 1 Axes>"
      ]
     },
     "metadata": {
      "needs_background": "light"
     },
     "output_type": "display_data"
    }
   ],
   "source": [
    "data.plot(y='kitchen_area', kind='hist', bins=30, grid=True, figsize=(8,4), range=(0,70))\n",
    "data['kitchen_area'].describe()"
   ]
  },
  {
   "cell_type": "markdown",
   "metadata": {},
   "source": [
    "**Вывод:** Распределение вполне нормальное, выбросы не критичны."
   ]
  },
  {
   "cell_type": "markdown",
   "metadata": {},
   "source": [
    "### Цена объекта"
   ]
  },
  {
   "cell_type": "code",
   "execution_count": 162,
   "metadata": {},
   "outputs": [
    {
     "data": {
      "text/plain": [
       "count    2.369900e+04\n",
       "mean     6.541549e+06\n",
       "std      1.088701e+07\n",
       "min      1.219000e+04\n",
       "25%      3.400000e+06\n",
       "50%      4.650000e+06\n",
       "75%      6.800000e+06\n",
       "max      7.630000e+08\n",
       "Name: last_price, dtype: float64"
      ]
     },
     "execution_count": 162,
     "metadata": {},
     "output_type": "execute_result"
    },
    {
     "data": {
      "image/png": "[encoded data removed]",
      "text/plain": [
       "<Figure size 576x288 with 1 Axes>"
      ]
     },
     "metadata": {
      "needs_background": "light"
     },
     "output_type": "display_data"
    }
   ],
   "source": [
    "data.plot(y='last_price', kind='hist', bins=100, grid=True, figsize=(8,4), range=(0,20000000))\n",
    "data['last_price'].describe()"
   ]
  },
  {
   "cell_type": "markdown",
   "metadata": {},
   "source": [
    "**Вывод:** С данными всё в порядке, даже не обнаружено сильных аномалий и выбросов."
   ]
  },
  {
   "cell_type": "markdown",
   "metadata": {},
   "source": [
    "### Количество комнат"
   ]
  },
  {
   "cell_type": "code",
   "execution_count": 163,
   "metadata": {},
   "outputs": [
    {
     "data": {
      "text/plain": [
       "count    23699.000000\n",
       "mean         2.070636\n",
       "std          1.078405\n",
       "min          0.000000\n",
       "25%          1.000000\n",
       "50%          2.000000\n",
       "75%          3.000000\n",
       "max         19.000000\n",
       "Name: rooms, dtype: float64"
      ]
     },
     "execution_count": 163,
     "metadata": {},
     "output_type": "execute_result"
    },
    {
     "data": {
      "image/png": "[encoded data removed]",
      "text/plain": [
       "<Figure size 576x288 with 1 Axes>"
      ]
     },
     "metadata": {
      "needs_background": "light"
     },
     "output_type": "display_data"
    }
   ],
   "source": [
    "data.plot(y='rooms', kind='hist', bins=20, grid=True, figsize=(8,4), range=(0,10))\n",
    "data['rooms'].describe()"
   ]
  },
  {
   "cell_type": "markdown",
   "metadata": {},
   "source": [
    "**Вывод:** С количеством комнат тоже всё в полном порядке."
   ]
  },
  {
   "cell_type": "markdown",
   "metadata": {},
   "source": [
    "### Высота потолков"
   ]
  },
  {
   "cell_type": "code",
   "execution_count": 164,
   "metadata": {
    "scrolled": false
   },
   "outputs": [
    {
     "data": {
      "text/plain": [
       "count    23699.000000\n",
       "mean         2.707428\n",
       "std          0.239348\n",
       "min          2.000000\n",
       "25%          2.550000\n",
       "50%          2.650000\n",
       "75%          2.750000\n",
       "max          6.000000\n",
       "Name: ceiling_height, dtype: float64"
      ]
     },
     "execution_count": 164,
     "metadata": {},
     "output_type": "execute_result"
    },
    {
     "data": {
      "image/png": "[encoded data removed]",
      "text/plain": [
       "<Figure size 576x288 with 1 Axes>"
      ]
     },
     "metadata": {
      "needs_background": "light"
     },
     "output_type": "display_data"
    }
   ],
   "source": [
    "data.plot(y='ceiling_height', kind='hist', bins=5, grid=True, figsize=(8,4), range=(1,5))\n",
    "data['ceiling_height'].describe()"
   ]
  },
  {
   "cell_type": "markdown",
   "metadata": {},
   "source": [
    "**Вывод:** Высоты потолков распределились строго по категориям на обычные, высокие и очень высокие. Выбросы были удалены ранее."
   ]
  },
  {
   "cell_type": "markdown",
   "metadata": {},
   "source": [
    "### Этаж квартиры"
   ]
  },
  {
   "cell_type": "code",
   "execution_count": 165,
   "metadata": {},
   "outputs": [
    {
     "data": {
      "text/plain": [
       "count    23699.000000\n",
       "mean         5.892358\n",
       "std          4.885249\n",
       "min          1.000000\n",
       "25%          2.000000\n",
       "50%          4.000000\n",
       "75%          8.000000\n",
       "max         33.000000\n",
       "Name: floor, dtype: float64"
      ]
     },
     "execution_count": 165,
     "metadata": {},
     "output_type": "execute_result"
    },
    {
     "data": {
      "image/png": "[encoded data removed]",
      "text/plain": [
       "<Figure size 576x288 with 1 Axes>"
      ]
     },
     "metadata": {
      "needs_background": "light"
     },
     "output_type": "display_data"
    }
   ],
   "source": [
    "data.plot(y='floor', kind='hist', bins=30, grid=True, figsize=(8,4), range=(1,35))\n",
    "data['floor'].describe()"
   ]
  },
  {
   "cell_type": "markdown",
   "metadata": {},
   "source": [
    "**Вывод:** С этажами тоже всё в порядке. Аномалий и критичных выбросов не обнаружено."
   ]
  },
  {
   "cell_type": "markdown",
   "metadata": {},
   "source": [
    "### Тип этажа квартиры"
   ]
  },
  {
   "cell_type": "code",
   "execution_count": 166,
   "metadata": {},
   "outputs": [
    {
     "data": {
      "text/plain": [
       "<AxesSubplot:xlabel='floor_type', ylabel='count'>"
      ]
     },
     "execution_count": 166,
     "metadata": {},
     "output_type": "execute_result"
    },
    {
     "data": {
      "image/png": "[encoded data removed]",
      "text/plain": [
       "<Figure size 432x288 with 1 Axes>"
      ]
     },
     "metadata": {
      "needs_background": "light"
     },
     "output_type": "display_data"
    }
   ],
   "source": [
    "sns.countplot(data['floor_type'])"
   ]
  },
  {
   "cell_type": "markdown",
   "metadata": {},
   "source": [
    "### Общее количество этажей в доме"
   ]
  },
  {
   "cell_type": "code",
   "execution_count": 167,
   "metadata": {},
   "outputs": [
    {
     "data": {
      "text/plain": [
       "count    23699.000000\n",
       "mean        10.677413\n",
       "std          6.598081\n",
       "min          1.000000\n",
       "25%          5.000000\n",
       "50%          9.000000\n",
       "75%         16.000000\n",
       "max         60.000000\n",
       "Name: floors_total, dtype: float64"
      ]
     },
     "execution_count": 167,
     "metadata": {},
     "output_type": "execute_result"
    },
    {
     "data": {
      "image/png": "[encoded data removed]",
      "text/plain": [
       "<Figure size 576x288 with 1 Axes>"
      ]
     },
     "metadata": {
      "needs_background": "light"
     },
     "output_type": "display_data"
    }
   ],
   "source": [
    "data.plot(y='floors_total', kind='hist', bins=20, grid=True, figsize=(8,4), range=(1,65))\n",
    "data['floors_total'].describe()"
   ]
  },
  {
   "cell_type": "markdown",
   "metadata": {},
   "source": [
    "**Вывод:** Данные об общем количестве этажей тоже не содержат аномалий."
   ]
  },
  {
   "cell_type": "markdown",
   "metadata": {},
   "source": [
    "### Расстояние до центра города в метрах"
   ]
  },
  {
   "cell_type": "code",
   "execution_count": 168,
   "metadata": {},
   "outputs": [
    {
     "data": {
      "text/plain": [
       "count    23699.000000\n",
       "mean     10886.426896\n",
       "std       9634.613697\n",
       "min          0.000000\n",
       "25%       2242.000000\n",
       "50%      11247.000000\n",
       "75%      15248.500000\n",
       "max      65968.000000\n",
       "Name: cityCenters_nearest, dtype: float64"
      ]
     },
     "execution_count": 168,
     "metadata": {},
     "output_type": "execute_result"
    },
    {
     "data": {
      "image/png": "[encoded data removed]",
      "text/plain": [
       "<Figure size 576x288 with 1 Axes>"
      ]
     },
     "metadata": {
      "needs_background": "light"
     },
     "output_type": "display_data"
    }
   ],
   "source": [
    "data.plot(y='cityCenters_nearest', kind='hist', bins=100, grid=True, figsize=(8,4), range=(1,70000))\n",
    "data['cityCenters_nearest'].describe()"
   ]
  },
  {
   "cell_type": "markdown",
   "metadata": {},
   "source": [
    "**Вывод:** Количество продаваемых домов в зависимости от расстояния до центра также приведено в соответствии с нормой."
   ]
  },
  {
   "cell_type": "markdown",
   "metadata": {},
   "source": [
    "### Расстояние до ближайшего аэропорта"
   ]
  },
  {
   "cell_type": "code",
   "execution_count": 169,
   "metadata": {
    "scrolled": false
   },
   "outputs": [
    {
     "data": {
      "text/plain": [
       "count    23699.000000\n",
       "mean     22060.285497\n",
       "std      16455.276292\n",
       "min          0.000000\n",
       "25%      10196.500000\n",
       "50%      21869.000000\n",
       "75%      34327.000000\n",
       "max      84869.000000\n",
       "Name: airports_nearest, dtype: float64"
      ]
     },
     "execution_count": 169,
     "metadata": {},
     "output_type": "execute_result"
    },
    {
     "data": {
      "image/png": "[encoded data removed]",
      "text/plain": [
       "<Figure size 576x288 with 1 Axes>"
      ]
     },
     "metadata": {
      "needs_background": "light"
     },
     "output_type": "display_data"
    }
   ],
   "source": [
    "data.plot(y='airports_nearest', kind='hist', bins=200, grid=True, figsize=(8,4), range=(1,85000))\n",
    "data['airports_nearest'].describe()"
   ]
  },
  {
   "cell_type": "markdown",
   "metadata": {},
   "source": [
    "**Вывод:** Аэропорты в России обычно находятся на расстоянии от городов, так что здесь тоже всё хорошо."
   ]
  },
  {
   "cell_type": "markdown",
   "metadata": {},
   "source": [
    "### Расстояние до ближайшего парка"
   ]
  },
  {
   "cell_type": "code",
   "execution_count": 170,
   "metadata": {},
   "outputs": [
    {
     "data": {
      "text/plain": [
       "count    23699.000000\n",
       "mean       167.315499\n",
       "std        306.709997\n",
       "min          0.000000\n",
       "25%          0.000000\n",
       "50%          0.000000\n",
       "75%        301.000000\n",
       "max       3190.000000\n",
       "Name: parks_nearest, dtype: float64"
      ]
     },
     "execution_count": 170,
     "metadata": {},
     "output_type": "execute_result"
    },
    {
     "data": {
      "image/png": "[encoded data removed]",
      "text/plain": [
       "<Figure size 576x288 with 1 Axes>"
      ]
     },
     "metadata": {
      "needs_background": "light"
     },
     "output_type": "display_data"
    }
   ],
   "source": [
    "data.plot(y='parks_nearest', kind='hist', bins=100, grid=True, figsize=(8,4), range=(1,3300))\n",
    "data['parks_nearest'].describe()"
   ]
  },
  {
   "cell_type": "markdown",
   "metadata": {},
   "source": [
    "**Вывод:** Аномалий и необычных выбросов здесь тоже нет."
   ]
  },
  {
   "cell_type": "markdown",
   "metadata": {},
   "source": [
    "### День и месяц публикации"
   ]
  },
  {
   "cell_type": "code",
   "execution_count": 171,
   "metadata": {},
   "outputs": [
    {
     "data": {
      "text/plain": [
       "<AxesSubplot:ylabel='Frequency'>"
      ]
     },
     "execution_count": 171,
     "metadata": {},
     "output_type": "execute_result"
    },
    {
     "data": {
      "image/png": "[encoded data removed]",
      "text/plain": [
       "<Figure size 576x288 with 1 Axes>"
      ]
     },
     "metadata": {
      "needs_background": "light"
     },
     "output_type": "display_data"
    },
    {
     "data": {
      "image/png": "[encoded data removed]",
      "text/plain": [
       "<Figure size 576x288 with 1 Axes>"
      ]
     },
     "metadata": {
      "needs_background": "light"
     },
     "output_type": "display_data"
    }
   ],
   "source": [
    "data.plot(y='weekday_exposition', kind='hist', bins=20, grid=True, figsize=(8,4), range=(1,10))\n",
    "data.plot(y='month_exposition', kind='hist', bins=25, grid=True, figsize=(8,4), range=(1,13))"
   ]
  },
  {
   "cell_type": "markdown",
   "metadata": {},
   "source": [
    "**Вывод:** По графикам отлично видна динамика продаж квартир по дням недели и месяцам."
   ]
  },
  {
   "cell_type": "markdown",
   "metadata": {},
   "source": [
    "### Как быстро продавались квартиры?"
   ]
  },
  {
   "cell_type": "code",
   "execution_count": 172,
   "metadata": {
    "scrolled": false
   },
   "outputs": [
    {
     "data": {
      "text/plain": [
       "count    23699.000000\n",
       "mean       156.608844\n",
       "std        213.546873\n",
       "min          0.000000\n",
       "25%         22.000000\n",
       "50%         74.000000\n",
       "75%        199.000000\n",
       "max       1580.000000\n",
       "Name: days_exposition, dtype: float64"
      ]
     },
     "execution_count": 172,
     "metadata": {},
     "output_type": "execute_result"
    },
    {
     "data": {
      "image/png": "[encoded data removed]",
      "text/plain": [
       "<Figure size 720x288 with 1 Axes>"
      ]
     },
     "metadata": {
      "needs_background": "light"
     },
     "output_type": "display_data"
    }
   ],
   "source": [
    "data.plot(y='days_exposition', kind='hist', bins=200, grid=True, figsize=(10,4), range=(1,1500))\n",
    "data['days_exposition'].describe()"
   ]
  },
  {
   "cell_type": "code",
   "execution_count": 173,
   "metadata": {},
   "outputs": [
    {
     "data": {
      "text/plain": [
       "count    23699.000000\n",
       "mean       156.608844\n",
       "std        213.546873\n",
       "min          0.000000\n",
       "25%         22.000000\n",
       "50%         74.000000\n",
       "75%        199.000000\n",
       "max       1580.000000\n",
       "Name: days_exposition, dtype: float64"
      ]
     },
     "execution_count": 173,
     "metadata": {},
     "output_type": "execute_result"
    },
    {
     "data": {
      "image/png": "[encoded data removed]",
      "text/plain": [
       "<Figure size 720x288 with 1 Axes>"
      ]
     },
     "metadata": {
      "needs_background": "light"
     },
     "output_type": "display_data"
    }
   ],
   "source": [
    "data.plot(y='days_exposition', kind='hist', bins=100, grid=True, figsize=(10,4), range=(1,100))\n",
    "data['days_exposition'].describe()"
   ]
  },
  {
   "cell_type": "markdown",
   "metadata": {},
   "source": [
    "Огромные пики обнаружены в самом начале гистограммы.   \n",
    "Рассмотрев поближе эту зону, понимаем что они находятся на значениях в 45, 60 и 90 дней с момента публикации.  \n",
    "Изучим особенности строк с такими значениями.  "
   ]
  },
  {
   "cell_type": "code",
   "execution_count": 174,
   "metadata": {
    "scrolled": false
   },
   "outputs": [
    {
     "data": {
      "text/html": [
       "<div>\n",
       "<style scoped>\n",
       "    .dataframe tbody tr th:only-of-type {\n",
       "        vertical-align: middle;\n",
       "    }\n",
       "\n",
       "    .dataframe tbody tr th {\n",
       "        vertical-align: top;\n",
       "    }\n",
       "\n",
       "    .dataframe thead th {\n",
       "        text-align: right;\n",
       "    }\n",
       "</style>\n",
       "<table border=\"1\" class=\"dataframe\">\n",
       "  <thead>\n",
       "    <tr style=\"text-align: right;\">\n",
       "      <th></th>\n",
       "      <th>total_images</th>\n",
       "      <th>last_price</th>\n",
       "      <th>total_area</th>\n",
       "      <th>first_day_exposition</th>\n",
       "      <th>rooms</th>\n",
       "      <th>ceiling_height</th>\n",
       "      <th>floors_total</th>\n",
       "      <th>living_area</th>\n",
       "      <th>floor</th>\n",
       "      <th>is_apartment</th>\n",
       "      <th>...</th>\n",
       "      <th>parks_nearest</th>\n",
       "      <th>ponds_around3000</th>\n",
       "      <th>ponds_nearest</th>\n",
       "      <th>days_exposition</th>\n",
       "      <th>price_per_square_meter</th>\n",
       "      <th>weekday_exposition</th>\n",
       "      <th>month_exposition</th>\n",
       "      <th>year_exposition</th>\n",
       "      <th>floor_type</th>\n",
       "      <th>cityCenters_nearest_km</th>\n",
       "    </tr>\n",
       "  </thead>\n",
       "  <tbody>\n",
       "    <tr>\n",
       "      <th>20313</th>\n",
       "      <td>9</td>\n",
       "      <td>3700000</td>\n",
       "      <td>46.0</td>\n",
       "      <td>2018-06-25</td>\n",
       "      <td>1</td>\n",
       "      <td>2.50</td>\n",
       "      <td>16</td>\n",
       "      <td>26.538462</td>\n",
       "      <td>14</td>\n",
       "      <td>NaN</td>\n",
       "      <td>...</td>\n",
       "      <td>0</td>\n",
       "      <td>3</td>\n",
       "      <td>369</td>\n",
       "      <td>45</td>\n",
       "      <td>80434</td>\n",
       "      <td>0</td>\n",
       "      <td>6</td>\n",
       "      <td>2018</td>\n",
       "      <td>другой</td>\n",
       "      <td>5</td>\n",
       "    </tr>\n",
       "    <tr>\n",
       "      <th>13840</th>\n",
       "      <td>7</td>\n",
       "      <td>1400000</td>\n",
       "      <td>35.8</td>\n",
       "      <td>2018-06-15</td>\n",
       "      <td>1</td>\n",
       "      <td>2.60</td>\n",
       "      <td>5</td>\n",
       "      <td>20.653846</td>\n",
       "      <td>5</td>\n",
       "      <td>NaN</td>\n",
       "      <td>...</td>\n",
       "      <td>0</td>\n",
       "      <td>0</td>\n",
       "      <td>0</td>\n",
       "      <td>45</td>\n",
       "      <td>39106</td>\n",
       "      <td>4</td>\n",
       "      <td>6</td>\n",
       "      <td>2018</td>\n",
       "      <td>последний</td>\n",
       "      <td>0</td>\n",
       "    </tr>\n",
       "    <tr>\n",
       "      <th>15485</th>\n",
       "      <td>0</td>\n",
       "      <td>3100000</td>\n",
       "      <td>33.0</td>\n",
       "      <td>2017-07-12</td>\n",
       "      <td>1</td>\n",
       "      <td>2.55</td>\n",
       "      <td>9</td>\n",
       "      <td>18.000000</td>\n",
       "      <td>6</td>\n",
       "      <td>NaN</td>\n",
       "      <td>...</td>\n",
       "      <td>0</td>\n",
       "      <td>1</td>\n",
       "      <td>955</td>\n",
       "      <td>45</td>\n",
       "      <td>93939</td>\n",
       "      <td>2</td>\n",
       "      <td>7</td>\n",
       "      <td>2017</td>\n",
       "      <td>другой</td>\n",
       "      <td>10</td>\n",
       "    </tr>\n",
       "    <tr>\n",
       "      <th>8660</th>\n",
       "      <td>7</td>\n",
       "      <td>1850000</td>\n",
       "      <td>31.0</td>\n",
       "      <td>2018-03-17</td>\n",
       "      <td>1</td>\n",
       "      <td>2.50</td>\n",
       "      <td>5</td>\n",
       "      <td>17.884615</td>\n",
       "      <td>2</td>\n",
       "      <td>NaN</td>\n",
       "      <td>...</td>\n",
       "      <td>0</td>\n",
       "      <td>0</td>\n",
       "      <td>0</td>\n",
       "      <td>45</td>\n",
       "      <td>59677</td>\n",
       "      <td>5</td>\n",
       "      <td>3</td>\n",
       "      <td>2018</td>\n",
       "      <td>другой</td>\n",
       "      <td>0</td>\n",
       "    </tr>\n",
       "    <tr>\n",
       "      <th>524</th>\n",
       "      <td>10</td>\n",
       "      <td>3800000</td>\n",
       "      <td>74.4</td>\n",
       "      <td>2017-05-18</td>\n",
       "      <td>3</td>\n",
       "      <td>2.50</td>\n",
       "      <td>5</td>\n",
       "      <td>44.400000</td>\n",
       "      <td>3</td>\n",
       "      <td>False</td>\n",
       "      <td>...</td>\n",
       "      <td>0</td>\n",
       "      <td>0</td>\n",
       "      <td>0</td>\n",
       "      <td>45</td>\n",
       "      <td>51075</td>\n",
       "      <td>3</td>\n",
       "      <td>5</td>\n",
       "      <td>2017</td>\n",
       "      <td>другой</td>\n",
       "      <td>0</td>\n",
       "    </tr>\n",
       "    <tr>\n",
       "      <th>23259</th>\n",
       "      <td>2</td>\n",
       "      <td>3800000</td>\n",
       "      <td>38.6</td>\n",
       "      <td>2018-01-11</td>\n",
       "      <td>1</td>\n",
       "      <td>2.55</td>\n",
       "      <td>10</td>\n",
       "      <td>22.269231</td>\n",
       "      <td>9</td>\n",
       "      <td>NaN</td>\n",
       "      <td>...</td>\n",
       "      <td>0</td>\n",
       "      <td>1</td>\n",
       "      <td>896</td>\n",
       "      <td>45</td>\n",
       "      <td>98445</td>\n",
       "      <td>3</td>\n",
       "      <td>1</td>\n",
       "      <td>2018</td>\n",
       "      <td>другой</td>\n",
       "      <td>11</td>\n",
       "    </tr>\n",
       "    <tr>\n",
       "      <th>4230</th>\n",
       "      <td>0</td>\n",
       "      <td>3250000</td>\n",
       "      <td>51.0</td>\n",
       "      <td>2017-05-13</td>\n",
       "      <td>2</td>\n",
       "      <td>2.50</td>\n",
       "      <td>9</td>\n",
       "      <td>31.000000</td>\n",
       "      <td>4</td>\n",
       "      <td>NaN</td>\n",
       "      <td>...</td>\n",
       "      <td>0</td>\n",
       "      <td>1</td>\n",
       "      <td>611</td>\n",
       "      <td>45</td>\n",
       "      <td>63725</td>\n",
       "      <td>5</td>\n",
       "      <td>5</td>\n",
       "      <td>2017</td>\n",
       "      <td>другой</td>\n",
       "      <td>31</td>\n",
       "    </tr>\n",
       "    <tr>\n",
       "      <th>19147</th>\n",
       "      <td>12</td>\n",
       "      <td>2300000</td>\n",
       "      <td>33.0</td>\n",
       "      <td>2018-01-11</td>\n",
       "      <td>1</td>\n",
       "      <td>2.50</td>\n",
       "      <td>10</td>\n",
       "      <td>19.038462</td>\n",
       "      <td>3</td>\n",
       "      <td>NaN</td>\n",
       "      <td>...</td>\n",
       "      <td>0</td>\n",
       "      <td>0</td>\n",
       "      <td>0</td>\n",
       "      <td>45</td>\n",
       "      <td>69696</td>\n",
       "      <td>3</td>\n",
       "      <td>1</td>\n",
       "      <td>2018</td>\n",
       "      <td>другой</td>\n",
       "      <td>0</td>\n",
       "    </tr>\n",
       "    <tr>\n",
       "      <th>14081</th>\n",
       "      <td>3</td>\n",
       "      <td>3000000</td>\n",
       "      <td>39.0</td>\n",
       "      <td>2018-10-31</td>\n",
       "      <td>1</td>\n",
       "      <td>2.65</td>\n",
       "      <td>17</td>\n",
       "      <td>15.500000</td>\n",
       "      <td>11</td>\n",
       "      <td>NaN</td>\n",
       "      <td>...</td>\n",
       "      <td>0</td>\n",
       "      <td>0</td>\n",
       "      <td>0</td>\n",
       "      <td>45</td>\n",
       "      <td>76923</td>\n",
       "      <td>2</td>\n",
       "      <td>10</td>\n",
       "      <td>2018</td>\n",
       "      <td>другой</td>\n",
       "      <td>0</td>\n",
       "    </tr>\n",
       "    <tr>\n",
       "      <th>22237</th>\n",
       "      <td>0</td>\n",
       "      <td>4000000</td>\n",
       "      <td>37.0</td>\n",
       "      <td>2017-08-13</td>\n",
       "      <td>1</td>\n",
       "      <td>2.70</td>\n",
       "      <td>10</td>\n",
       "      <td>19.000000</td>\n",
       "      <td>10</td>\n",
       "      <td>NaN</td>\n",
       "      <td>...</td>\n",
       "      <td>0</td>\n",
       "      <td>0</td>\n",
       "      <td>0</td>\n",
       "      <td>45</td>\n",
       "      <td>108108</td>\n",
       "      <td>6</td>\n",
       "      <td>8</td>\n",
       "      <td>2017</td>\n",
       "      <td>последний</td>\n",
       "      <td>12</td>\n",
       "    </tr>\n",
       "  </tbody>\n",
       "</table>\n",
       "<p>10 rows × 28 columns</p>\n",
       "</div>"
      ],
      "text/plain": [
       "       total_images  last_price  total_area first_day_exposition  rooms  \\\n",
       "20313             9     3700000        46.0           2018-06-25      1   \n",
       "13840             7     1400000        35.8           2018-06-15      1   \n",
       "15485             0     3100000        33.0           2017-07-12      1   \n",
       "8660              7     1850000        31.0           2018-03-17      1   \n",
       "524              10     3800000        74.4           2017-05-18      3   \n",
       "23259             2     3800000        38.6           2018-01-11      1   \n",
       "4230              0     3250000        51.0           2017-05-13      2   \n",
       "19147            12     2300000        33.0           2018-01-11      1   \n",
       "14081             3     3000000        39.0           2018-10-31      1   \n",
       "22237             0     4000000        37.0           2017-08-13      1   \n",
       "\n",
       "       ceiling_height  floors_total  living_area  floor is_apartment  ...  \\\n",
       "20313            2.50            16    26.538462     14          NaN  ...   \n",
       "13840            2.60             5    20.653846      5          NaN  ...   \n",
       "15485            2.55             9    18.000000      6          NaN  ...   \n",
       "8660             2.50             5    17.884615      2          NaN  ...   \n",
       "524              2.50             5    44.400000      3        False  ...   \n",
       "23259            2.55            10    22.269231      9          NaN  ...   \n",
       "4230             2.50             9    31.000000      4          NaN  ...   \n",
       "19147            2.50            10    19.038462      3          NaN  ...   \n",
       "14081            2.65            17    15.500000     11          NaN  ...   \n",
       "22237            2.70            10    19.000000     10          NaN  ...   \n",
       "\n",
       "       parks_nearest  ponds_around3000  ponds_nearest  days_exposition  \\\n",
       "20313              0                 3            369               45   \n",
       "13840              0                 0              0               45   \n",
       "15485              0                 1            955               45   \n",
       "8660               0                 0              0               45   \n",
       "524                0                 0              0               45   \n",
       "23259              0                 1            896               45   \n",
       "4230               0                 1            611               45   \n",
       "19147              0                 0              0               45   \n",
       "14081              0                 0              0               45   \n",
       "22237              0                 0              0               45   \n",
       "\n",
       "      price_per_square_meter  weekday_exposition  month_exposition  \\\n",
       "20313                  80434                   0                 6   \n",
       "13840                  39106                   4                 6   \n",
       "15485                  93939                   2                 7   \n",
       "8660                   59677                   5                 3   \n",
       "524                    51075                   3                 5   \n",
       "23259                  98445                   3                 1   \n",
       "4230                   63725                   5                 5   \n",
       "19147                  69696                   3                 1   \n",
       "14081                  76923                   2                10   \n",
       "22237                 108108                   6                 8   \n",
       "\n",
       "       year_exposition  floor_type  cityCenters_nearest_km  \n",
       "20313             2018      другой                       5  \n",
       "13840             2018   последний                       0  \n",
       "15485             2017      другой                      10  \n",
       "8660              2018      другой                       0  \n",
       "524               2017      другой                       0  \n",
       "23259             2018      другой                      11  \n",
       "4230              2017      другой                      31  \n",
       "19147             2018      другой                       0  \n",
       "14081             2018      другой                       0  \n",
       "22237             2017   последний                      12  \n",
       "\n",
       "[10 rows x 28 columns]"
      ]
     },
     "execution_count": 174,
     "metadata": {},
     "output_type": "execute_result"
    }
   ],
   "source": [
    "data[data['days_exposition'] == 45].sample(10)\n",
    "#data[data['days_exposition'] == 60].sample(10)\n",
    "#data[data['days_exposition'] == 90].sample(10)"
   ]
  },
  {
   "cell_type": "markdown",
   "metadata": {},
   "source": [
    "Видим, что ничего особенного в этих данных нет.  \n",
    "Значения в 45, 60 и 90 дней с момента публикации посчитаем аномальными и удалим.  \n",
    "Построим диаграмму заново."
   ]
  },
  {
   "cell_type": "code",
   "execution_count": 175,
   "metadata": {
    "scrolled": false
   },
   "outputs": [
    {
     "data": {
      "text/plain": [
       "count    22077.000000\n",
       "mean       164.027404\n",
       "std        219.391854\n",
       "min          0.000000\n",
       "25%         19.000000\n",
       "50%         83.000000\n",
       "75%        214.000000\n",
       "max       1580.000000\n",
       "Name: days_exposition, dtype: float64"
      ]
     },
     "execution_count": 175,
     "metadata": {},
     "output_type": "execute_result"
    },
    {
     "data": {
      "image/png": "[encoded data removed]",
      "text/plain": [
       "<Figure size 720x288 with 1 Axes>"
      ]
     },
     "metadata": {
      "needs_background": "light"
     },
     "output_type": "display_data"
    }
   ],
   "source": [
    "bad_days = [45, 60, 90]\n",
    "good_data = data.query('days_exposition not in @bad_days')\n",
    "\n",
    "good_data.plot(y='days_exposition', kind='hist', bins=200, grid=True, figsize=(10,4), range=(1,1500))\n",
    "good_data['days_exposition'].describe()"
   ]
  },
  {
   "cell_type": "markdown",
   "metadata": {},
   "source": [
    "**Вывод:** Изучив гистограмму и показатели метода describe, можно прийти к заключению, что нормальным временем продажи является срок от 19 (25%) до 214 (75%) дней. Продажи меньше 19 дней - очень быстрые, а больше 214 - довольно долгие. Продажи больше 600 дней можно считать аномально долгими."
   ]
  },
  {
   "cell_type": "markdown",
   "metadata": {},
   "source": [
    "## 3.1. Факторы, влияющие на общую стоимость объекта"
   ]
  },
  {
   "cell_type": "markdown",
   "metadata": {},
   "source": [
    "### Зависимость цены от общей площади"
   ]
  },
  {
   "cell_type": "code",
   "execution_count": 176,
   "metadata": {},
   "outputs": [
    {
     "data": {
      "text/plain": [
       "0.6536750579657242"
      ]
     },
     "execution_count": 176,
     "metadata": {},
     "output_type": "execute_result"
    },
    {
     "data": {
      "image/png": "[encoded data removed]",
      "text/plain": [
       "<Figure size 432x288 with 1 Axes>"
      ]
     },
     "metadata": {
      "needs_background": "light"
     },
     "output_type": "display_data"
    }
   ],
   "source": [
    "total_area_dependent = data.pivot_table(index='total_area', values='last_price', \\\n",
    "                                        aggfunc=['count', 'median'])\n",
    "\n",
    "total_area_dependent.columns = ['count', 'median']\n",
    "total_area_dependent.plot(y='median', style='o', alpha=0.3)\n",
    "\n",
    "total_area_dependent.sort_values('median', ascending=False)\n",
    "data['total_area'].corr(data['last_price'])"
   ]
  },
  {
   "cell_type": "markdown",
   "metadata": {},
   "source": [
    "**Вывод:** Корреляция оказалась чуть выше среднего, что говорит о наличии хорошей зависимости цены недвижимости от её общей площади. Чем выше площадь, тем больше становится цена."
   ]
  },
  {
   "cell_type": "markdown",
   "metadata": {},
   "source": [
    "### Зависимость цены от жилой площади"
   ]
  },
  {
   "cell_type": "code",
   "execution_count": 177,
   "metadata": {},
   "outputs": [
    {
     "data": {
      "text/plain": [
       "0.5858907700395647"
      ]
     },
     "execution_count": 177,
     "metadata": {},
     "output_type": "execute_result"
    },
    {
     "data": {
      "image/png": "[encoded data removed]",
      "text/plain": [
       "<Figure size 432x288 with 1 Axes>"
      ]
     },
     "metadata": {
      "needs_background": "light"
     },
     "output_type": "display_data"
    }
   ],
   "source": [
    "living_area_dependent = data.pivot_table(index='living_area', values='last_price', \\\n",
    "                                        aggfunc=['count', 'median'])\n",
    "\n",
    "living_area_dependent.columns = ['count', 'median']\n",
    "living_area_dependent.plot(y='median', style='o', alpha=0.3)\n",
    "\n",
    "living_area_dependent.sort_values('median', ascending=False)\n",
    "data['living_area'].corr(data['last_price'])"
   ]
  },
  {
   "cell_type": "code",
   "execution_count": 178,
   "metadata": {},
   "outputs": [
    {
     "data": {
      "text/plain": [
       "0.9462534256263019"
      ]
     },
     "execution_count": 178,
     "metadata": {},
     "output_type": "execute_result"
    }
   ],
   "source": [
    "data['living_area'].corr(data['total_area'])"
   ]
  },
  {
   "cell_type": "markdown",
   "metadata": {},
   "source": [
    "**Вывод:** Неудивительно, что результаты оказались очень похожими на показатели общей площади, ведь  жилая площадь напрямую зависит от общей площади квартиры."
   ]
  },
  {
   "cell_type": "markdown",
   "metadata": {},
   "source": [
    "### Зависимость цены от площади кухни"
   ]
  },
  {
   "cell_type": "code",
   "execution_count": 179,
   "metadata": {
    "scrolled": true
   },
   "outputs": [
    {
     "data": {
      "text/plain": [
       "0.5141194369951927"
      ]
     },
     "execution_count": 179,
     "metadata": {},
     "output_type": "execute_result"
    },
    {
     "data": {
      "image/png": "[encoded data removed]",
      "text/plain": [
       "<Figure size 432x288 with 1 Axes>"
      ]
     },
     "metadata": {
      "needs_background": "light"
     },
     "output_type": "display_data"
    }
   ],
   "source": [
    "kitchen_area_dependent = data.pivot_table(index='kitchen_area', values='last_price', \\\n",
    "                                        aggfunc=['count', 'median'])\n",
    "\n",
    "kitchen_area_dependent.columns = ['count', 'median']\n",
    "kitchen_area_dependent.plot(y='median', style='o', alpha=0.3)\n",
    "\n",
    "kitchen_area_dependent.sort_values('median', ascending=False)\n",
    "data['kitchen_area'].corr(data['last_price'])"
   ]
  },
  {
   "cell_type": "code",
   "execution_count": 180,
   "metadata": {},
   "outputs": [
    {
     "data": {
      "text/plain": [
       "0.6604806456507752"
      ]
     },
     "execution_count": 180,
     "metadata": {},
     "output_type": "execute_result"
    }
   ],
   "source": [
    "data['kitchen_area'].corr(data['total_area'])"
   ]
  },
  {
   "cell_type": "markdown",
   "metadata": {},
   "source": [
    "**Вывод:** Ситуация с жилой площадью практически повторяется. Корреляция в данном случае стала ещё ниже, как и зависимость общей стоимости."
   ]
  },
  {
   "cell_type": "markdown",
   "metadata": {},
   "source": [
    "### Зависимость цены от количества комнат"
   ]
  },
  {
   "cell_type": "code",
   "execution_count": 181,
   "metadata": {},
   "outputs": [
    {
     "data": {
      "text/plain": [
       "0.3633428499648938"
      ]
     },
     "execution_count": 181,
     "metadata": {},
     "output_type": "execute_result"
    },
    {
     "data": {
      "image/png": "[encoded data removed]",
      "text/plain": [
       "<Figure size 432x288 with 1 Axes>"
      ]
     },
     "metadata": {
      "needs_background": "light"
     },
     "output_type": "display_data"
    }
   ],
   "source": [
    "rooms_dependent = data.pivot_table(index='rooms', values='last_price', \\\n",
    "                                   aggfunc = ['count', 'median'])\n",
    "\n",
    "rooms_dependent.columns = ['count', 'median']\n",
    "rooms_dependent.query('count > 1').plot(y='median')\n",
    "\n",
    "rooms_dependent.query('count > 1').sort_values('median', ascending=False)\n",
    "data['rooms'].corr(data['last_price'])"
   ]
  },
  {
   "cell_type": "markdown",
   "metadata": {},
   "source": [
    "**Вывод:** Корреляция оказалась не слишком высокой, но если судить по графику, то при небольшом количестве комнат стоимость недвижимости имеет некую зависимость, однако на больших значениях линия начинает ломаться. Можно сделать вывод, что общая стоимость не слишком сильно зависит от количества комнат."
   ]
  },
  {
   "cell_type": "markdown",
   "metadata": {},
   "source": [
    "### Зависимость цены от типа этажа"
   ]
  },
  {
   "cell_type": "code",
   "execution_count": 182,
   "metadata": {
    "scrolled": false
   },
   "outputs": [
    {
     "data": {
      "text/html": [
       "<div>\n",
       "<style scoped>\n",
       "    .dataframe tbody tr th:only-of-type {\n",
       "        vertical-align: middle;\n",
       "    }\n",
       "\n",
       "    .dataframe tbody tr th {\n",
       "        vertical-align: top;\n",
       "    }\n",
       "\n",
       "    .dataframe thead th {\n",
       "        text-align: right;\n",
       "    }\n",
       "</style>\n",
       "<table border=\"1\" class=\"dataframe\">\n",
       "  <thead>\n",
       "    <tr style=\"text-align: right;\">\n",
       "      <th></th>\n",
       "      <th>count</th>\n",
       "      <th>median</th>\n",
       "    </tr>\n",
       "    <tr>\n",
       "      <th>floor_type</th>\n",
       "      <th></th>\n",
       "      <th></th>\n",
       "    </tr>\n",
       "  </thead>\n",
       "  <tbody>\n",
       "    <tr>\n",
       "      <th>первый</th>\n",
       "      <td>2917</td>\n",
       "      <td>3900000</td>\n",
       "    </tr>\n",
       "    <tr>\n",
       "      <th>последний</th>\n",
       "      <td>3360</td>\n",
       "      <td>4300000</td>\n",
       "    </tr>\n",
       "  </tbody>\n",
       "</table>\n",
       "</div>"
      ],
      "text/plain": [
       "            count   median\n",
       "floor_type                \n",
       "первый       2917  3900000\n",
       "последний    3360  4300000"
      ]
     },
     "execution_count": 182,
     "metadata": {},
     "output_type": "execute_result"
    },
    {
     "data": {
      "image/png": "[encoded data removed]",
      "text/plain": [
       "<Figure size 432x288 with 1 Axes>"
      ]
     },
     "metadata": {
      "needs_background": "light"
     },
     "output_type": "display_data"
    }
   ],
   "source": [
    "floor_type_dependent = data.query('floor_type != \"другой\"') \\\n",
    "                           .pivot_table(index='floor_type', values='last_price', \\\n",
    "                                        aggfunc=['count', 'median'])\n",
    "\n",
    "floor_type_dependent.columns = ['count', 'median']\n",
    "floor_type_dependent.plot(y='median')\n",
    "floor_type_dependent"
   ]
  },
  {
   "cell_type": "markdown",
   "metadata": {},
   "source": [
    "**Вывод:** Известный факт, что жильё на первых этажах ценится меньше. Чем выше этаж, тем больше стоимость жилья."
   ]
  },
  {
   "cell_type": "markdown",
   "metadata": {},
   "source": [
    "### Зависимость цены от даты размещения объявления"
   ]
  },
  {
   "cell_type": "code",
   "execution_count": 183,
   "metadata": {
    "scrolled": false
   },
   "outputs": [
    {
     "data": {
      "text/html": [
       "<div>\n",
       "<style scoped>\n",
       "    .dataframe tbody tr th:only-of-type {\n",
       "        vertical-align: middle;\n",
       "    }\n",
       "\n",
       "    .dataframe tbody tr th {\n",
       "        vertical-align: top;\n",
       "    }\n",
       "\n",
       "    .dataframe thead th {\n",
       "        text-align: right;\n",
       "    }\n",
       "</style>\n",
       "<table border=\"1\" class=\"dataframe\">\n",
       "  <thead>\n",
       "    <tr style=\"text-align: right;\">\n",
       "      <th></th>\n",
       "      <th>count</th>\n",
       "      <th>median</th>\n",
       "    </tr>\n",
       "    <tr>\n",
       "      <th>weekday_exposition</th>\n",
       "      <th></th>\n",
       "      <th></th>\n",
       "    </tr>\n",
       "  </thead>\n",
       "  <tbody>\n",
       "    <tr>\n",
       "      <th>1</th>\n",
       "      <td>4183</td>\n",
       "      <td>4730000</td>\n",
       "    </tr>\n",
       "    <tr>\n",
       "      <th>2</th>\n",
       "      <td>3974</td>\n",
       "      <td>4700000</td>\n",
       "    </tr>\n",
       "    <tr>\n",
       "      <th>0</th>\n",
       "      <td>3612</td>\n",
       "      <td>4650000</td>\n",
       "    </tr>\n",
       "    <tr>\n",
       "      <th>3</th>\n",
       "      <td>4295</td>\n",
       "      <td>4650000</td>\n",
       "    </tr>\n",
       "    <tr>\n",
       "      <th>4</th>\n",
       "      <td>4000</td>\n",
       "      <td>4585000</td>\n",
       "    </tr>\n",
       "    <tr>\n",
       "      <th>5</th>\n",
       "      <td>1936</td>\n",
       "      <td>4555000</td>\n",
       "    </tr>\n",
       "    <tr>\n",
       "      <th>6</th>\n",
       "      <td>1699</td>\n",
       "      <td>4550000</td>\n",
       "    </tr>\n",
       "  </tbody>\n",
       "</table>\n",
       "</div>"
      ],
      "text/plain": [
       "                    count   median\n",
       "weekday_exposition                \n",
       "1                    4183  4730000\n",
       "2                    3974  4700000\n",
       "0                    3612  4650000\n",
       "3                    4295  4650000\n",
       "4                    4000  4585000\n",
       "5                    1936  4555000\n",
       "6                    1699  4550000"
      ]
     },
     "execution_count": 183,
     "metadata": {},
     "output_type": "execute_result"
    },
    {
     "data": {
      "image/png": "[encoded data removed]",
      "text/plain": [
       "<Figure size 432x288 with 1 Axes>"
      ]
     },
     "metadata": {
      "needs_background": "light"
     },
     "output_type": "display_data"
    }
   ],
   "source": [
    "weekday_dependent = data.pivot_table(index='weekday_exposition', values='last_price',\\\n",
    "                                     aggfunc=['count', 'median'])\n",
    "\n",
    "weekday_dependent.columns = ['count', 'median']\n",
    "weekday_dependent.plot(y='median')\n",
    "weekday_dependent.sort_values('median', ascending=False)"
   ]
  },
  {
   "cell_type": "code",
   "execution_count": 184,
   "metadata": {},
   "outputs": [
    {
     "data": {
      "text/html": [
       "<div>\n",
       "<style scoped>\n",
       "    .dataframe tbody tr th:only-of-type {\n",
       "        vertical-align: middle;\n",
       "    }\n",
       "\n",
       "    .dataframe tbody tr th {\n",
       "        vertical-align: top;\n",
       "    }\n",
       "\n",
       "    .dataframe thead th {\n",
       "        text-align: right;\n",
       "    }\n",
       "</style>\n",
       "<table border=\"1\" class=\"dataframe\">\n",
       "  <thead>\n",
       "    <tr style=\"text-align: right;\">\n",
       "      <th></th>\n",
       "      <th>count</th>\n",
       "      <th>median</th>\n",
       "    </tr>\n",
       "    <tr>\n",
       "      <th>month_exposition</th>\n",
       "      <th></th>\n",
       "      <th></th>\n",
       "    </tr>\n",
       "  </thead>\n",
       "  <tbody>\n",
       "    <tr>\n",
       "      <th>4</th>\n",
       "      <td>2379</td>\n",
       "      <td>4800000</td>\n",
       "    </tr>\n",
       "    <tr>\n",
       "      <th>9</th>\n",
       "      <td>1981</td>\n",
       "      <td>4700000</td>\n",
       "    </tr>\n",
       "    <tr>\n",
       "      <th>11</th>\n",
       "      <td>2371</td>\n",
       "      <td>4700000</td>\n",
       "    </tr>\n",
       "    <tr>\n",
       "      <th>12</th>\n",
       "      <td>1641</td>\n",
       "      <td>4700000</td>\n",
       "    </tr>\n",
       "    <tr>\n",
       "      <th>2</th>\n",
       "      <td>2640</td>\n",
       "      <td>4650000</td>\n",
       "    </tr>\n",
       "    <tr>\n",
       "      <th>3</th>\n",
       "      <td>2587</td>\n",
       "      <td>4650000</td>\n",
       "    </tr>\n",
       "    <tr>\n",
       "      <th>7</th>\n",
       "      <td>1695</td>\n",
       "      <td>4650000</td>\n",
       "    </tr>\n",
       "    <tr>\n",
       "      <th>1</th>\n",
       "      <td>1500</td>\n",
       "      <td>4600000</td>\n",
       "    </tr>\n",
       "    <tr>\n",
       "      <th>8</th>\n",
       "      <td>1744</td>\n",
       "      <td>4570000</td>\n",
       "    </tr>\n",
       "    <tr>\n",
       "      <th>10</th>\n",
       "      <td>2127</td>\n",
       "      <td>4570000</td>\n",
       "    </tr>\n",
       "    <tr>\n",
       "      <th>5</th>\n",
       "      <td>1274</td>\n",
       "      <td>4515000</td>\n",
       "    </tr>\n",
       "    <tr>\n",
       "      <th>6</th>\n",
       "      <td>1760</td>\n",
       "      <td>4400000</td>\n",
       "    </tr>\n",
       "  </tbody>\n",
       "</table>\n",
       "</div>"
      ],
      "text/plain": [
       "                  count   median\n",
       "month_exposition                \n",
       "4                  2379  4800000\n",
       "9                  1981  4700000\n",
       "11                 2371  4700000\n",
       "12                 1641  4700000\n",
       "2                  2640  4650000\n",
       "3                  2587  4650000\n",
       "7                  1695  4650000\n",
       "1                  1500  4600000\n",
       "8                  1744  4570000\n",
       "10                 2127  4570000\n",
       "5                  1274  4515000\n",
       "6                  1760  4400000"
      ]
     },
     "execution_count": 184,
     "metadata": {},
     "output_type": "execute_result"
    },
    {
     "data": {
      "image/png": "[encoded data removed]",
      "text/plain": [
       "<Figure size 432x288 with 1 Axes>"
      ]
     },
     "metadata": {
      "needs_background": "light"
     },
     "output_type": "display_data"
    }
   ],
   "source": [
    "month_dependent = data.pivot_table(index='month_exposition', values='last_price', \\\n",
    "                                   aggfunc=['count', 'median'])\n",
    "month_dependent.columns = ['count', 'median']\n",
    "month_dependent.plot(y='median')\n",
    "\n",
    "month_dependent.sort_values('median', ascending=False)"
   ]
  },
  {
   "cell_type": "markdown",
   "metadata": {},
   "source": [
    "**Вывод:** В рабочие дни недели стоимость оказывается более высокой, чем в выходные. Сезоны тоже оказывают на это влияние - в апреле стоимость оказалась наиболее высокой, а в июне - наиболее низкой."
   ]
  },
  {
   "cell_type": "markdown",
   "metadata": {},
   "source": [
    "### Cредняя цена квадратного метра в 10 населённых пунктах с наибольшим числом объявлений"
   ]
  },
  {
   "cell_type": "code",
   "execution_count": 185,
   "metadata": {},
   "outputs": [
    {
     "data": {
      "text/html": [
       "<div>\n",
       "<style scoped>\n",
       "    .dataframe tbody tr th:only-of-type {\n",
       "        vertical-align: middle;\n",
       "    }\n",
       "\n",
       "    .dataframe tbody tr th {\n",
       "        vertical-align: top;\n",
       "    }\n",
       "\n",
       "    .dataframe thead th {\n",
       "        text-align: right;\n",
       "    }\n",
       "</style>\n",
       "<table border=\"1\" class=\"dataframe\">\n",
       "  <thead>\n",
       "    <tr style=\"text-align: right;\">\n",
       "      <th></th>\n",
       "      <th>count</th>\n",
       "      <th>mean</th>\n",
       "    </tr>\n",
       "    <tr>\n",
       "      <th>locality_name</th>\n",
       "      <th></th>\n",
       "      <th></th>\n",
       "    </tr>\n",
       "  </thead>\n",
       "  <tbody>\n",
       "    <tr>\n",
       "      <th>санкт-петербург</th>\n",
       "      <td>15721</td>\n",
       "      <td>114848.565231</td>\n",
       "    </tr>\n",
       "    <tr>\n",
       "      <th>посёлок мурино</th>\n",
       "      <td>522</td>\n",
       "      <td>85751.733716</td>\n",
       "    </tr>\n",
       "    <tr>\n",
       "      <th>посёлок шушары</th>\n",
       "      <td>440</td>\n",
       "      <td>78676.904545</td>\n",
       "    </tr>\n",
       "    <tr>\n",
       "      <th>всеволожск</th>\n",
       "      <td>398</td>\n",
       "      <td>68654.007538</td>\n",
       "    </tr>\n",
       "    <tr>\n",
       "      <th>пушкин</th>\n",
       "      <td>369</td>\n",
       "      <td>103125.373984</td>\n",
       "    </tr>\n",
       "    <tr>\n",
       "      <th>колпино</th>\n",
       "      <td>338</td>\n",
       "      <td>75424.150888</td>\n",
       "    </tr>\n",
       "    <tr>\n",
       "      <th>посёлок парголово</th>\n",
       "      <td>327</td>\n",
       "      <td>90175.489297</td>\n",
       "    </tr>\n",
       "    <tr>\n",
       "      <th>гатчина</th>\n",
       "      <td>307</td>\n",
       "      <td>68745.693811</td>\n",
       "    </tr>\n",
       "    <tr>\n",
       "      <th>деревня кудрово</th>\n",
       "      <td>299</td>\n",
       "      <td>92473.086957</td>\n",
       "    </tr>\n",
       "    <tr>\n",
       "      <th>выборг</th>\n",
       "      <td>237</td>\n",
       "      <td>58141.489451</td>\n",
       "    </tr>\n",
       "  </tbody>\n",
       "</table>\n",
       "</div>"
      ],
      "text/plain": [
       "                   count           mean\n",
       "locality_name                          \n",
       "санкт-петербург    15721  114848.565231\n",
       "посёлок мурино       522   85751.733716\n",
       "посёлок шушары       440   78676.904545\n",
       "всеволожск           398   68654.007538\n",
       "пушкин               369  103125.373984\n",
       "колпино              338   75424.150888\n",
       "посёлок парголово    327   90175.489297\n",
       "гатчина              307   68745.693811\n",
       "деревня кудрово      299   92473.086957\n",
       "выборг               237   58141.489451"
      ]
     },
     "execution_count": 185,
     "metadata": {},
     "output_type": "execute_result"
    }
   ],
   "source": [
    "top_locality = data.pivot_table(index='locality_name', \\\n",
    "                                values='price_per_square_meter', aggfunc=['count', 'mean'])\n",
    "top_locality.columns = ['count', 'mean']\n",
    "top_locality = top_locality.sort_values('count', ascending=False).head(10)\n",
    "top_locality"
   ]
  },
  {
   "cell_type": "code",
   "execution_count": 186,
   "metadata": {},
   "outputs": [
    {
     "data": {
      "text/html": [
       "<div>\n",
       "<style scoped>\n",
       "    .dataframe tbody tr th:only-of-type {\n",
       "        vertical-align: middle;\n",
       "    }\n",
       "\n",
       "    .dataframe tbody tr th {\n",
       "        vertical-align: top;\n",
       "    }\n",
       "\n",
       "    .dataframe thead th {\n",
       "        text-align: right;\n",
       "    }\n",
       "</style>\n",
       "<table border=\"1\" class=\"dataframe\">\n",
       "  <thead>\n",
       "    <tr style=\"text-align: right;\">\n",
       "      <th></th>\n",
       "      <th>count</th>\n",
       "      <th>mean</th>\n",
       "    </tr>\n",
       "    <tr>\n",
       "      <th>locality_name</th>\n",
       "      <th></th>\n",
       "      <th></th>\n",
       "    </tr>\n",
       "  </thead>\n",
       "  <tbody>\n",
       "    <tr>\n",
       "      <th>санкт-петербург</th>\n",
       "      <td>15721</td>\n",
       "      <td>114848.565231</td>\n",
       "    </tr>\n",
       "  </tbody>\n",
       "</table>\n",
       "</div>"
      ],
      "text/plain": [
       "                 count           mean\n",
       "locality_name                        \n",
       "санкт-петербург  15721  114848.565231"
      ]
     },
     "execution_count": 186,
     "metadata": {},
     "output_type": "execute_result"
    }
   ],
   "source": [
    "top_locality[top_locality['mean']==top_locality['mean'].max()]"
   ]
  },
  {
   "cell_type": "code",
   "execution_count": 187,
   "metadata": {
    "scrolled": true
   },
   "outputs": [
    {
     "data": {
      "text/html": [
       "<div>\n",
       "<style scoped>\n",
       "    .dataframe tbody tr th:only-of-type {\n",
       "        vertical-align: middle;\n",
       "    }\n",
       "\n",
       "    .dataframe tbody tr th {\n",
       "        vertical-align: top;\n",
       "    }\n",
       "\n",
       "    .dataframe thead th {\n",
       "        text-align: right;\n",
       "    }\n",
       "</style>\n",
       "<table border=\"1\" class=\"dataframe\">\n",
       "  <thead>\n",
       "    <tr style=\"text-align: right;\">\n",
       "      <th></th>\n",
       "      <th>count</th>\n",
       "      <th>mean</th>\n",
       "    </tr>\n",
       "    <tr>\n",
       "      <th>locality_name</th>\n",
       "      <th></th>\n",
       "      <th></th>\n",
       "    </tr>\n",
       "  </thead>\n",
       "  <tbody>\n",
       "    <tr>\n",
       "      <th>выборг</th>\n",
       "      <td>237</td>\n",
       "      <td>58141.489451</td>\n",
       "    </tr>\n",
       "  </tbody>\n",
       "</table>\n",
       "</div>"
      ],
      "text/plain": [
       "               count          mean\n",
       "locality_name                     \n",
       "выборг           237  58141.489451"
      ]
     },
     "execution_count": 187,
     "metadata": {},
     "output_type": "execute_result"
    }
   ],
   "source": [
    "top_locality[top_locality['mean']==top_locality['mean'].min()]"
   ]
  },
  {
   "cell_type": "markdown",
   "metadata": {},
   "source": [
    "**Вывод:** Самая высокая стоимость квадратного метра оказалась в Санкт-Петербурге, а самая низкая - в Выборге."
   ]
  },
  {
   "cell_type": "markdown",
   "metadata": {},
   "source": [
    "### Цена каждого километра от центра Санкт-Петербурга"
   ]
  },
  {
   "cell_type": "code",
   "execution_count": 188,
   "metadata": {},
   "outputs": [
    {
     "name": "stdout",
     "output_type": "stream",
     "text": [
      "                          last_price\n",
      "cityCenters_nearest_km              \n",
      "1                       1.885085e+07\n",
      "2                       1.616331e+07\n",
      "3                       1.343683e+07\n",
      "4                       1.363202e+07\n",
      "5                       1.530612e+07\n"
     ]
    },
    {
     "data": {
      "text/plain": [
       "<AxesSubplot:xlabel='cityCenters_nearest_km'>"
      ]
     },
     "execution_count": 188,
     "metadata": {},
     "output_type": "execute_result"
    },
    {
     "data": {
      "image/png": "[encoded data removed]",
      "text/plain": [
       "<Figure size 432x288 with 1 Axes>"
      ]
     },
     "metadata": {
      "needs_background": "light"
     },
     "output_type": "display_data"
    }
   ],
   "source": [
    "spb_km_mean_price = data.query('locality_name == \"санкт-петербург\" and cityCenters_nearest_km != 0') \\\n",
    "                        .pivot_table(index='cityCenters_nearest_km', \\\n",
    "                                     values='last_price', aggfunc='mean')\n",
    "    \n",
    "print(spb_km_mean_price.head(5))\n",
    "spb_km_mean_price.plot()"
   ]
  },
  {
   "cell_type": "markdown",
   "metadata": {},
   "source": [
    "**Вывод:** Как и ожидалось, чем дальше жильё располагается от центра города, тем меньше становится стоимость его квадратного метра. Аномальные пики на графике, вероятно, вызваны нахождением в этих зонах дорогого элитного жилья."
   ]
  },
  {
   "cell_type": "markdown",
   "metadata": {},
   "source": [
    "## 4. Общий вывод"
   ]
  },
  {
   "cell_type": "markdown",
   "metadata": {},
   "source": [
    "Итого, в результате работы мы изучили множество разных аспектов продажи недвижимости. Разобрались с пропущенными значениями и типами данных, устранили аномалии и сформировали новые признаки в датасете.\n",
    "Подробнее изучили параметры и решили ряд поставленных задач.  \n",
    "  \n",
    "При дальнейшем сборе данных стоит обратить внимание на корректность высоты потолков и общего количества этажей.  \n",
    "\n",
    "- Квартиры в самом центре Санкт-Петебурга оказались наиболее дорогими, что не удивительно.  \n",
    "- Большую часть составляет 5-7 этажная застройка.  \n",
    "- Больше всего ценится жильё на последних этажах домов, менее всего - на первых.\n",
    "- Наиболее благоприятное время для продажи недвижимости - весна, а для покупки - лето.  \n",
    "- Большая часть недвижимости продаётся в начале недели."
   ]
  }
 ],
 "metadata": {
  "ExecuteTimeLog": [
   {
    "duration": 52,
    "start_time": "2022-10-25T08:45:23.576Z"
   },
   {
    "duration": 676,
    "start_time": "2022-10-25T08:45:31.881Z"
   },
   {
    "duration": 16,
    "start_time": "2022-10-25T08:46:25.616Z"
   },
   {
    "duration": 12,
    "start_time": "2022-10-25T08:46:28.781Z"
   },
   {
    "duration": 12,
    "start_time": "2022-10-25T08:46:32.616Z"
   },
   {
    "duration": 8,
    "start_time": "2022-10-25T08:46:57.487Z"
   },
   {
    "duration": 63,
    "start_time": "2022-10-25T08:47:14.037Z"
   },
   {
    "duration": 93,
    "start_time": "2022-10-25T08:47:39.818Z"
   },
   {
    "duration": 25,
    "start_time": "2022-10-25T08:47:41.297Z"
   },
   {
    "duration": 15,
    "start_time": "2022-10-25T08:47:44.487Z"
   },
   {
    "duration": 2289,
    "start_time": "2022-10-25T08:51:41.507Z"
   },
   {
    "duration": 6,
    "start_time": "2022-10-25T09:26:25.263Z"
   },
   {
    "duration": 6,
    "start_time": "2022-10-25T09:27:35.106Z"
   },
   {
    "duration": 8,
    "start_time": "2022-10-25T09:28:54.768Z"
   },
   {
    "duration": 6,
    "start_time": "2022-10-25T09:29:35.826Z"
   },
   {
    "duration": 7,
    "start_time": "2022-10-25T09:31:26.441Z"
   },
   {
    "duration": 7,
    "start_time": "2022-10-25T09:33:31.880Z"
   },
   {
    "duration": 6,
    "start_time": "2022-10-25T09:35:18.451Z"
   },
   {
    "duration": 10,
    "start_time": "2022-10-25T09:36:04.414Z"
   },
   {
    "duration": 8,
    "start_time": "2022-10-25T09:36:44.757Z"
   },
   {
    "duration": 15,
    "start_time": "2022-10-25T09:37:06.260Z"
   },
   {
    "duration": 14,
    "start_time": "2022-10-25T09:37:11.842Z"
   },
   {
    "duration": 6,
    "start_time": "2022-10-25T09:37:50.717Z"
   },
   {
    "duration": 3,
    "start_time": "2022-10-25T09:37:51.870Z"
   },
   {
    "duration": 101,
    "start_time": "2022-10-25T09:38:02.559Z"
   },
   {
    "duration": 28,
    "start_time": "2022-10-25T09:38:02.751Z"
   },
   {
    "duration": 18,
    "start_time": "2022-10-25T09:38:02.939Z"
   },
   {
    "duration": 1971,
    "start_time": "2022-10-25T09:38:03.119Z"
   },
   {
    "duration": 7,
    "start_time": "2022-10-25T09:38:05.092Z"
   },
   {
    "duration": 5,
    "start_time": "2022-10-25T09:38:05.100Z"
   },
   {
    "duration": 7,
    "start_time": "2022-10-25T09:38:05.106Z"
   },
   {
    "duration": 31,
    "start_time": "2022-10-25T09:38:05.114Z"
   },
   {
    "duration": 13,
    "start_time": "2022-10-25T09:38:05.146Z"
   },
   {
    "duration": 6,
    "start_time": "2022-10-25T09:38:05.339Z"
   },
   {
    "duration": 5,
    "start_time": "2022-10-25T09:38:09.418Z"
   },
   {
    "duration": 6,
    "start_time": "2022-10-25T09:38:27.997Z"
   },
   {
    "duration": 2,
    "start_time": "2022-10-25T09:42:33.572Z"
   },
   {
    "duration": 6,
    "start_time": "2022-10-25T09:46:02.131Z"
   },
   {
    "duration": 6,
    "start_time": "2022-10-25T09:46:17.661Z"
   },
   {
    "duration": 2,
    "start_time": "2022-10-25T09:47:26.047Z"
   },
   {
    "duration": 6,
    "start_time": "2022-10-25T09:47:38.150Z"
   },
   {
    "duration": 6,
    "start_time": "2022-10-25T09:47:43.212Z"
   },
   {
    "duration": 70,
    "start_time": "2022-10-25T09:52:48.301Z"
   },
   {
    "duration": 50,
    "start_time": "2022-10-25T09:53:04.301Z"
   },
   {
    "duration": 42,
    "start_time": "2022-10-25T09:54:00.761Z"
   },
   {
    "duration": 49,
    "start_time": "2022-10-25T09:54:13.751Z"
   },
   {
    "duration": 26,
    "start_time": "2022-10-25T09:55:32.660Z"
   },
   {
    "duration": 7,
    "start_time": "2022-10-25T09:55:58.563Z"
   },
   {
    "duration": 6,
    "start_time": "2022-10-25T09:56:07.202Z"
   },
   {
    "duration": 6,
    "start_time": "2022-10-25T09:56:19.661Z"
   },
   {
    "duration": 5,
    "start_time": "2022-10-25T09:56:31.849Z"
   },
   {
    "duration": 5,
    "start_time": "2022-10-25T09:56:42.361Z"
   },
   {
    "duration": 39,
    "start_time": "2022-10-25T10:05:11.531Z"
   },
   {
    "duration": 8,
    "start_time": "2022-10-25T10:05:14.980Z"
   },
   {
    "duration": 6,
    "start_time": "2022-10-25T10:05:21.292Z"
   },
   {
    "duration": 8,
    "start_time": "2022-10-25T10:05:24.292Z"
   },
   {
    "duration": 3,
    "start_time": "2022-10-25T13:53:02.996Z"
   },
   {
    "duration": 42,
    "start_time": "2022-10-25T13:53:23.532Z"
   },
   {
    "duration": 1112,
    "start_time": "2022-10-25T13:53:32.019Z"
   },
   {
    "duration": 27,
    "start_time": "2022-10-25T13:53:33.133Z"
   },
   {
    "duration": 21,
    "start_time": "2022-10-25T13:53:33.162Z"
   },
   {
    "duration": 2175,
    "start_time": "2022-10-25T13:53:34.902Z"
   },
   {
    "duration": 6,
    "start_time": "2022-10-25T13:53:39.598Z"
   },
   {
    "duration": 6,
    "start_time": "2022-10-25T13:53:41.590Z"
   },
   {
    "duration": 6,
    "start_time": "2022-10-25T13:54:00.332Z"
   },
   {
    "duration": 5,
    "start_time": "2022-10-25T13:54:00.998Z"
   },
   {
    "duration": 7,
    "start_time": "2022-10-25T13:54:02.012Z"
   },
   {
    "duration": 8,
    "start_time": "2022-10-25T13:54:02.770Z"
   },
   {
    "duration": 11,
    "start_time": "2022-10-25T13:54:03.012Z"
   },
   {
    "duration": 5,
    "start_time": "2022-10-25T13:54:03.394Z"
   },
   {
    "duration": 6,
    "start_time": "2022-10-25T13:54:03.832Z"
   },
   {
    "duration": 28,
    "start_time": "2022-10-25T13:54:04.032Z"
   },
   {
    "duration": 6,
    "start_time": "2022-10-25T13:54:04.252Z"
   },
   {
    "duration": 6,
    "start_time": "2022-10-25T13:54:04.658Z"
   },
   {
    "duration": 7,
    "start_time": "2022-10-25T13:54:05.197Z"
   },
   {
    "duration": 8,
    "start_time": "2022-10-25T13:54:05.582Z"
   },
   {
    "duration": 8,
    "start_time": "2022-10-25T13:55:07.696Z"
   },
   {
    "duration": 138,
    "start_time": "2022-10-25T13:56:45.105Z"
   },
   {
    "duration": 148,
    "start_time": "2022-10-25T13:57:04.949Z"
   },
   {
    "duration": 161,
    "start_time": "2022-10-25T13:57:14.519Z"
   },
   {
    "duration": 166,
    "start_time": "2022-10-25T13:57:23.317Z"
   },
   {
    "duration": 166,
    "start_time": "2022-10-25T13:57:28.248Z"
   },
   {
    "duration": 216,
    "start_time": "2022-10-25T13:57:32.198Z"
   },
   {
    "duration": 5,
    "start_time": "2022-10-25T14:12:43.708Z"
   },
   {
    "duration": 32,
    "start_time": "2022-10-25T14:12:56.132Z"
   },
   {
    "duration": 26,
    "start_time": "2022-10-25T14:15:09.520Z"
   },
   {
    "duration": 29,
    "start_time": "2022-10-25T14:15:15.677Z"
   },
   {
    "duration": 5,
    "start_time": "2022-10-25T14:16:01.567Z"
   },
   {
    "duration": 6,
    "start_time": "2022-10-25T14:18:27.971Z"
   },
   {
    "duration": 63,
    "start_time": "2022-10-25T14:20:00.186Z"
   },
   {
    "duration": 7,
    "start_time": "2022-10-25T14:28:29.590Z"
   },
   {
    "duration": 24,
    "start_time": "2022-10-25T14:28:41.388Z"
   },
   {
    "duration": 43,
    "start_time": "2022-10-25T14:45:52.739Z"
   },
   {
    "duration": 258,
    "start_time": "2022-10-25T14:46:17.921Z"
   },
   {
    "duration": 14,
    "start_time": "2022-10-25T14:46:22.134Z"
   },
   {
    "duration": 29,
    "start_time": "2022-10-25T14:46:56.946Z"
   },
   {
    "duration": 31,
    "start_time": "2022-10-25T14:47:25.668Z"
   },
   {
    "duration": 19,
    "start_time": "2022-10-25T14:48:00.351Z"
   },
   {
    "duration": 9,
    "start_time": "2022-10-25T14:48:05.766Z"
   },
   {
    "duration": 14,
    "start_time": "2022-10-25T14:48:51.175Z"
   },
   {
    "duration": 10,
    "start_time": "2022-10-25T14:49:09.044Z"
   },
   {
    "duration": 21,
    "start_time": "2022-10-25T14:49:19.473Z"
   },
   {
    "duration": 8,
    "start_time": "2022-10-25T14:49:26.832Z"
   },
   {
    "duration": 9,
    "start_time": "2022-10-25T14:55:53.159Z"
   },
   {
    "duration": 7,
    "start_time": "2022-10-25T14:56:11.860Z"
   },
   {
    "duration": 8,
    "start_time": "2022-10-25T14:56:29.074Z"
   },
   {
    "duration": 6,
    "start_time": "2022-10-25T14:56:50.783Z"
   },
   {
    "duration": 10,
    "start_time": "2022-10-25T14:56:55.702Z"
   },
   {
    "duration": 9,
    "start_time": "2022-10-25T14:57:00.581Z"
   },
   {
    "duration": 8,
    "start_time": "2022-10-25T14:57:08.687Z"
   },
   {
    "duration": 6,
    "start_time": "2022-10-25T14:57:23.134Z"
   },
   {
    "duration": 7,
    "start_time": "2022-10-25T14:57:32.971Z"
   },
   {
    "duration": 5,
    "start_time": "2022-10-25T14:58:30.567Z"
   },
   {
    "duration": 35,
    "start_time": "2022-10-25T14:59:33.903Z"
   },
   {
    "duration": 8,
    "start_time": "2022-10-25T14:59:47.927Z"
   },
   {
    "duration": 34,
    "start_time": "2022-10-25T14:59:54.390Z"
   },
   {
    "duration": 45,
    "start_time": "2022-10-25T15:00:09.016Z"
   },
   {
    "duration": 32,
    "start_time": "2022-10-25T15:00:12.792Z"
   },
   {
    "duration": 37,
    "start_time": "2022-10-25T15:00:41.877Z"
   },
   {
    "duration": 27,
    "start_time": "2022-10-25T15:00:44.908Z"
   },
   {
    "duration": 25,
    "start_time": "2022-10-25T15:02:05.948Z"
   },
   {
    "duration": 44,
    "start_time": "2022-10-25T15:02:33.859Z"
   },
   {
    "duration": 10,
    "start_time": "2022-10-25T15:02:58.601Z"
   },
   {
    "duration": 57,
    "start_time": "2022-10-25T15:09:17.616Z"
   },
   {
    "duration": 59,
    "start_time": "2022-10-25T16:25:58.925Z"
   },
   {
    "duration": 1041,
    "start_time": "2022-10-25T16:26:05.597Z"
   },
   {
    "duration": 28,
    "start_time": "2022-10-25T16:26:06.640Z"
   },
   {
    "duration": 3,
    "start_time": "2022-10-25T16:26:06.670Z"
   },
   {
    "duration": 15,
    "start_time": "2022-10-25T16:26:06.675Z"
   },
   {
    "duration": 2084,
    "start_time": "2022-10-25T16:26:06.709Z"
   },
   {
    "duration": 7,
    "start_time": "2022-10-25T16:26:08.795Z"
   },
   {
    "duration": 11,
    "start_time": "2022-10-25T16:26:08.803Z"
   },
   {
    "duration": 6,
    "start_time": "2022-10-25T16:26:08.816Z"
   },
   {
    "duration": 10,
    "start_time": "2022-10-25T16:26:08.824Z"
   },
   {
    "duration": 35,
    "start_time": "2022-10-25T16:26:08.962Z"
   },
   {
    "duration": 9,
    "start_time": "2022-10-25T16:26:09.609Z"
   },
   {
    "duration": 11,
    "start_time": "2022-10-25T16:26:11.056Z"
   },
   {
    "duration": 5,
    "start_time": "2022-10-25T16:26:12.550Z"
   },
   {
    "duration": 32,
    "start_time": "2022-10-25T16:26:13.431Z"
   },
   {
    "duration": 6,
    "start_time": "2022-10-25T16:27:01.531Z"
   },
   {
    "duration": 40,
    "start_time": "2022-10-25T16:27:07.125Z"
   },
   {
    "duration": 7,
    "start_time": "2022-10-25T16:30:23.284Z"
   },
   {
    "duration": 7,
    "start_time": "2022-10-25T16:30:36.468Z"
   },
   {
    "duration": 8,
    "start_time": "2022-10-25T16:31:29.386Z"
   },
   {
    "duration": 53,
    "start_time": "2022-10-25T16:31:43.101Z"
   },
   {
    "duration": 40,
    "start_time": "2022-10-25T16:32:00.686Z"
   },
   {
    "duration": 10,
    "start_time": "2022-10-25T16:32:04.597Z"
   },
   {
    "duration": 8,
    "start_time": "2022-10-25T16:32:18.889Z"
   },
   {
    "duration": 9,
    "start_time": "2022-10-25T16:32:27.353Z"
   },
   {
    "duration": 46,
    "start_time": "2022-10-25T16:32:36.434Z"
   },
   {
    "duration": 14,
    "start_time": "2022-10-25T16:32:47.115Z"
   },
   {
    "duration": 17,
    "start_time": "2022-10-25T16:32:52.074Z"
   },
   {
    "duration": 14,
    "start_time": "2022-10-25T16:32:54.683Z"
   },
   {
    "duration": 20,
    "start_time": "2022-10-25T16:32:59.063Z"
   },
   {
    "duration": 35,
    "start_time": "2022-10-25T16:33:04.470Z"
   },
   {
    "duration": 33,
    "start_time": "2022-10-25T16:33:13.516Z"
   },
   {
    "duration": 10,
    "start_time": "2022-10-25T16:34:03.942Z"
   },
   {
    "duration": 11,
    "start_time": "2022-10-25T16:34:15.462Z"
   },
   {
    "duration": 15,
    "start_time": "2022-10-25T16:37:57.022Z"
   },
   {
    "duration": 13,
    "start_time": "2022-10-25T16:38:06.622Z"
   },
   {
    "duration": 11,
    "start_time": "2022-10-25T16:38:43.292Z"
   },
   {
    "duration": 94,
    "start_time": "2022-10-25T16:38:47.759Z"
   },
   {
    "duration": 25,
    "start_time": "2022-10-25T16:38:48.497Z"
   },
   {
    "duration": 4,
    "start_time": "2022-10-25T16:38:52.289Z"
   },
   {
    "duration": 13,
    "start_time": "2022-10-25T16:38:53.235Z"
   },
   {
    "duration": 1779,
    "start_time": "2022-10-25T16:38:55.238Z"
   },
   {
    "duration": 5,
    "start_time": "2022-10-25T16:38:57.023Z"
   },
   {
    "duration": 7,
    "start_time": "2022-10-25T16:38:58.034Z"
   },
   {
    "duration": 4,
    "start_time": "2022-10-25T16:38:58.417Z"
   },
   {
    "duration": 8,
    "start_time": "2022-10-25T16:38:58.811Z"
   },
   {
    "duration": 26,
    "start_time": "2022-10-25T16:38:59.519Z"
   },
   {
    "duration": 8,
    "start_time": "2022-10-25T16:39:00.144Z"
   },
   {
    "duration": 11,
    "start_time": "2022-10-25T16:39:00.513Z"
   },
   {
    "duration": 6,
    "start_time": "2022-10-25T16:39:00.889Z"
   },
   {
    "duration": 7,
    "start_time": "2022-10-25T16:39:01.688Z"
   },
   {
    "duration": 5,
    "start_time": "2022-10-25T16:39:02.161Z"
   },
   {
    "duration": 26,
    "start_time": "2022-10-25T16:39:02.550Z"
   },
   {
    "duration": 12,
    "start_time": "2022-10-25T16:39:05.336Z"
   },
   {
    "duration": 16,
    "start_time": "2022-10-25T16:39:05.835Z"
   },
   {
    "duration": 84,
    "start_time": "2022-10-25T16:40:06.120Z"
   },
   {
    "duration": 12,
    "start_time": "2022-10-25T16:40:17.105Z"
   },
   {
    "duration": 8,
    "start_time": "2022-10-25T16:40:25.343Z"
   },
   {
    "duration": 11,
    "start_time": "2022-10-25T16:40:32.192Z"
   },
   {
    "duration": 13,
    "start_time": "2022-10-25T16:41:11.895Z"
   },
   {
    "duration": 107,
    "start_time": "2022-10-25T16:41:17.526Z"
   },
   {
    "duration": 23,
    "start_time": "2022-10-25T16:41:17.684Z"
   },
   {
    "duration": 5,
    "start_time": "2022-10-25T16:41:17.818Z"
   },
   {
    "duration": 15,
    "start_time": "2022-10-25T16:41:17.976Z"
   },
   {
    "duration": 1935,
    "start_time": "2022-10-25T16:41:18.305Z"
   },
   {
    "duration": 5,
    "start_time": "2022-10-25T16:41:20.242Z"
   },
   {
    "duration": 15,
    "start_time": "2022-10-25T16:41:20.248Z"
   },
   {
    "duration": 4,
    "start_time": "2022-10-25T16:41:20.265Z"
   },
   {
    "duration": 9,
    "start_time": "2022-10-25T16:41:20.270Z"
   },
   {
    "duration": 26,
    "start_time": "2022-10-25T16:41:20.280Z"
   },
   {
    "duration": 8,
    "start_time": "2022-10-25T16:41:20.684Z"
   },
   {
    "duration": 10,
    "start_time": "2022-10-25T16:41:21.045Z"
   },
   {
    "duration": 6,
    "start_time": "2022-10-25T16:41:21.379Z"
   },
   {
    "duration": 7,
    "start_time": "2022-10-25T16:41:21.754Z"
   },
   {
    "duration": 5,
    "start_time": "2022-10-25T16:41:21.957Z"
   },
   {
    "duration": 26,
    "start_time": "2022-10-25T16:41:22.293Z"
   },
   {
    "duration": 22,
    "start_time": "2022-10-25T16:41:22.710Z"
   },
   {
    "duration": 21,
    "start_time": "2022-10-25T16:41:22.885Z"
   },
   {
    "duration": 16,
    "start_time": "2022-10-25T16:41:26.320Z"
   },
   {
    "duration": 87,
    "start_time": "2022-10-25T16:41:49.402Z"
   },
   {
    "duration": 24,
    "start_time": "2022-10-25T16:41:49.590Z"
   },
   {
    "duration": 4,
    "start_time": "2022-10-25T16:41:49.773Z"
   },
   {
    "duration": 14,
    "start_time": "2022-10-25T16:41:50.088Z"
   },
   {
    "duration": 1734,
    "start_time": "2022-10-25T16:41:50.601Z"
   },
   {
    "duration": 5,
    "start_time": "2022-10-25T16:41:52.337Z"
   },
   {
    "duration": 9,
    "start_time": "2022-10-25T16:41:52.343Z"
   },
   {
    "duration": 5,
    "start_time": "2022-10-25T16:41:52.354Z"
   },
   {
    "duration": 9,
    "start_time": "2022-10-25T16:41:52.597Z"
   },
   {
    "duration": 25,
    "start_time": "2022-10-25T16:41:52.979Z"
   },
   {
    "duration": 9,
    "start_time": "2022-10-25T16:41:53.556Z"
   },
   {
    "duration": 9,
    "start_time": "2022-10-25T16:41:53.952Z"
   },
   {
    "duration": 8,
    "start_time": "2022-10-25T16:41:54.333Z"
   },
   {
    "duration": 7,
    "start_time": "2022-10-25T16:41:54.735Z"
   },
   {
    "duration": 5,
    "start_time": "2022-10-25T16:41:54.920Z"
   },
   {
    "duration": 26,
    "start_time": "2022-10-25T16:41:55.335Z"
   },
   {
    "duration": 14,
    "start_time": "2022-10-25T16:41:55.669Z"
   },
   {
    "duration": 15,
    "start_time": "2022-10-25T16:41:55.867Z"
   },
   {
    "duration": 97,
    "start_time": "2022-10-25T16:42:13.049Z"
   },
   {
    "duration": 12,
    "start_time": "2022-10-25T16:42:20.743Z"
   },
   {
    "duration": 17,
    "start_time": "2022-10-25T16:42:21.355Z"
   },
   {
    "duration": 148,
    "start_time": "2022-10-25T16:42:26.746Z"
   },
   {
    "duration": 14,
    "start_time": "2022-10-25T16:42:27.414Z"
   },
   {
    "duration": 11,
    "start_time": "2022-10-25T16:42:35.909Z"
   },
   {
    "duration": 18,
    "start_time": "2022-10-25T16:42:37.215Z"
   },
   {
    "duration": 88,
    "start_time": "2022-10-25T16:42:42.459Z"
   },
   {
    "duration": 32,
    "start_time": "2022-10-25T16:42:42.675Z"
   },
   {
    "duration": 4,
    "start_time": "2022-10-25T16:42:42.784Z"
   },
   {
    "duration": 15,
    "start_time": "2022-10-25T16:42:42.908Z"
   },
   {
    "duration": 1761,
    "start_time": "2022-10-25T16:42:43.219Z"
   },
   {
    "duration": 6,
    "start_time": "2022-10-25T16:42:44.981Z"
   },
   {
    "duration": 11,
    "start_time": "2022-10-25T16:42:44.989Z"
   },
   {
    "duration": 26,
    "start_time": "2022-10-25T16:42:45.001Z"
   },
   {
    "duration": 9,
    "start_time": "2022-10-25T16:42:45.203Z"
   },
   {
    "duration": 28,
    "start_time": "2022-10-25T16:42:45.567Z"
   },
   {
    "duration": 10,
    "start_time": "2022-10-25T16:42:46.102Z"
   },
   {
    "duration": 11,
    "start_time": "2022-10-25T16:42:46.664Z"
   },
   {
    "duration": 6,
    "start_time": "2022-10-25T16:42:47.041Z"
   },
   {
    "duration": 8,
    "start_time": "2022-10-25T16:42:47.385Z"
   },
   {
    "duration": 7,
    "start_time": "2022-10-25T16:42:47.577Z"
   },
   {
    "duration": 25,
    "start_time": "2022-10-25T16:42:47.987Z"
   },
   {
    "duration": 15,
    "start_time": "2022-10-25T16:42:49.658Z"
   },
   {
    "duration": 15,
    "start_time": "2022-10-25T16:42:50.538Z"
   },
   {
    "duration": 3,
    "start_time": "2022-10-25T16:44:05.232Z"
   },
   {
    "duration": 9,
    "start_time": "2022-10-25T16:44:20.143Z"
   },
   {
    "duration": 218,
    "start_time": "2022-10-25T16:44:39.223Z"
   },
   {
    "duration": 7,
    "start_time": "2022-10-25T16:47:14.472Z"
   },
   {
    "duration": 5,
    "start_time": "2022-10-25T16:47:26.805Z"
   },
   {
    "duration": 5,
    "start_time": "2022-10-25T16:48:00.886Z"
   },
   {
    "duration": 7,
    "start_time": "2022-10-25T16:48:08.958Z"
   },
   {
    "duration": 4,
    "start_time": "2022-10-25T16:50:24.339Z"
   },
   {
    "duration": 6,
    "start_time": "2022-10-25T16:50:38.115Z"
   },
   {
    "duration": 5,
    "start_time": "2022-10-25T16:51:45.085Z"
   },
   {
    "duration": 13,
    "start_time": "2022-10-25T16:51:56.949Z"
   },
   {
    "duration": 5,
    "start_time": "2022-10-25T16:53:13.324Z"
   },
   {
    "duration": 6,
    "start_time": "2022-10-25T16:53:19.551Z"
   },
   {
    "duration": 124,
    "start_time": "2022-10-25T16:53:40.053Z"
   },
   {
    "duration": 3,
    "start_time": "2022-10-25T16:54:17.514Z"
   },
   {
    "duration": 7,
    "start_time": "2022-10-25T16:54:36.885Z"
   },
   {
    "duration": 2,
    "start_time": "2022-10-25T16:58:25.318Z"
   },
   {
    "duration": 52,
    "start_time": "2022-10-25T16:59:05.705Z"
   },
   {
    "duration": 5,
    "start_time": "2022-10-25T16:59:50.365Z"
   },
   {
    "duration": 14,
    "start_time": "2022-10-25T16:59:53.265Z"
   },
   {
    "duration": 6,
    "start_time": "2022-10-25T17:01:15.009Z"
   },
   {
    "duration": 7,
    "start_time": "2022-10-25T17:01:15.959Z"
   },
   {
    "duration": 13,
    "start_time": "2022-10-25T17:01:17.805Z"
   },
   {
    "duration": 2,
    "start_time": "2022-10-25T17:02:12.806Z"
   },
   {
    "duration": 4,
    "start_time": "2022-10-25T17:09:05.765Z"
   },
   {
    "duration": 7,
    "start_time": "2022-10-25T17:09:19.113Z"
   },
   {
    "duration": 13,
    "start_time": "2022-10-25T17:11:03.874Z"
   },
   {
    "duration": 12,
    "start_time": "2022-10-25T17:12:26.565Z"
   },
   {
    "duration": 108,
    "start_time": "2022-10-25T17:13:19.777Z"
   },
   {
    "duration": 129,
    "start_time": "2022-10-25T17:13:34.557Z"
   },
   {
    "duration": 5,
    "start_time": "2022-10-25T17:13:44.799Z"
   },
   {
    "duration": 129,
    "start_time": "2022-10-25T17:13:53.214Z"
   },
   {
    "duration": 152,
    "start_time": "2022-10-25T17:14:00.609Z"
   },
   {
    "duration": 154,
    "start_time": "2022-10-25T17:14:17.556Z"
   },
   {
    "duration": 144,
    "start_time": "2022-10-25T17:14:23.352Z"
   },
   {
    "duration": 138,
    "start_time": "2022-10-25T17:14:31.450Z"
   },
   {
    "duration": 154,
    "start_time": "2022-10-25T17:14:35.149Z"
   },
   {
    "duration": 166,
    "start_time": "2022-10-25T17:14:39.777Z"
   },
   {
    "duration": 213,
    "start_time": "2022-10-25T17:14:44.451Z"
   },
   {
    "duration": 163,
    "start_time": "2022-10-25T17:14:49.180Z"
   },
   {
    "duration": 151,
    "start_time": "2022-10-25T17:14:52.465Z"
   },
   {
    "duration": 148,
    "start_time": "2022-10-25T17:14:55.041Z"
   },
   {
    "duration": 161,
    "start_time": "2022-10-25T17:14:57.515Z"
   },
   {
    "duration": 143,
    "start_time": "2022-10-25T17:15:12.551Z"
   },
   {
    "duration": 159,
    "start_time": "2022-10-25T17:15:19.990Z"
   },
   {
    "duration": 338,
    "start_time": "2022-10-25T17:15:29.296Z"
   },
   {
    "duration": 150,
    "start_time": "2022-10-25T17:15:35.120Z"
   },
   {
    "duration": 362,
    "start_time": "2022-10-25T17:15:38.407Z"
   },
   {
    "duration": 163,
    "start_time": "2022-10-25T17:15:41.902Z"
   },
   {
    "duration": 124,
    "start_time": "2022-10-25T17:15:55.652Z"
   },
   {
    "duration": 156,
    "start_time": "2022-10-25T17:16:02.199Z"
   },
   {
    "duration": 14,
    "start_time": "2022-10-25T17:23:49.561Z"
   },
   {
    "duration": 12,
    "start_time": "2022-10-25T17:26:52.815Z"
   },
   {
    "duration": 9,
    "start_time": "2022-10-25T17:27:01.179Z"
   },
   {
    "duration": 13,
    "start_time": "2022-10-25T17:27:02.367Z"
   },
   {
    "duration": 7,
    "start_time": "2022-10-25T17:28:31.813Z"
   },
   {
    "duration": 16,
    "start_time": "2022-10-25T17:29:10.705Z"
   },
   {
    "duration": 18,
    "start_time": "2022-10-25T17:30:10.999Z"
   },
   {
    "duration": 10,
    "start_time": "2022-10-25T17:31:58.964Z"
   },
   {
    "duration": 87,
    "start_time": "2022-10-25T17:32:07.070Z"
   },
   {
    "duration": 7,
    "start_time": "2022-10-25T17:32:15.447Z"
   },
   {
    "duration": 21,
    "start_time": "2022-10-25T17:32:19.870Z"
   },
   {
    "duration": 20,
    "start_time": "2022-10-25T17:32:46.444Z"
   },
   {
    "duration": 18,
    "start_time": "2022-10-25T17:34:48.642Z"
   },
   {
    "duration": 11,
    "start_time": "2022-10-25T17:35:56.459Z"
   },
   {
    "duration": 6,
    "start_time": "2022-10-25T17:37:10.694Z"
   },
   {
    "duration": 5,
    "start_time": "2022-10-25T17:37:20.574Z"
   },
   {
    "duration": 112,
    "start_time": "2022-10-25T17:37:30.750Z"
   },
   {
    "duration": 13,
    "start_time": "2022-10-25T17:37:37.183Z"
   },
   {
    "duration": 10,
    "start_time": "2022-10-25T17:37:45.372Z"
   },
   {
    "duration": 14,
    "start_time": "2022-10-25T17:37:46.098Z"
   },
   {
    "duration": 16,
    "start_time": "2022-10-25T17:38:09.183Z"
   },
   {
    "duration": 3,
    "start_time": "2022-10-25T17:38:12.519Z"
   },
   {
    "duration": 85,
    "start_time": "2022-10-25T17:38:36.559Z"
   },
   {
    "duration": 23,
    "start_time": "2022-10-25T17:38:36.708Z"
   },
   {
    "duration": 4,
    "start_time": "2022-10-25T17:38:36.849Z"
   },
   {
    "duration": 15,
    "start_time": "2022-10-25T17:38:36.974Z"
   },
   {
    "duration": 1705,
    "start_time": "2022-10-25T17:38:37.304Z"
   },
   {
    "duration": 190,
    "start_time": "2022-10-25T17:38:39.011Z"
   },
   {
    "duration": 6,
    "start_time": "2022-10-25T17:38:39.202Z"
   },
   {
    "duration": 65,
    "start_time": "2022-10-25T17:38:39.209Z"
   },
   {
    "duration": 41,
    "start_time": "2022-10-25T17:38:39.276Z"
   },
   {
    "duration": 31,
    "start_time": "2022-10-25T17:38:39.319Z"
   },
   {
    "duration": 7,
    "start_time": "2022-10-25T17:38:39.660Z"
   },
   {
    "duration": 10,
    "start_time": "2022-10-25T17:38:40.009Z"
   },
   {
    "duration": 160,
    "start_time": "2022-10-25T17:38:40.349Z"
   },
   {
    "duration": 7,
    "start_time": "2022-10-25T17:38:40.707Z"
   },
   {
    "duration": 5,
    "start_time": "2022-10-25T17:38:40.885Z"
   },
   {
    "duration": 24,
    "start_time": "2022-10-25T17:38:41.246Z"
   },
   {
    "duration": 15,
    "start_time": "2022-10-25T17:38:41.593Z"
   },
   {
    "duration": 4,
    "start_time": "2022-10-25T17:38:41.918Z"
   },
   {
    "duration": 114,
    "start_time": "2022-10-25T17:38:42.138Z"
   },
   {
    "duration": 5,
    "start_time": "2022-10-25T17:38:42.769Z"
   },
   {
    "duration": 126,
    "start_time": "2022-10-25T17:38:43.119Z"
   },
   {
    "duration": 5,
    "start_time": "2022-10-25T17:38:44.177Z"
   },
   {
    "duration": 5,
    "start_time": "2022-10-25T17:38:44.564Z"
   },
   {
    "duration": 7,
    "start_time": "2022-10-25T17:38:45.218Z"
   },
   {
    "duration": 5,
    "start_time": "2022-10-25T17:38:45.595Z"
   },
   {
    "duration": 17,
    "start_time": "2022-10-25T17:38:45.958Z"
   },
   {
    "duration": 9,
    "start_time": "2022-10-25T17:38:46.337Z"
   },
   {
    "duration": 13,
    "start_time": "2022-10-25T17:38:46.743Z"
   },
   {
    "duration": 5,
    "start_time": "2022-10-25T17:40:32.156Z"
   },
   {
    "duration": 5,
    "start_time": "2022-10-25T17:41:07.782Z"
   },
   {
    "duration": 12,
    "start_time": "2022-10-25T17:43:01.215Z"
   },
   {
    "duration": 10,
    "start_time": "2022-10-25T17:44:44.454Z"
   },
   {
    "duration": 5,
    "start_time": "2022-10-25T17:44:54.407Z"
   },
   {
    "duration": 241,
    "start_time": "2022-10-25T17:47:31.406Z"
   },
   {
    "duration": 494,
    "start_time": "2022-10-25T17:47:57.168Z"
   },
   {
    "duration": 702,
    "start_time": "2022-10-27T12:07:36.904Z"
   },
   {
    "duration": 34,
    "start_time": "2022-10-27T12:07:37.608Z"
   },
   {
    "duration": 4,
    "start_time": "2022-10-27T12:07:37.674Z"
   },
   {
    "duration": 16,
    "start_time": "2022-10-27T12:07:38.189Z"
   },
   {
    "duration": 2427,
    "start_time": "2022-10-27T12:07:38.878Z"
   },
   {
    "duration": 175,
    "start_time": "2022-10-27T12:07:41.307Z"
   },
   {
    "duration": 7,
    "start_time": "2022-10-27T12:07:42.713Z"
   },
   {
    "duration": 7,
    "start_time": "2022-10-27T12:07:58.909Z"
   },
   {
    "duration": 11,
    "start_time": "2022-10-27T12:08:00.450Z"
   },
   {
    "duration": 42,
    "start_time": "2022-10-27T12:08:01.752Z"
   },
   {
    "duration": 8,
    "start_time": "2022-10-27T12:08:03.772Z"
   },
   {
    "duration": 11,
    "start_time": "2022-10-27T12:08:04.857Z"
   },
   {
    "duration": 196,
    "start_time": "2022-10-27T12:08:05.959Z"
   },
   {
    "duration": 7,
    "start_time": "2022-10-27T12:08:10.094Z"
   },
   {
    "duration": 7,
    "start_time": "2022-10-27T12:08:10.696Z"
   },
   {
    "duration": 28,
    "start_time": "2022-10-27T12:08:12.991Z"
   },
   {
    "duration": 18,
    "start_time": "2022-10-27T12:08:13.975Z"
   },
   {
    "duration": 6,
    "start_time": "2022-10-27T12:08:15.553Z"
   },
   {
    "duration": 141,
    "start_time": "2022-10-27T12:08:19.350Z"
   },
   {
    "duration": 7,
    "start_time": "2022-10-27T12:09:06.006Z"
   },
   {
    "duration": 157,
    "start_time": "2022-10-27T12:09:10.521Z"
   },
   {
    "duration": 6,
    "start_time": "2022-10-27T12:09:13.753Z"
   },
   {
    "duration": 6,
    "start_time": "2022-10-27T12:09:32.974Z"
   },
   {
    "duration": 6,
    "start_time": "2022-10-27T12:09:36.071Z"
   },
   {
    "duration": 6,
    "start_time": "2022-10-27T12:09:36.702Z"
   },
   {
    "duration": 9,
    "start_time": "2022-10-27T12:09:37.904Z"
   },
   {
    "duration": 6,
    "start_time": "2022-10-27T12:09:46.582Z"
   },
   {
    "duration": 17,
    "start_time": "2022-10-27T12:09:59.394Z"
   },
   {
    "duration": 21,
    "start_time": "2022-10-27T12:10:09.279Z"
   },
   {
    "duration": 12,
    "start_time": "2022-10-27T12:11:49.353Z"
   },
   {
    "duration": 16,
    "start_time": "2022-10-27T12:11:50.554Z"
   },
   {
    "duration": 7,
    "start_time": "2022-10-27T12:12:09.601Z"
   },
   {
    "duration": 19,
    "start_time": "2022-10-27T12:12:10.755Z"
   },
   {
    "duration": 454,
    "start_time": "2022-10-27T12:12:13.569Z"
   },
   {
    "duration": 5,
    "start_time": "2022-10-27T12:13:43.214Z"
   },
   {
    "duration": 147,
    "start_time": "2022-10-27T12:13:43.757Z"
   },
   {
    "duration": 6,
    "start_time": "2022-10-27T12:13:49.789Z"
   },
   {
    "duration": 143,
    "start_time": "2022-10-27T12:13:50.295Z"
   },
   {
    "duration": 8,
    "start_time": "2022-10-27T12:13:51.773Z"
   },
   {
    "duration": 6,
    "start_time": "2022-10-27T12:13:52.075Z"
   },
   {
    "duration": 7,
    "start_time": "2022-10-27T12:13:52.381Z"
   },
   {
    "duration": 4,
    "start_time": "2022-10-27T12:13:52.688Z"
   },
   {
    "duration": 23,
    "start_time": "2022-10-27T12:13:53.002Z"
   },
   {
    "duration": 8,
    "start_time": "2022-10-27T12:13:53.550Z"
   },
   {
    "duration": 16,
    "start_time": "2022-10-27T12:13:53.890Z"
   },
   {
    "duration": 5,
    "start_time": "2022-10-27T12:13:54.445Z"
   },
   {
    "duration": 14,
    "start_time": "2022-10-27T12:13:54.969Z"
   },
   {
    "duration": 294,
    "start_time": "2022-10-27T12:13:55.493Z"
   },
   {
    "duration": 5,
    "start_time": "2022-10-27T12:18:57.711Z"
   },
   {
    "duration": 9,
    "start_time": "2022-10-27T12:19:11.992Z"
   },
   {
    "duration": 4,
    "start_time": "2022-10-27T12:19:19.564Z"
   },
   {
    "duration": 308,
    "start_time": "2022-10-27T12:20:46.753Z"
   },
   {
    "duration": 359,
    "start_time": "2022-10-27T12:24:56.195Z"
   },
   {
    "duration": 462,
    "start_time": "2022-10-27T12:25:48.957Z"
   },
   {
    "duration": 321,
    "start_time": "2022-10-27T12:26:50.386Z"
   },
   {
    "duration": 206,
    "start_time": "2022-10-27T12:27:05.914Z"
   },
   {
    "duration": 302,
    "start_time": "2022-10-27T12:27:13.253Z"
   },
   {
    "duration": 180,
    "start_time": "2022-10-27T12:27:18.753Z"
   },
   {
    "duration": 182,
    "start_time": "2022-10-27T12:27:25.886Z"
   },
   {
    "duration": 205,
    "start_time": "2022-10-27T12:27:32.254Z"
   },
   {
    "duration": 474,
    "start_time": "2022-10-27T12:28:24.681Z"
   },
   {
    "duration": 216,
    "start_time": "2022-10-27T12:28:51.920Z"
   },
   {
    "duration": 8,
    "start_time": "2022-10-27T12:29:28.515Z"
   },
   {
    "duration": 9,
    "start_time": "2022-10-27T12:29:47.381Z"
   },
   {
    "duration": 290,
    "start_time": "2022-10-27T12:30:10.853Z"
   },
   {
    "duration": 312,
    "start_time": "2022-10-27T12:33:58.615Z"
   },
   {
    "duration": 307,
    "start_time": "2022-10-27T12:34:08.288Z"
   },
   {
    "duration": 313,
    "start_time": "2022-10-27T12:34:14.008Z"
   },
   {
    "duration": 459,
    "start_time": "2022-10-27T12:34:36.579Z"
   },
   {
    "duration": 288,
    "start_time": "2022-10-27T12:36:36.270Z"
   },
   {
    "duration": 323,
    "start_time": "2022-10-27T12:36:50.848Z"
   },
   {
    "duration": 285,
    "start_time": "2022-10-27T12:37:07.883Z"
   },
   {
    "duration": 146,
    "start_time": "2022-10-27T12:37:13.471Z"
   },
   {
    "duration": 329,
    "start_time": "2022-10-27T12:37:17.757Z"
   },
   {
    "duration": 316,
    "start_time": "2022-10-27T12:37:23.451Z"
   },
   {
    "duration": 155,
    "start_time": "2022-10-27T12:37:29.714Z"
   },
   {
    "duration": 3,
    "start_time": "2022-10-27T12:38:06.698Z"
   },
   {
    "duration": 190,
    "start_time": "2022-10-27T12:38:54.041Z"
   },
   {
    "duration": 217,
    "start_time": "2022-10-27T12:39:32.592Z"
   },
   {
    "duration": 173,
    "start_time": "2022-10-27T12:39:41.024Z"
   },
   {
    "duration": 198,
    "start_time": "2022-10-27T12:39:49.056Z"
   },
   {
    "duration": 174,
    "start_time": "2022-10-27T12:39:54.664Z"
   },
   {
    "duration": 2,
    "start_time": "2022-10-27T12:42:36.296Z"
   },
   {
    "duration": 3,
    "start_time": "2022-10-27T12:43:47.973Z"
   },
   {
    "duration": 15,
    "start_time": "2022-10-27T12:49:55.820Z"
   },
   {
    "duration": 54,
    "start_time": "2022-10-27T14:31:22.888Z"
   },
   {
    "duration": 635,
    "start_time": "2022-10-27T14:39:34.214Z"
   },
   {
    "duration": 49,
    "start_time": "2022-10-27T14:39:34.851Z"
   },
   {
    "duration": 4,
    "start_time": "2022-10-27T14:39:34.902Z"
   },
   {
    "duration": 23,
    "start_time": "2022-10-27T14:39:34.908Z"
   },
   {
    "duration": 2514,
    "start_time": "2022-10-27T14:39:35.058Z"
   },
   {
    "duration": 153,
    "start_time": "2022-10-27T14:39:37.575Z"
   },
   {
    "duration": 9,
    "start_time": "2022-10-27T14:39:37.730Z"
   },
   {
    "duration": 6,
    "start_time": "2022-10-27T14:39:37.741Z"
   },
   {
    "duration": 12,
    "start_time": "2022-10-27T14:39:37.748Z"
   },
   {
    "duration": 30,
    "start_time": "2022-10-27T14:39:37.762Z"
   },
   {
    "duration": 14,
    "start_time": "2022-10-27T14:39:37.825Z"
   },
   {
    "duration": 12,
    "start_time": "2022-10-27T14:39:38.067Z"
   },
   {
    "duration": 249,
    "start_time": "2022-10-27T14:39:38.391Z"
   },
   {
    "duration": 8,
    "start_time": "2022-10-27T14:39:38.730Z"
   },
   {
    "duration": 7,
    "start_time": "2022-10-27T14:39:38.872Z"
   },
   {
    "duration": 32,
    "start_time": "2022-10-27T14:39:39.257Z"
   },
   {
    "duration": 13,
    "start_time": "2022-10-27T14:39:39.612Z"
   },
   {
    "duration": 29,
    "start_time": "2022-10-27T14:40:06.681Z"
   },
   {
    "duration": 36,
    "start_time": "2022-10-27T14:41:20.062Z"
   },
   {
    "duration": 122,
    "start_time": "2022-10-27T14:41:32.009Z"
   },
   {
    "duration": 35,
    "start_time": "2022-10-27T14:41:44.176Z"
   },
   {
    "duration": 48,
    "start_time": "2022-10-27T14:41:52.605Z"
   },
   {
    "duration": 54,
    "start_time": "2022-10-27T14:41:58.770Z"
   },
   {
    "duration": 31,
    "start_time": "2022-10-27T14:42:05.209Z"
   },
   {
    "duration": 29,
    "start_time": "2022-10-27T14:42:07.756Z"
   },
   {
    "duration": 6,
    "start_time": "2022-10-27T14:42:08.941Z"
   },
   {
    "duration": 30,
    "start_time": "2022-10-27T14:42:10.009Z"
   },
   {
    "duration": 7,
    "start_time": "2022-10-27T14:43:14.564Z"
   },
   {
    "duration": 30,
    "start_time": "2022-10-27T14:43:19.322Z"
   },
   {
    "duration": 10,
    "start_time": "2022-10-27T14:45:13.534Z"
   },
   {
    "duration": 7,
    "start_time": "2022-10-27T14:46:42.930Z"
   },
   {
    "duration": 97,
    "start_time": "2022-10-27T14:49:49.055Z"
   },
   {
    "duration": 31,
    "start_time": "2022-10-27T14:49:49.408Z"
   },
   {
    "duration": 7,
    "start_time": "2022-10-27T14:49:56.216Z"
   },
   {
    "duration": 6,
    "start_time": "2022-10-27T14:49:57.029Z"
   },
   {
    "duration": 32,
    "start_time": "2022-10-27T14:50:00.310Z"
   },
   {
    "duration": 9,
    "start_time": "2022-10-27T14:50:04.927Z"
   },
   {
    "duration": 28,
    "start_time": "2022-10-27T14:50:08.290Z"
   },
   {
    "duration": 11,
    "start_time": "2022-10-27T14:50:21.771Z"
   },
   {
    "duration": 30,
    "start_time": "2022-10-27T14:50:24.032Z"
   },
   {
    "duration": 6,
    "start_time": "2022-10-27T14:50:56.161Z"
   },
   {
    "duration": 38,
    "start_time": "2022-10-27T14:51:03.073Z"
   },
   {
    "duration": 6,
    "start_time": "2022-10-27T14:51:32.190Z"
   },
   {
    "duration": 10,
    "start_time": "2022-10-27T14:52:07.741Z"
   },
   {
    "duration": 30,
    "start_time": "2022-10-27T14:52:13.169Z"
   },
   {
    "duration": 6,
    "start_time": "2022-10-27T14:52:33.940Z"
   },
   {
    "duration": 8,
    "start_time": "2022-10-27T14:52:40.695Z"
   },
   {
    "duration": 7,
    "start_time": "2022-10-27T14:52:45.647Z"
   },
   {
    "duration": 6,
    "start_time": "2022-10-27T14:52:51.115Z"
   },
   {
    "duration": 9,
    "start_time": "2022-10-27T14:52:56.953Z"
   },
   {
    "duration": 7,
    "start_time": "2022-10-27T14:54:10.443Z"
   },
   {
    "duration": 195,
    "start_time": "2022-10-27T14:58:42.713Z"
   },
   {
    "duration": 143,
    "start_time": "2022-10-27T14:58:55.572Z"
   },
   {
    "duration": 217,
    "start_time": "2022-10-27T14:59:01.280Z"
   },
   {
    "duration": 279,
    "start_time": "2022-10-27T14:59:04.046Z"
   },
   {
    "duration": 191,
    "start_time": "2022-10-27T14:59:09.549Z"
   },
   {
    "duration": 253,
    "start_time": "2022-10-27T14:59:15.405Z"
   },
   {
    "duration": 260,
    "start_time": "2022-10-27T14:59:25.959Z"
   },
   {
    "duration": 319,
    "start_time": "2022-10-27T14:59:35.757Z"
   },
   {
    "duration": 503,
    "start_time": "2022-10-27T14:59:44.747Z"
   },
   {
    "duration": 606,
    "start_time": "2022-10-27T14:59:54.204Z"
   },
   {
    "duration": 467,
    "start_time": "2022-10-27T15:00:04.678Z"
   },
   {
    "duration": 401,
    "start_time": "2022-10-27T15:00:11.864Z"
   },
   {
    "duration": 314,
    "start_time": "2022-10-27T15:02:43.902Z"
   },
   {
    "duration": 6,
    "start_time": "2022-10-27T15:03:21.627Z"
   },
   {
    "duration": 75,
    "start_time": "2022-10-27T15:04:22.816Z"
   },
   {
    "duration": 326,
    "start_time": "2022-10-27T15:05:37.690Z"
   },
   {
    "duration": 40,
    "start_time": "2022-10-27T15:06:22.851Z"
   },
   {
    "duration": 45,
    "start_time": "2022-10-27T15:06:40.435Z"
   },
   {
    "duration": 39,
    "start_time": "2022-10-27T15:06:47.082Z"
   },
   {
    "duration": 37,
    "start_time": "2022-10-27T15:06:53.756Z"
   },
   {
    "duration": 47,
    "start_time": "2022-10-27T15:07:02.910Z"
   },
   {
    "duration": 27,
    "start_time": "2022-10-27T15:07:27.408Z"
   },
   {
    "duration": 654,
    "start_time": "2022-10-27T15:08:19.844Z"
   },
   {
    "duration": 286,
    "start_time": "2022-10-27T15:08:54.487Z"
   },
   {
    "duration": 289,
    "start_time": "2022-10-27T15:09:08.890Z"
   },
   {
    "duration": 20,
    "start_time": "2022-10-27T15:10:01.979Z"
   },
   {
    "duration": 68,
    "start_time": "2022-10-27T15:10:12.973Z"
   },
   {
    "duration": 17,
    "start_time": "2022-10-27T15:10:24.111Z"
   },
   {
    "duration": 96,
    "start_time": "2022-10-27T15:11:09.006Z"
   },
   {
    "duration": 27,
    "start_time": "2022-10-27T15:11:09.575Z"
   },
   {
    "duration": 15,
    "start_time": "2022-10-27T15:11:22.534Z"
   },
   {
    "duration": 19,
    "start_time": "2022-10-27T15:11:26.780Z"
   },
   {
    "duration": 17,
    "start_time": "2022-10-27T15:11:31.984Z"
   },
   {
    "duration": 16,
    "start_time": "2022-10-27T15:11:41.356Z"
   },
   {
    "duration": 40,
    "start_time": "2022-10-27T15:11:47.082Z"
   },
   {
    "duration": 8,
    "start_time": "2022-10-27T15:12:02.685Z"
   },
   {
    "duration": 9,
    "start_time": "2022-10-27T15:12:07.187Z"
   },
   {
    "duration": 34,
    "start_time": "2022-10-27T15:12:19.628Z"
   },
   {
    "duration": 27,
    "start_time": "2022-10-27T15:12:27.424Z"
   },
   {
    "duration": 335,
    "start_time": "2022-10-27T15:12:31.017Z"
   },
   {
    "duration": 313,
    "start_time": "2022-10-27T15:12:34.797Z"
   },
   {
    "duration": 337,
    "start_time": "2022-10-27T15:12:39.796Z"
   },
   {
    "duration": 305,
    "start_time": "2022-10-27T15:12:43.193Z"
   },
   {
    "duration": 34,
    "start_time": "2022-10-27T15:12:45.389Z"
   },
   {
    "duration": 328,
    "start_time": "2022-10-27T15:12:52.025Z"
   },
   {
    "duration": 377,
    "start_time": "2022-10-27T15:13:36.294Z"
   },
   {
    "duration": 485,
    "start_time": "2022-10-27T15:13:43.467Z"
   },
   {
    "duration": 103,
    "start_time": "2022-10-27T15:13:54.136Z"
   },
   {
    "duration": 306,
    "start_time": "2022-10-27T15:14:03.245Z"
   },
   {
    "duration": 177,
    "start_time": "2022-10-27T15:14:08.090Z"
   },
   {
    "duration": 217,
    "start_time": "2022-10-27T15:14:17.729Z"
   },
   {
    "duration": 228,
    "start_time": "2022-10-27T15:14:22.273Z"
   },
   {
    "duration": 309,
    "start_time": "2022-10-27T15:14:51.866Z"
   },
   {
    "duration": 577,
    "start_time": "2022-10-27T17:58:29.720Z"
   },
   {
    "duration": 30,
    "start_time": "2022-10-27T17:58:30.299Z"
   },
   {
    "duration": 23,
    "start_time": "2022-10-27T17:58:30.330Z"
   },
   {
    "duration": 45,
    "start_time": "2022-10-27T17:58:30.355Z"
   },
   {
    "duration": 2439,
    "start_time": "2022-10-27T17:58:30.546Z"
   },
   {
    "duration": 151,
    "start_time": "2022-10-27T17:58:32.987Z"
   },
   {
    "duration": 7,
    "start_time": "2022-10-27T17:58:33.140Z"
   },
   {
    "duration": 4,
    "start_time": "2022-10-27T17:58:33.149Z"
   },
   {
    "duration": 10,
    "start_time": "2022-10-27T17:58:33.155Z"
   },
   {
    "duration": 30,
    "start_time": "2022-10-27T17:58:33.166Z"
   },
   {
    "duration": 35,
    "start_time": "2022-10-27T17:58:33.198Z"
   },
   {
    "duration": 11,
    "start_time": "2022-10-27T17:58:33.517Z"
   },
   {
    "duration": 193,
    "start_time": "2022-10-27T17:58:33.921Z"
   },
   {
    "duration": 8,
    "start_time": "2022-10-27T17:58:34.304Z"
   },
   {
    "duration": 6,
    "start_time": "2022-10-27T17:58:34.498Z"
   },
   {
    "duration": 29,
    "start_time": "2022-10-27T17:58:34.895Z"
   },
   {
    "duration": 9,
    "start_time": "2022-10-27T17:58:35.310Z"
   },
   {
    "duration": 7,
    "start_time": "2022-10-27T17:58:36.399Z"
   },
   {
    "duration": 129,
    "start_time": "2022-10-27T17:58:36.588Z"
   },
   {
    "duration": 6,
    "start_time": "2022-10-27T17:58:37.394Z"
   },
   {
    "duration": 152,
    "start_time": "2022-10-27T17:58:37.940Z"
   },
   {
    "duration": 5,
    "start_time": "2022-10-27T17:58:39.078Z"
   },
   {
    "duration": 6,
    "start_time": "2022-10-27T17:58:39.467Z"
   },
   {
    "duration": 8,
    "start_time": "2022-10-27T17:58:39.805Z"
   },
   {
    "duration": 4,
    "start_time": "2022-10-27T17:58:40.188Z"
   },
   {
    "duration": 19,
    "start_time": "2022-10-27T17:58:40.555Z"
   },
   {
    "duration": 11,
    "start_time": "2022-10-27T17:58:41.124Z"
   },
   {
    "duration": 18,
    "start_time": "2022-10-27T17:58:41.544Z"
   },
   {
    "duration": 7,
    "start_time": "2022-10-27T17:58:41.941Z"
   },
   {
    "duration": 11,
    "start_time": "2022-10-27T17:58:42.349Z"
   },
   {
    "duration": 364,
    "start_time": "2022-10-27T17:58:42.911Z"
   },
   {
    "duration": 6,
    "start_time": "2022-10-27T17:58:43.277Z"
   },
   {
    "duration": 294,
    "start_time": "2022-10-27T17:58:43.864Z"
   },
   {
    "duration": 299,
    "start_time": "2022-10-27T17:58:44.263Z"
   },
   {
    "duration": 204,
    "start_time": "2022-10-27T17:58:44.681Z"
   },
   {
    "duration": 313,
    "start_time": "2022-10-27T17:58:45.111Z"
   },
   {
    "duration": 157,
    "start_time": "2022-10-27T17:58:45.550Z"
   },
   {
    "duration": 147,
    "start_time": "2022-10-27T17:58:45.971Z"
   },
   {
    "duration": 7,
    "start_time": "2022-10-27T18:02:43.159Z"
   },
   {
    "duration": 8,
    "start_time": "2022-10-27T18:02:54.517Z"
   },
   {
    "duration": 6,
    "start_time": "2022-10-27T18:03:18.760Z"
   },
   {
    "duration": 6,
    "start_time": "2022-10-27T18:03:22.144Z"
   },
   {
    "duration": 222,
    "start_time": "2022-10-27T18:03:22.671Z"
   },
   {
    "duration": 7,
    "start_time": "2022-10-27T18:03:24.139Z"
   },
   {
    "duration": 5,
    "start_time": "2022-10-27T18:03:24.869Z"
   },
   {
    "duration": 5,
    "start_time": "2022-10-27T18:03:29.154Z"
   },
   {
    "duration": 6,
    "start_time": "2022-10-27T18:03:30.881Z"
   },
   {
    "duration": 6,
    "start_time": "2022-10-27T18:03:31.472Z"
   },
   {
    "duration": 6,
    "start_time": "2022-10-27T18:03:31.843Z"
   },
   {
    "duration": 4,
    "start_time": "2022-10-27T18:03:32.217Z"
   },
   {
    "duration": 22,
    "start_time": "2022-10-27T18:03:32.602Z"
   },
   {
    "duration": 7,
    "start_time": "2022-10-27T18:03:33.549Z"
   },
   {
    "duration": 17,
    "start_time": "2022-10-27T18:03:33.899Z"
   },
   {
    "duration": 9,
    "start_time": "2022-10-27T18:03:34.443Z"
   },
   {
    "duration": 11,
    "start_time": "2022-10-27T18:03:34.871Z"
   },
   {
    "duration": 271,
    "start_time": "2022-10-27T18:03:35.468Z"
   },
   {
    "duration": 6,
    "start_time": "2022-10-27T18:03:35.870Z"
   },
   {
    "duration": 278,
    "start_time": "2022-10-27T18:03:44.896Z"
   },
   {
    "duration": 280,
    "start_time": "2022-10-27T18:03:45.247Z"
   },
   {
    "duration": 181,
    "start_time": "2022-10-27T18:03:45.584Z"
   },
   {
    "duration": 311,
    "start_time": "2022-10-27T18:03:45.940Z"
   },
   {
    "duration": 237,
    "start_time": "2022-10-27T18:03:46.312Z"
   },
   {
    "duration": 146,
    "start_time": "2022-10-27T18:03:46.640Z"
   },
   {
    "duration": 153,
    "start_time": "2022-10-27T18:04:21.292Z"
   },
   {
    "duration": 134,
    "start_time": "2022-10-27T18:04:34.816Z"
   },
   {
    "duration": 166,
    "start_time": "2022-10-27T18:04:40.189Z"
   },
   {
    "duration": 200,
    "start_time": "2022-10-27T18:04:50.006Z"
   },
   {
    "duration": 188,
    "start_time": "2022-10-27T18:04:55.979Z"
   },
   {
    "duration": 8,
    "start_time": "2022-10-27T18:06:32.509Z"
   },
   {
    "duration": 4,
    "start_time": "2022-10-27T18:06:32.842Z"
   },
   {
    "duration": 135,
    "start_time": "2022-10-27T18:06:32.993Z"
   },
   {
    "duration": 7,
    "start_time": "2022-10-27T18:06:33.581Z"
   },
   {
    "duration": 133,
    "start_time": "2022-10-27T18:06:33.870Z"
   },
   {
    "duration": 5,
    "start_time": "2022-10-27T18:06:34.965Z"
   },
   {
    "duration": 5,
    "start_time": "2022-10-27T18:06:35.321Z"
   },
   {
    "duration": 6,
    "start_time": "2022-10-27T18:06:35.650Z"
   },
   {
    "duration": 3,
    "start_time": "2022-10-27T18:06:36.000Z"
   },
   {
    "duration": 19,
    "start_time": "2022-10-27T18:06:36.357Z"
   },
   {
    "duration": 8,
    "start_time": "2022-10-27T18:06:36.901Z"
   },
   {
    "duration": 16,
    "start_time": "2022-10-27T18:06:37.251Z"
   },
   {
    "duration": 7,
    "start_time": "2022-10-27T18:06:37.817Z"
   },
   {
    "duration": 14,
    "start_time": "2022-10-27T18:06:38.172Z"
   },
   {
    "duration": 366,
    "start_time": "2022-10-27T18:06:38.551Z"
   },
   {
    "duration": 8,
    "start_time": "2022-10-27T18:06:38.929Z"
   },
   {
    "duration": 291,
    "start_time": "2022-10-27T18:06:39.476Z"
   },
   {
    "duration": 347,
    "start_time": "2022-10-27T18:06:39.813Z"
   },
   {
    "duration": 255,
    "start_time": "2022-10-27T18:06:40.198Z"
   },
   {
    "duration": 289,
    "start_time": "2022-10-27T18:06:40.562Z"
   },
   {
    "duration": 154,
    "start_time": "2022-10-27T18:06:40.937Z"
   },
   {
    "duration": 174,
    "start_time": "2022-10-27T18:06:41.338Z"
   },
   {
    "duration": 186,
    "start_time": "2022-10-27T18:06:41.958Z"
   },
   {
    "duration": 224,
    "start_time": "2022-10-27T18:07:51.940Z"
   },
   {
    "duration": 176,
    "start_time": "2022-10-27T18:08:09.312Z"
   },
   {
    "duration": 15,
    "start_time": "2022-10-27T18:08:23.932Z"
   },
   {
    "duration": 85,
    "start_time": "2022-10-27T18:10:04.220Z"
   },
   {
    "duration": 289,
    "start_time": "2022-10-27T18:11:07.340Z"
   },
   {
    "duration": 281,
    "start_time": "2022-10-27T18:11:13.356Z"
   },
   {
    "duration": 331,
    "start_time": "2022-10-27T18:11:57.966Z"
   },
   {
    "duration": 14,
    "start_time": "2022-10-27T18:12:42.198Z"
   },
   {
    "duration": 6,
    "start_time": "2022-10-27T18:13:01.402Z"
   },
   {
    "duration": 9,
    "start_time": "2022-10-27T18:13:12.476Z"
   },
   {
    "duration": 7,
    "start_time": "2022-10-27T18:13:27.695Z"
   },
   {
    "duration": 161,
    "start_time": "2022-10-27T18:14:10.736Z"
   },
   {
    "duration": 182,
    "start_time": "2022-10-27T18:14:20.625Z"
   },
   {
    "duration": 177,
    "start_time": "2022-10-27T18:14:24.910Z"
   },
   {
    "duration": 195,
    "start_time": "2022-10-27T18:14:28.484Z"
   },
   {
    "duration": 187,
    "start_time": "2022-10-27T18:14:33.977Z"
   },
   {
    "duration": 165,
    "start_time": "2022-10-27T18:15:09.245Z"
   },
   {
    "duration": 156,
    "start_time": "2022-10-27T18:15:19.173Z"
   },
   {
    "duration": 214,
    "start_time": "2022-10-27T18:15:23.102Z"
   },
   {
    "duration": 180,
    "start_time": "2022-10-27T18:15:32.388Z"
   },
   {
    "duration": 274,
    "start_time": "2022-10-27T18:15:37.819Z"
   },
   {
    "duration": 177,
    "start_time": "2022-10-27T18:15:42.764Z"
   },
   {
    "duration": 1091,
    "start_time": "2022-10-27T18:16:27.981Z"
   },
   {
    "duration": 1154,
    "start_time": "2022-10-27T18:16:33.832Z"
   },
   {
    "duration": 1092,
    "start_time": "2022-10-27T18:16:41.958Z"
   },
   {
    "duration": 16,
    "start_time": "2022-10-27T18:16:49.790Z"
   },
   {
    "duration": 172,
    "start_time": "2022-10-27T18:17:00.798Z"
   },
   {
    "duration": 154,
    "start_time": "2022-10-27T18:17:06.650Z"
   },
   {
    "duration": 157,
    "start_time": "2022-10-27T18:17:18.549Z"
   },
   {
    "duration": 313,
    "start_time": "2022-10-27T18:17:23.562Z"
   },
   {
    "duration": 24,
    "start_time": "2022-10-27T18:18:41.506Z"
   },
   {
    "duration": 229,
    "start_time": "2022-10-27T18:21:50.585Z"
   },
   {
    "duration": 283,
    "start_time": "2022-10-27T18:23:08.238Z"
   },
   {
    "duration": 334,
    "start_time": "2022-10-27T18:23:18.549Z"
   },
   {
    "duration": 232,
    "start_time": "2022-10-27T18:23:23.648Z"
   },
   {
    "duration": 226,
    "start_time": "2022-10-27T18:23:28.761Z"
   },
   {
    "duration": 245,
    "start_time": "2022-10-27T18:23:36.000Z"
   },
   {
    "duration": 235,
    "start_time": "2022-10-27T18:23:48.561Z"
   },
   {
    "duration": 23,
    "start_time": "2022-10-27T18:24:52.509Z"
   },
   {
    "duration": 232,
    "start_time": "2022-10-27T18:25:12.458Z"
   },
   {
    "duration": 12,
    "start_time": "2022-10-27T18:29:25.213Z"
   },
   {
    "duration": 32,
    "start_time": "2022-10-27T18:30:01.830Z"
   },
   {
    "duration": 12,
    "start_time": "2022-10-27T18:30:49.180Z"
   },
   {
    "duration": 13,
    "start_time": "2022-10-27T18:30:58.229Z"
   },
   {
    "duration": 11,
    "start_time": "2022-10-27T18:31:03.029Z"
   },
   {
    "duration": 9,
    "start_time": "2022-10-27T18:32:00.589Z"
   },
   {
    "duration": 77,
    "start_time": "2022-10-27T18:34:00.781Z"
   },
   {
    "duration": 714,
    "start_time": "2022-10-28T12:10:34.722Z"
   },
   {
    "duration": 31,
    "start_time": "2022-10-28T12:10:35.438Z"
   },
   {
    "duration": 4,
    "start_time": "2022-10-28T12:10:35.470Z"
   },
   {
    "duration": 17,
    "start_time": "2022-10-28T12:10:35.475Z"
   },
   {
    "duration": 2205,
    "start_time": "2022-10-28T12:10:35.527Z"
   },
   {
    "duration": 132,
    "start_time": "2022-10-28T12:10:37.734Z"
   },
   {
    "duration": 8,
    "start_time": "2022-10-28T12:10:37.868Z"
   },
   {
    "duration": 5,
    "start_time": "2022-10-28T12:10:37.878Z"
   },
   {
    "duration": 26,
    "start_time": "2022-10-28T12:10:37.885Z"
   },
   {
    "duration": 26,
    "start_time": "2022-10-28T12:10:37.913Z"
   },
   {
    "duration": 7,
    "start_time": "2022-10-28T12:10:38.116Z"
   },
   {
    "duration": 11,
    "start_time": "2022-10-28T12:10:38.491Z"
   },
   {
    "duration": 168,
    "start_time": "2022-10-28T12:10:38.866Z"
   },
   {
    "duration": 7,
    "start_time": "2022-10-28T12:10:39.282Z"
   },
   {
    "duration": 5,
    "start_time": "2022-10-28T12:10:39.463Z"
   },
   {
    "duration": 23,
    "start_time": "2022-10-28T12:10:39.831Z"
   },
   {
    "duration": 9,
    "start_time": "2022-10-28T12:10:40.228Z"
   },
   {
    "duration": 7,
    "start_time": "2022-10-28T12:10:40.593Z"
   },
   {
    "duration": 121,
    "start_time": "2022-10-28T12:10:40.792Z"
   },
   {
    "duration": 5,
    "start_time": "2022-10-28T12:10:41.504Z"
   },
   {
    "duration": 133,
    "start_time": "2022-10-28T12:10:41.892Z"
   },
   {
    "duration": 7,
    "start_time": "2022-10-28T12:10:43.001Z"
   },
   {
    "duration": 5,
    "start_time": "2022-10-28T12:10:43.374Z"
   },
   {
    "duration": 7,
    "start_time": "2022-10-28T12:10:43.774Z"
   },
   {
    "duration": 4,
    "start_time": "2022-10-28T12:10:44.147Z"
   },
   {
    "duration": 25,
    "start_time": "2022-10-28T12:10:44.540Z"
   },
   {
    "duration": 13,
    "start_time": "2022-10-28T12:10:45.131Z"
   },
   {
    "duration": 23,
    "start_time": "2022-10-28T12:10:45.526Z"
   },
   {
    "duration": 10,
    "start_time": "2022-10-28T12:10:45.850Z"
   },
   {
    "duration": 11,
    "start_time": "2022-10-28T12:10:46.201Z"
   },
   {
    "duration": 371,
    "start_time": "2022-10-28T12:10:46.549Z"
   },
   {
    "duration": 7,
    "start_time": "2022-10-28T12:10:46.933Z"
   },
   {
    "duration": 265,
    "start_time": "2022-10-28T12:10:47.485Z"
   },
   {
    "duration": 315,
    "start_time": "2022-10-28T12:10:47.878Z"
   },
   {
    "duration": 185,
    "start_time": "2022-10-28T12:10:48.266Z"
   },
   {
    "duration": 276,
    "start_time": "2022-10-28T12:10:48.664Z"
   },
   {
    "duration": 173,
    "start_time": "2022-10-28T12:10:49.029Z"
   },
   {
    "duration": 152,
    "start_time": "2022-10-28T12:10:49.430Z"
   },
   {
    "duration": 249,
    "start_time": "2022-10-28T12:10:49.799Z"
   },
   {
    "duration": 7,
    "start_time": "2022-10-28T12:10:50.159Z"
   },
   {
    "duration": 158,
    "start_time": "2022-10-28T12:10:50.534Z"
   },
   {
    "duration": 266,
    "start_time": "2022-10-28T12:10:50.927Z"
   },
   {
    "duration": 200,
    "start_time": "2022-10-28T12:10:52.816Z"
   },
   {
    "duration": 26,
    "start_time": "2022-10-28T12:10:53.241Z"
   },
   {
    "duration": 212,
    "start_time": "2022-10-28T12:10:53.434Z"
   },
   {
    "duration": 79,
    "start_time": "2022-10-28T12:12:02.389Z"
   },
   {
    "duration": 15,
    "start_time": "2022-10-28T12:12:06.824Z"
   },
   {
    "duration": 279,
    "start_time": "2022-10-28T12:12:26.065Z"
   },
   {
    "duration": 251,
    "start_time": "2022-10-28T12:12:34.051Z"
   },
   {
    "duration": 336,
    "start_time": "2022-10-28T12:12:41.824Z"
   },
   {
    "duration": 397,
    "start_time": "2022-10-28T12:12:51.835Z"
   },
   {
    "duration": 280,
    "start_time": "2022-10-28T12:13:17.455Z"
   },
   {
    "duration": 267,
    "start_time": "2022-10-28T12:13:27.481Z"
   },
   {
    "duration": 281,
    "start_time": "2022-10-28T12:13:37.956Z"
   },
   {
    "duration": 280,
    "start_time": "2022-10-28T12:13:42.241Z"
   },
   {
    "duration": 283,
    "start_time": "2022-10-28T12:13:53.593Z"
   },
   {
    "duration": 173,
    "start_time": "2022-10-28T12:13:59.091Z"
   },
   {
    "duration": 191,
    "start_time": "2022-10-28T12:14:03.447Z"
   },
   {
    "duration": 161,
    "start_time": "2022-10-28T12:14:08.353Z"
   },
   {
    "duration": 163,
    "start_time": "2022-10-28T12:14:12.177Z"
   },
   {
    "duration": 297,
    "start_time": "2022-10-28T12:14:15.934Z"
   },
   {
    "duration": 264,
    "start_time": "2022-10-28T12:14:20.416Z"
   },
   {
    "duration": 269,
    "start_time": "2022-10-28T12:14:23.981Z"
   },
   {
    "duration": 269,
    "start_time": "2022-10-28T12:14:29.934Z"
   },
   {
    "duration": 128,
    "start_time": "2022-10-28T12:14:46.134Z"
   },
   {
    "duration": 272,
    "start_time": "2022-10-28T12:15:50.938Z"
   },
   {
    "duration": 242,
    "start_time": "2022-10-28T12:15:57.736Z"
   },
   {
    "duration": 132,
    "start_time": "2022-10-28T12:16:01.403Z"
   },
   {
    "duration": 229,
    "start_time": "2022-10-28T12:16:04.647Z"
   },
   {
    "duration": 1048,
    "start_time": "2022-10-28T12:16:22.393Z"
   },
   {
    "duration": 300,
    "start_time": "2022-10-28T12:16:37.455Z"
   },
   {
    "duration": 289,
    "start_time": "2022-10-28T12:16:51.128Z"
   },
   {
    "duration": 323,
    "start_time": "2022-10-28T12:17:00.499Z"
   },
   {
    "duration": 313,
    "start_time": "2022-10-28T12:17:07.072Z"
   },
   {
    "duration": 223,
    "start_time": "2022-10-28T12:17:59.001Z"
   },
   {
    "duration": 534,
    "start_time": "2022-10-28T12:18:19.845Z"
   },
   {
    "duration": 414,
    "start_time": "2022-10-28T12:18:36.043Z"
   },
   {
    "duration": 22,
    "start_time": "2022-10-28T12:20:33.853Z"
   },
   {
    "duration": 73,
    "start_time": "2022-10-28T12:22:48.214Z"
   },
   {
    "duration": 267,
    "start_time": "2022-10-28T12:25:57.670Z"
   },
   {
    "duration": 3,
    "start_time": "2022-10-28T12:36:15.602Z"
   },
   {
    "duration": 51,
    "start_time": "2022-10-28T12:37:36.968Z"
   },
   {
    "duration": 22,
    "start_time": "2022-10-28T12:38:27.511Z"
   },
   {
    "duration": 7,
    "start_time": "2022-10-28T12:39:06.479Z"
   },
   {
    "duration": 21,
    "start_time": "2022-10-28T12:39:13.141Z"
   },
   {
    "duration": 14,
    "start_time": "2022-10-28T12:39:39.429Z"
   },
   {
    "duration": 16,
    "start_time": "2022-10-28T12:39:49.771Z"
   },
   {
    "duration": 13,
    "start_time": "2022-10-28T12:40:07.686Z"
   },
   {
    "duration": 18,
    "start_time": "2022-10-28T12:42:15.491Z"
   },
   {
    "duration": 20,
    "start_time": "2022-10-28T12:42:34.867Z"
   },
   {
    "duration": 14,
    "start_time": "2022-10-28T12:42:49.725Z"
   },
   {
    "duration": 9,
    "start_time": "2022-10-28T12:45:02.083Z"
   },
   {
    "duration": 24,
    "start_time": "2022-10-28T12:45:10.130Z"
   },
   {
    "duration": 30,
    "start_time": "2022-10-28T12:45:13.234Z"
   },
   {
    "duration": 13,
    "start_time": "2022-10-28T12:46:18.095Z"
   },
   {
    "duration": 18,
    "start_time": "2022-10-28T13:03:10.222Z"
   },
   {
    "duration": 13,
    "start_time": "2022-10-28T13:03:22.069Z"
   },
   {
    "duration": 736,
    "start_time": "2022-10-28T14:58:28.436Z"
   },
   {
    "duration": 34,
    "start_time": "2022-10-28T14:58:29.174Z"
   },
   {
    "duration": 4,
    "start_time": "2022-10-28T14:58:29.210Z"
   },
   {
    "duration": 28,
    "start_time": "2022-10-28T14:58:29.216Z"
   },
   {
    "duration": 2538,
    "start_time": "2022-10-28T14:58:29.246Z"
   },
   {
    "duration": 159,
    "start_time": "2022-10-28T14:58:31.786Z"
   },
   {
    "duration": 8,
    "start_time": "2022-10-28T14:58:31.947Z"
   },
   {
    "duration": 9,
    "start_time": "2022-10-28T14:58:31.956Z"
   },
   {
    "duration": 10,
    "start_time": "2022-10-28T14:58:31.966Z"
   },
   {
    "duration": 30,
    "start_time": "2022-10-28T14:58:31.977Z"
   },
   {
    "duration": 37,
    "start_time": "2022-10-28T14:58:32.008Z"
   },
   {
    "duration": 12,
    "start_time": "2022-10-28T14:58:32.047Z"
   },
   {
    "duration": 203,
    "start_time": "2022-10-28T14:58:32.060Z"
   },
   {
    "duration": 6,
    "start_time": "2022-10-28T14:58:32.265Z"
   },
   {
    "duration": 7,
    "start_time": "2022-10-28T14:58:32.332Z"
   },
   {
    "duration": 29,
    "start_time": "2022-10-28T14:58:32.614Z"
   },
   {
    "duration": 10,
    "start_time": "2022-10-28T14:58:32.898Z"
   },
   {
    "duration": 7,
    "start_time": "2022-10-28T14:58:33.197Z"
   },
   {
    "duration": 124,
    "start_time": "2022-10-28T14:58:33.357Z"
   },
   {
    "duration": 6,
    "start_time": "2022-10-28T14:58:33.973Z"
   },
   {
    "duration": 139,
    "start_time": "2022-10-28T14:58:34.279Z"
   },
   {
    "duration": 6,
    "start_time": "2022-10-28T14:58:35.251Z"
   },
   {
    "duration": 6,
    "start_time": "2022-10-28T14:58:35.595Z"
   },
   {
    "duration": 9,
    "start_time": "2022-10-28T14:58:35.879Z"
   },
   {
    "duration": 5,
    "start_time": "2022-10-28T14:58:36.207Z"
   },
   {
    "duration": 25,
    "start_time": "2022-10-28T14:58:36.514Z"
   },
   {
    "duration": 11,
    "start_time": "2022-10-28T14:58:37.021Z"
   },
   {
    "duration": 19,
    "start_time": "2022-10-28T14:58:37.339Z"
   },
   {
    "duration": 9,
    "start_time": "2022-10-28T14:58:37.658Z"
   },
   {
    "duration": 12,
    "start_time": "2022-10-28T14:58:37.962Z"
   },
   {
    "duration": 387,
    "start_time": "2022-10-28T14:58:38.260Z"
   },
   {
    "duration": 9,
    "start_time": "2022-10-28T14:58:38.649Z"
   },
   {
    "duration": 309,
    "start_time": "2022-10-28T14:58:39.020Z"
   },
   {
    "duration": 356,
    "start_time": "2022-10-28T14:58:39.331Z"
   },
   {
    "duration": 224,
    "start_time": "2022-10-28T14:58:39.689Z"
   },
   {
    "duration": 332,
    "start_time": "2022-10-28T14:58:39.916Z"
   },
   {
    "duration": 200,
    "start_time": "2022-10-28T14:58:40.250Z"
   },
   {
    "duration": 208,
    "start_time": "2022-10-28T14:58:40.536Z"
   },
   {
    "duration": 311,
    "start_time": "2022-10-28T14:58:40.815Z"
   },
   {
    "duration": 7,
    "start_time": "2022-10-28T14:58:41.176Z"
   },
   {
    "duration": 229,
    "start_time": "2022-10-28T14:58:41.492Z"
   },
   {
    "duration": 321,
    "start_time": "2022-10-28T14:58:41.811Z"
   },
   {
    "duration": 481,
    "start_time": "2022-10-28T14:58:42.133Z"
   },
   {
    "duration": 306,
    "start_time": "2022-10-28T14:58:42.616Z"
   },
   {
    "duration": 362,
    "start_time": "2022-10-28T14:58:42.924Z"
   },
   {
    "duration": 606,
    "start_time": "2022-10-28T14:58:43.288Z"
   },
   {
    "duration": 293,
    "start_time": "2022-10-28T14:58:43.896Z"
   },
   {
    "duration": 28,
    "start_time": "2022-10-28T14:58:44.191Z"
   },
   {
    "duration": 480,
    "start_time": "2022-10-28T14:58:44.452Z"
   },
   {
    "duration": 19,
    "start_time": "2022-10-28T14:58:46.136Z"
   },
   {
    "duration": 15,
    "start_time": "2022-10-28T14:58:46.889Z"
   },
   {
    "duration": 17,
    "start_time": "2022-10-28T14:58:58.242Z"
   },
   {
    "duration": 152,
    "start_time": "2022-10-28T14:59:24.569Z"
   },
   {
    "duration": 22,
    "start_time": "2022-10-28T14:59:31.046Z"
   },
   {
    "duration": 154,
    "start_time": "2022-10-28T14:59:43.280Z"
   },
   {
    "duration": 150,
    "start_time": "2022-10-28T15:00:49.615Z"
   },
   {
    "duration": 285,
    "start_time": "2022-10-28T15:06:24.373Z"
   },
   {
    "duration": 164,
    "start_time": "2022-10-28T15:07:08.465Z"
   },
   {
    "duration": 3,
    "start_time": "2022-10-28T15:12:34.368Z"
   },
   {
    "duration": 723,
    "start_time": "2022-10-28T16:55:01.049Z"
   },
   {
    "duration": 34,
    "start_time": "2022-10-28T16:55:01.774Z"
   },
   {
    "duration": 21,
    "start_time": "2022-10-28T16:55:01.810Z"
   },
   {
    "duration": 56,
    "start_time": "2022-10-28T16:55:01.833Z"
   },
   {
    "duration": 2426,
    "start_time": "2022-10-28T16:55:02.082Z"
   },
   {
    "duration": 176,
    "start_time": "2022-10-28T16:55:04.510Z"
   },
   {
    "duration": 7,
    "start_time": "2022-10-28T16:55:04.688Z"
   },
   {
    "duration": 51,
    "start_time": "2022-10-28T16:55:04.697Z"
   },
   {
    "duration": 58,
    "start_time": "2022-10-28T16:55:04.749Z"
   },
   {
    "duration": 76,
    "start_time": "2022-10-28T16:55:04.809Z"
   },
   {
    "duration": 49,
    "start_time": "2022-10-28T16:55:04.887Z"
   },
   {
    "duration": 13,
    "start_time": "2022-10-28T16:55:05.555Z"
   },
   {
    "duration": 208,
    "start_time": "2022-10-28T16:55:05.584Z"
   },
   {
    "duration": 7,
    "start_time": "2022-10-28T16:55:05.901Z"
   },
   {
    "duration": 6,
    "start_time": "2022-10-28T16:55:06.089Z"
   },
   {
    "duration": 30,
    "start_time": "2022-10-28T16:55:06.441Z"
   },
   {
    "duration": 11,
    "start_time": "2022-10-28T16:55:06.806Z"
   },
   {
    "duration": 8,
    "start_time": "2022-10-28T16:55:07.148Z"
   },
   {
    "duration": 136,
    "start_time": "2022-10-28T16:55:07.335Z"
   },
   {
    "duration": 6,
    "start_time": "2022-10-28T16:55:08.263Z"
   },
   {
    "duration": 124,
    "start_time": "2022-10-28T16:55:08.303Z"
   },
   {
    "duration": 6,
    "start_time": "2022-10-28T16:55:09.275Z"
   },
   {
    "duration": 6,
    "start_time": "2022-10-28T16:55:09.618Z"
   },
   {
    "duration": 8,
    "start_time": "2022-10-28T16:55:09.937Z"
   },
   {
    "duration": 5,
    "start_time": "2022-10-28T16:55:10.271Z"
   },
   {
    "duration": 22,
    "start_time": "2022-10-28T16:55:10.620Z"
   },
   {
    "duration": 11,
    "start_time": "2022-10-28T16:55:11.136Z"
   },
   {
    "duration": 15,
    "start_time": "2022-10-28T16:55:11.497Z"
   },
   {
    "duration": 9,
    "start_time": "2022-10-28T16:55:11.881Z"
   },
   {
    "duration": 13,
    "start_time": "2022-10-28T16:55:12.204Z"
   },
   {
    "duration": 352,
    "start_time": "2022-10-28T16:55:12.534Z"
   },
   {
    "duration": 9,
    "start_time": "2022-10-28T16:55:12.888Z"
   },
   {
    "duration": 285,
    "start_time": "2022-10-28T16:55:13.411Z"
   },
   {
    "duration": 295,
    "start_time": "2022-10-28T16:55:13.786Z"
   },
   {
    "duration": 190,
    "start_time": "2022-10-28T16:55:14.141Z"
   },
   {
    "duration": 307,
    "start_time": "2022-10-28T16:55:14.534Z"
   },
   {
    "duration": 175,
    "start_time": "2022-10-28T16:55:14.911Z"
   },
   {
    "duration": 166,
    "start_time": "2022-10-28T16:55:15.286Z"
   },
   {
    "duration": 285,
    "start_time": "2022-10-28T16:55:15.693Z"
   },
   {
    "duration": 7,
    "start_time": "2022-10-28T16:55:16.063Z"
   },
   {
    "duration": 177,
    "start_time": "2022-10-28T16:55:16.446Z"
   },
   {
    "duration": 297,
    "start_time": "2022-10-28T16:55:16.835Z"
   },
   {
    "duration": 469,
    "start_time": "2022-10-28T16:55:17.235Z"
   },
   {
    "duration": 276,
    "start_time": "2022-10-28T16:55:17.705Z"
   },
   {
    "duration": 330,
    "start_time": "2022-10-28T16:55:18.035Z"
   },
   {
    "duration": 571,
    "start_time": "2022-10-28T16:55:18.376Z"
   },
   {
    "duration": 278,
    "start_time": "2022-10-28T16:55:18.949Z"
   },
   {
    "duration": 30,
    "start_time": "2022-10-28T16:55:19.229Z"
   },
   {
    "duration": 440,
    "start_time": "2022-10-28T16:55:19.285Z"
   },
   {
    "duration": 29,
    "start_time": "2022-10-28T16:55:21.939Z"
   },
   {
    "duration": 22,
    "start_time": "2022-10-28T16:55:24.169Z"
   },
   {
    "duration": 30,
    "start_time": "2022-10-28T16:55:41.153Z"
   },
   {
    "duration": 26,
    "start_time": "2022-10-28T16:55:55.535Z"
   },
   {
    "duration": 29,
    "start_time": "2022-10-28T16:56:11.745Z"
   },
   {
    "duration": 4,
    "start_time": "2022-10-28T16:56:22.164Z"
   },
   {
    "duration": 26,
    "start_time": "2022-10-28T16:56:35.036Z"
   },
   {
    "duration": 8,
    "start_time": "2022-10-28T16:56:43.499Z"
   },
   {
    "duration": 8,
    "start_time": "2022-10-28T16:56:47.002Z"
   },
   {
    "duration": 40,
    "start_time": "2022-10-28T16:56:57.147Z"
   },
   {
    "duration": 56,
    "start_time": "2022-10-28T16:58:03.303Z"
   },
   {
    "duration": 2,
    "start_time": "2022-10-28T17:03:44.218Z"
   },
   {
    "duration": 2,
    "start_time": "2022-10-28T17:04:00.862Z"
   },
   {
    "duration": 3,
    "start_time": "2022-10-28T17:04:23.398Z"
   },
   {
    "duration": 145,
    "start_time": "2022-10-28T17:09:35.366Z"
   },
   {
    "duration": 143,
    "start_time": "2022-10-28T17:10:32.302Z"
   },
   {
    "duration": 152,
    "start_time": "2022-10-28T17:11:10.286Z"
   },
   {
    "duration": 277,
    "start_time": "2022-10-28T17:11:20.510Z"
   },
   {
    "duration": 57,
    "start_time": "2022-10-28T17:13:10.915Z"
   },
   {
    "duration": 806,
    "start_time": "2022-10-28T17:13:15.306Z"
   },
   {
    "duration": 150,
    "start_time": "2022-10-28T17:13:21.662Z"
   },
   {
    "duration": 149,
    "start_time": "2022-10-28T17:14:29.619Z"
   },
   {
    "duration": 164,
    "start_time": "2022-10-28T17:19:01.152Z"
   },
   {
    "duration": 156,
    "start_time": "2022-10-28T17:20:00.734Z"
   },
   {
    "duration": 141,
    "start_time": "2022-10-28T17:20:43.069Z"
   },
   {
    "duration": 158,
    "start_time": "2022-10-28T17:21:00.910Z"
   },
   {
    "duration": 158,
    "start_time": "2022-10-28T17:21:34.800Z"
   },
   {
    "duration": 157,
    "start_time": "2022-10-28T17:22:24.684Z"
   },
   {
    "duration": 153,
    "start_time": "2022-10-28T17:22:31.209Z"
   },
   {
    "duration": 163,
    "start_time": "2022-10-28T17:23:00.744Z"
   },
   {
    "duration": 147,
    "start_time": "2022-10-28T17:23:13.998Z"
   },
   {
    "duration": 47,
    "start_time": "2022-10-28T17:25:41.135Z"
   },
   {
    "duration": 170,
    "start_time": "2022-10-28T17:27:59.381Z"
   },
   {
    "duration": 5,
    "start_time": "2022-10-28T17:28:38.114Z"
   },
   {
    "duration": 70,
    "start_time": "2022-10-28T17:31:17.176Z"
   },
   {
    "duration": 150,
    "start_time": "2022-10-28T17:33:47.547Z"
   },
   {
    "duration": 7,
    "start_time": "2022-10-28T17:34:50.480Z"
   },
   {
    "duration": 383,
    "start_time": "2022-10-28T17:39:08.876Z"
   },
   {
    "duration": 6,
    "start_time": "2022-10-28T17:39:18.016Z"
   },
   {
    "duration": 23,
    "start_time": "2022-10-28T17:39:29.343Z"
   },
   {
    "duration": 22,
    "start_time": "2022-10-28T17:39:33.328Z"
   },
   {
    "duration": 23,
    "start_time": "2022-10-28T17:39:38.607Z"
   },
   {
    "duration": 33,
    "start_time": "2022-10-28T17:39:43.701Z"
   },
   {
    "duration": 91,
    "start_time": "2022-10-28T17:40:00.505Z"
   },
   {
    "duration": 25,
    "start_time": "2022-10-28T17:40:00.784Z"
   },
   {
    "duration": 5,
    "start_time": "2022-10-28T17:40:00.935Z"
   },
   {
    "duration": 15,
    "start_time": "2022-10-28T17:40:01.058Z"
   },
   {
    "duration": 1924,
    "start_time": "2022-10-28T17:40:01.352Z"
   },
   {
    "duration": 255,
    "start_time": "2022-10-28T17:40:03.278Z"
   },
   {
    "duration": 8,
    "start_time": "2022-10-28T17:40:03.537Z"
   },
   {
    "duration": 10,
    "start_time": "2022-10-28T17:40:03.547Z"
   },
   {
    "duration": 9,
    "start_time": "2022-10-28T17:40:03.558Z"
   },
   {
    "duration": 26,
    "start_time": "2022-10-28T17:40:03.569Z"
   },
   {
    "duration": 8,
    "start_time": "2022-10-28T17:40:03.803Z"
   },
   {
    "duration": 12,
    "start_time": "2022-10-28T17:40:04.135Z"
   },
   {
    "duration": 199,
    "start_time": "2022-10-28T17:40:04.449Z"
   },
   {
    "duration": 7,
    "start_time": "2022-10-28T17:40:04.762Z"
   },
   {
    "duration": 6,
    "start_time": "2022-10-28T17:40:04.943Z"
   },
   {
    "duration": 25,
    "start_time": "2022-10-28T17:40:05.280Z"
   },
   {
    "duration": 10,
    "start_time": "2022-10-28T17:40:05.581Z"
   },
   {
    "duration": 6,
    "start_time": "2022-10-28T17:40:05.919Z"
   },
   {
    "duration": 116,
    "start_time": "2022-10-28T17:40:06.067Z"
   },
   {
    "duration": 7,
    "start_time": "2022-10-28T17:40:06.709Z"
   },
   {
    "duration": 162,
    "start_time": "2022-10-28T17:40:07.008Z"
   },
   {
    "duration": 7,
    "start_time": "2022-10-28T17:40:07.970Z"
   },
   {
    "duration": 6,
    "start_time": "2022-10-28T17:40:08.309Z"
   },
   {
    "duration": 7,
    "start_time": "2022-10-28T17:40:08.639Z"
   },
   {
    "duration": 5,
    "start_time": "2022-10-28T17:40:08.971Z"
   },
   {
    "duration": 20,
    "start_time": "2022-10-28T17:40:09.269Z"
   },
   {
    "duration": 11,
    "start_time": "2022-10-28T17:40:09.769Z"
   },
   {
    "duration": 14,
    "start_time": "2022-10-28T17:40:10.822Z"
   },
   {
    "duration": 9,
    "start_time": "2022-10-28T17:40:11.170Z"
   },
   {
    "duration": 14,
    "start_time": "2022-10-28T17:40:11.793Z"
   },
   {
    "duration": 293,
    "start_time": "2022-10-28T17:40:12.141Z"
   },
   {
    "duration": 13,
    "start_time": "2022-10-28T17:40:12.511Z"
   },
   {
    "duration": 297,
    "start_time": "2022-10-28T17:40:13.019Z"
   },
   {
    "duration": 308,
    "start_time": "2022-10-28T17:40:13.386Z"
   },
   {
    "duration": 209,
    "start_time": "2022-10-28T17:40:13.748Z"
   },
   {
    "duration": 451,
    "start_time": "2022-10-28T17:40:14.117Z"
   },
   {
    "duration": 212,
    "start_time": "2022-10-28T17:40:14.570Z"
   },
   {
    "duration": 180,
    "start_time": "2022-10-28T17:40:14.833Z"
   },
   {
    "duration": 202,
    "start_time": "2022-10-28T17:40:15.188Z"
   },
   {
    "duration": 7,
    "start_time": "2022-10-28T17:40:15.543Z"
   },
   {
    "duration": 183,
    "start_time": "2022-10-28T17:40:15.876Z"
   },
   {
    "duration": 319,
    "start_time": "2022-10-28T17:40:16.234Z"
   },
   {
    "duration": 458,
    "start_time": "2022-10-28T17:40:16.672Z"
   },
   {
    "duration": 511,
    "start_time": "2022-10-28T17:40:17.140Z"
   },
   {
    "duration": 317,
    "start_time": "2022-10-28T17:40:17.653Z"
   },
   {
    "duration": 458,
    "start_time": "2022-10-28T17:40:17.972Z"
   },
   {
    "duration": 340,
    "start_time": "2022-10-28T17:40:18.432Z"
   },
   {
    "duration": 28,
    "start_time": "2022-10-28T17:40:18.773Z"
   },
   {
    "duration": 623,
    "start_time": "2022-10-28T17:40:18.803Z"
   },
   {
    "duration": 151,
    "start_time": "2022-10-28T17:40:19.439Z"
   },
   {
    "duration": 163,
    "start_time": "2022-10-28T17:40:19.982Z"
   },
   {
    "duration": 5,
    "start_time": "2022-10-28T17:40:20.162Z"
   },
   {
    "duration": 175,
    "start_time": "2022-10-28T17:40:20.735Z"
   },
   {
    "duration": 7,
    "start_time": "2022-10-28T17:40:20.913Z"
   },
   {
    "duration": 158,
    "start_time": "2022-10-28T17:40:21.498Z"
   },
   {
    "duration": 26,
    "start_time": "2022-10-28T17:40:22.836Z"
   },
   {
    "duration": 9,
    "start_time": "2022-10-28T17:40:23.008Z"
   },
   {
    "duration": 8,
    "start_time": "2022-10-28T17:40:23.217Z"
   },
   {
    "duration": 20,
    "start_time": "2022-10-28T17:40:23.780Z"
   },
   {
    "duration": 137,
    "start_time": "2022-10-28T17:40:23.962Z"
   },
   {
    "duration": 159,
    "start_time": "2022-10-28T17:41:01.457Z"
   },
   {
    "duration": 157,
    "start_time": "2022-10-28T17:43:53.548Z"
   },
   {
    "duration": 147,
    "start_time": "2022-10-28T17:44:46.703Z"
   },
   {
    "duration": 152,
    "start_time": "2022-10-28T17:45:51.612Z"
   },
   {
    "duration": 144,
    "start_time": "2022-10-28T17:46:21.010Z"
   },
   {
    "duration": 151,
    "start_time": "2022-10-28T17:47:11.132Z"
   },
   {
    "duration": 148,
    "start_time": "2022-10-28T17:47:23.139Z"
   },
   {
    "duration": 153,
    "start_time": "2022-10-28T17:47:34.727Z"
   },
   {
    "duration": 133,
    "start_time": "2022-10-28T17:47:44.177Z"
   },
   {
    "duration": 147,
    "start_time": "2022-10-28T17:48:19.525Z"
   },
   {
    "duration": 273,
    "start_time": "2022-10-28T17:49:39.563Z"
   },
   {
    "duration": 204,
    "start_time": "2022-10-28T17:51:43.640Z"
   },
   {
    "duration": 158,
    "start_time": "2022-10-28T17:51:55.417Z"
   },
   {
    "duration": 157,
    "start_time": "2022-10-28T17:53:08.790Z"
   },
   {
    "duration": 91,
    "start_time": "2022-10-28T17:58:15.790Z"
   },
   {
    "duration": 151,
    "start_time": "2022-10-28T17:58:55.952Z"
   },
   {
    "duration": 45,
    "start_time": "2022-10-30T10:58:40.754Z"
   },
   {
    "duration": 527,
    "start_time": "2022-10-30T10:58:46.062Z"
   },
   {
    "duration": 29,
    "start_time": "2022-10-30T10:58:46.644Z"
   },
   {
    "duration": 3,
    "start_time": "2022-10-30T10:58:47.465Z"
   },
   {
    "duration": 22,
    "start_time": "2022-10-30T10:58:49.316Z"
   },
   {
    "duration": 20,
    "start_time": "2022-10-30T10:58:52.449Z"
   },
   {
    "duration": 4,
    "start_time": "2022-10-30T11:08:00.225Z"
   },
   {
    "duration": 4,
    "start_time": "2022-10-30T11:08:04.594Z"
   },
   {
    "duration": 81,
    "start_time": "2022-10-30T11:08:15.946Z"
   },
   {
    "duration": 5,
    "start_time": "2022-10-30T11:08:23.771Z"
   },
   {
    "duration": 4,
    "start_time": "2022-10-30T11:08:34.535Z"
   },
   {
    "duration": 40,
    "start_time": "2022-10-30T11:08:39.595Z"
   },
   {
    "duration": 467,
    "start_time": "2022-10-30T11:09:06.425Z"
   },
   {
    "duration": 426,
    "start_time": "2022-10-30T11:09:17.914Z"
   },
   {
    "duration": 9,
    "start_time": "2022-10-30T11:09:58.551Z"
   },
   {
    "duration": 311,
    "start_time": "2022-10-30T11:09:59.309Z"
   },
   {
    "duration": 300,
    "start_time": "2022-10-30T11:10:18.258Z"
   },
   {
    "duration": 6,
    "start_time": "2022-10-30T11:11:18.289Z"
   },
   {
    "duration": 86,
    "start_time": "2022-10-30T11:11:48.526Z"
   },
   {
    "duration": 4,
    "start_time": "2022-10-30T11:11:56.107Z"
   },
   {
    "duration": 462,
    "start_time": "2022-10-30T11:11:59.685Z"
   },
   {
    "duration": 421,
    "start_time": "2022-10-30T11:13:01.761Z"
   },
   {
    "duration": 79,
    "start_time": "2022-10-30T11:13:32.795Z"
   },
   {
    "duration": 300,
    "start_time": "2022-10-30T11:13:43.754Z"
   },
   {
    "duration": 82,
    "start_time": "2022-10-30T11:13:56.495Z"
   },
   {
    "duration": 7,
    "start_time": "2022-10-30T11:14:03.659Z"
   },
   {
    "duration": 303,
    "start_time": "2022-10-30T11:14:08.850Z"
   },
   {
    "duration": 7,
    "start_time": "2022-10-30T11:14:14.607Z"
   },
   {
    "duration": 315,
    "start_time": "2022-10-30T11:17:00.058Z"
   },
   {
    "duration": 5,
    "start_time": "2022-10-30T11:17:01.230Z"
   },
   {
    "duration": 98,
    "start_time": "2022-10-30T11:20:15.744Z"
   },
   {
    "duration": 356,
    "start_time": "2022-10-30T11:23:02.594Z"
   },
   {
    "duration": 5,
    "start_time": "2022-10-30T11:29:12.767Z"
   },
   {
    "duration": 1176,
    "start_time": "2022-10-30T11:29:54.624Z"
   },
   {
    "duration": 8,
    "start_time": "2022-10-30T11:30:27.074Z"
   },
   {
    "duration": 8,
    "start_time": "2022-10-30T11:30:45.003Z"
   },
   {
    "duration": 1124,
    "start_time": "2022-10-30T11:47:46.973Z"
   },
   {
    "duration": 1153,
    "start_time": "2022-10-30T11:48:09.651Z"
   },
   {
    "duration": 7,
    "start_time": "2022-10-30T11:48:17.907Z"
   },
   {
    "duration": 5,
    "start_time": "2022-10-30T11:48:28.575Z"
   },
   {
    "duration": 5,
    "start_time": "2022-10-30T11:49:22.278Z"
   },
   {
    "duration": 8,
    "start_time": "2022-10-30T11:49:35.887Z"
   },
   {
    "duration": 5,
    "start_time": "2022-10-30T11:49:41.339Z"
   },
   {
    "duration": 12,
    "start_time": "2022-10-30T11:50:02.512Z"
   },
   {
    "duration": 11,
    "start_time": "2022-10-30T11:55:47.924Z"
   },
   {
    "duration": 5,
    "start_time": "2022-10-30T11:55:59.939Z"
   },
   {
    "duration": 4,
    "start_time": "2022-10-30T11:56:04.134Z"
   },
   {
    "duration": 4,
    "start_time": "2022-10-30T11:56:09.283Z"
   },
   {
    "duration": 6,
    "start_time": "2022-10-30T11:56:21.854Z"
   },
   {
    "duration": 7,
    "start_time": "2022-10-30T11:56:30.881Z"
   },
   {
    "duration": 7,
    "start_time": "2022-10-30T11:56:43.485Z"
   },
   {
    "duration": 4,
    "start_time": "2022-10-30T11:56:51.677Z"
   },
   {
    "duration": 10,
    "start_time": "2022-10-30T12:00:14.518Z"
   },
   {
    "duration": 443,
    "start_time": "2022-10-30T12:01:45.534Z"
   },
   {
    "duration": 19,
    "start_time": "2022-10-30T12:07:16.154Z"
   },
   {
    "duration": 85,
    "start_time": "2022-10-30T12:07:26.858Z"
   },
   {
    "duration": 24,
    "start_time": "2022-10-30T12:07:38.612Z"
   },
   {
    "duration": 36,
    "start_time": "2022-10-30T12:07:49.195Z"
   },
   {
    "duration": 5,
    "start_time": "2022-10-30T12:08:11.192Z"
   },
   {
    "duration": 40,
    "start_time": "2022-10-30T12:08:11.848Z"
   },
   {
    "duration": 185,
    "start_time": "2022-10-30T12:22:14.040Z"
   },
   {
    "duration": 184,
    "start_time": "2022-10-30T12:23:26.152Z"
   },
   {
    "duration": 280,
    "start_time": "2022-10-30T12:23:39.229Z"
   },
   {
    "duration": 81,
    "start_time": "2022-10-30T12:32:09.292Z"
   },
   {
    "duration": 27,
    "start_time": "2022-10-30T12:32:09.583Z"
   },
   {
    "duration": 3,
    "start_time": "2022-10-30T12:32:09.735Z"
   },
   {
    "duration": 24,
    "start_time": "2022-10-30T12:32:09.904Z"
   },
   {
    "duration": 13,
    "start_time": "2022-10-30T12:32:10.079Z"
   },
   {
    "duration": 1999,
    "start_time": "2022-10-30T12:32:10.521Z"
   },
   {
    "duration": 150,
    "start_time": "2022-10-30T12:32:12.522Z"
   },
   {
    "duration": 7,
    "start_time": "2022-10-30T12:32:12.676Z"
   },
   {
    "duration": 4,
    "start_time": "2022-10-30T12:32:12.943Z"
   },
   {
    "duration": 8,
    "start_time": "2022-10-30T12:32:13.469Z"
   },
   {
    "duration": 29,
    "start_time": "2022-10-30T12:32:13.814Z"
   },
   {
    "duration": 7,
    "start_time": "2022-10-30T12:32:14.495Z"
   },
   {
    "duration": 10,
    "start_time": "2022-10-30T12:32:15.021Z"
   },
   {
    "duration": 165,
    "start_time": "2022-10-30T12:32:15.547Z"
   },
   {
    "duration": 7,
    "start_time": "2022-10-30T12:32:15.912Z"
   },
   {
    "duration": 6,
    "start_time": "2022-10-30T12:32:16.088Z"
   },
   {
    "duration": 30,
    "start_time": "2022-10-30T12:32:16.450Z"
   },
   {
    "duration": 323,
    "start_time": "2022-10-30T12:32:16.798Z"
   },
   {
    "duration": 12,
    "start_time": "2022-10-30T12:32:17.891Z"
   },
   {
    "duration": 118,
    "start_time": "2022-10-30T12:32:18.454Z"
   },
   {
    "duration": 5,
    "start_time": "2022-10-30T12:32:19.476Z"
   },
   {
    "duration": 119,
    "start_time": "2022-10-30T12:32:20.179Z"
   },
   {
    "duration": 6,
    "start_time": "2022-10-30T12:32:21.282Z"
   },
   {
    "duration": 6,
    "start_time": "2022-10-30T12:32:21.828Z"
   },
   {
    "duration": 8,
    "start_time": "2022-10-30T12:32:22.411Z"
   },
   {
    "duration": 5,
    "start_time": "2022-10-30T12:32:22.978Z"
   },
   {
    "duration": 17,
    "start_time": "2022-10-30T12:32:23.709Z"
   },
   {
    "duration": 10,
    "start_time": "2022-10-30T12:32:24.994Z"
   },
   {
    "duration": 14,
    "start_time": "2022-10-30T12:32:25.332Z"
   },
   {
    "duration": 8,
    "start_time": "2022-10-30T12:32:25.837Z"
   },
   {
    "duration": 11,
    "start_time": "2022-10-30T12:32:26.236Z"
   },
   {
    "duration": 343,
    "start_time": "2022-10-30T12:32:26.555Z"
   },
   {
    "duration": 8,
    "start_time": "2022-10-30T12:32:26.924Z"
   },
   {
    "duration": 331,
    "start_time": "2022-10-30T12:32:27.714Z"
   },
   {
    "duration": 266,
    "start_time": "2022-10-30T12:32:28.260Z"
   },
   {
    "duration": 181,
    "start_time": "2022-10-30T12:32:28.862Z"
   },
   {
    "duration": 276,
    "start_time": "2022-10-30T12:32:29.465Z"
   },
   {
    "duration": 171,
    "start_time": "2022-10-30T12:32:30.238Z"
   },
   {
    "duration": 159,
    "start_time": "2022-10-30T12:32:30.812Z"
   },
   {
    "duration": 205,
    "start_time": "2022-10-30T12:32:31.845Z"
   },
   {
    "duration": 6,
    "start_time": "2022-10-30T12:32:32.492Z"
   },
   {
    "duration": 269,
    "start_time": "2022-10-30T12:32:32.926Z"
   },
   {
    "duration": 294,
    "start_time": "2022-10-30T12:32:33.558Z"
   },
   {
    "duration": 408,
    "start_time": "2022-10-30T12:32:34.163Z"
   },
   {
    "duration": 255,
    "start_time": "2022-10-30T12:32:34.815Z"
   },
   {
    "duration": 303,
    "start_time": "2022-10-30T12:32:35.364Z"
   },
   {
    "duration": 541,
    "start_time": "2022-10-30T12:32:36.296Z"
   },
   {
    "duration": 289,
    "start_time": "2022-10-30T12:32:36.839Z"
   },
   {
    "duration": 31,
    "start_time": "2022-10-30T12:32:37.129Z"
   },
   {
    "duration": 501,
    "start_time": "2022-10-30T12:32:37.525Z"
   },
   {
    "duration": 131,
    "start_time": "2022-10-30T12:32:38.684Z"
   },
   {
    "duration": 143,
    "start_time": "2022-10-30T12:32:39.486Z"
   },
   {
    "duration": 5,
    "start_time": "2022-10-30T12:32:39.717Z"
   },
   {
    "duration": 139,
    "start_time": "2022-10-30T12:32:40.423Z"
   },
   {
    "duration": 5,
    "start_time": "2022-10-30T12:32:40.676Z"
   },
   {
    "duration": 174,
    "start_time": "2022-10-30T12:32:41.576Z"
   },
   {
    "duration": 257,
    "start_time": "2022-10-30T12:32:42.222Z"
   },
   {
    "duration": 180,
    "start_time": "2022-10-30T12:32:42.882Z"
   },
   {
    "duration": 152,
    "start_time": "2022-10-30T12:32:43.100Z"
   },
   {
    "duration": 23,
    "start_time": "2022-10-30T12:32:43.935Z"
   },
   {
    "duration": 8,
    "start_time": "2022-10-30T12:32:44.144Z"
   },
   {
    "duration": 8,
    "start_time": "2022-10-30T12:32:44.348Z"
   },
   {
    "duration": 166,
    "start_time": "2022-10-30T12:32:45.715Z"
   }
  ],
  "kernelspec": {
   "display_name": "Python 3 (ipykernel)",
   "language": "python",
   "name": "python3"
  },
  "language_info": {
   "codemirror_mode": {
    "name": "ipython",
    "version": 3
   },
   "file_extension": ".py",
   "mimetype": "text/x-python",
   "name": "python",
   "nbconvert_exporter": "python",
   "pygments_lexer": "ipython3",
   "version": "3.9.7"
  },
  "toc": {
   "base_numbering": 1,
   "nav_menu": {},
   "number_sections": true,
   "sideBar": true,
   "skip_h1_title": true,
   "title_cell": "Table of Contents",
   "title_sidebar": "Contents",
   "toc_cell": false,
   "toc_position": {},
   "toc_section_display": true,
   "toc_window_display": false
  }
 },
 "nbformat": 4,
 "nbformat_minor": 2
}
